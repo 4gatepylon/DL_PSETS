{
  "cells": [
    {
      "cell_type": "code",
      "execution_count": 2,
      "id": "84dfeb59",
      "metadata": {},
      "outputs": [
        {
          "data": {
            "text/plain": [
              "'\\nNOTE: you should do the following:\\n1. Have conda\\n2. `conda env create -n dl-pset3 python=3.12`\\n3. `conda activate dl-pset3`\\n4. `pip install -r requirements_pset3.txt`\\n5. From a terminal that is IN THAT CONDA ENV, run `jupyter notebook` (ideally using screen or tmux)\\n6. Connect via the URL it tells you using vscode or whatever. Then you can run this with all the dependencies.\\n'"
            ]
          },
          "execution_count": 2,
          "metadata": {},
          "output_type": "execute_result"
        }
      ],
      "source": [
        "\"\"\"\n",
        "NOTE: you should do the following:\n",
        "1. Have conda\n",
        "2. `conda env create -n dl-pset3 python=3.12`\n",
        "3. `conda activate dl-pset3`\n",
        "4. `pip install -r requirements_pset3.txt`\n",
        "5. From a terminal that is IN THAT CONDA ENV, run `jupyter notebook` (ideally using screen or tmux)\n",
        "6. Connect via the URL it tells you using vscode or whatever. Then you can run this with all the dependencies.\n",
        "\"\"\""
      ]
    },
    {
      "cell_type": "code",
      "execution_count": 3,
      "id": "47cd59de",
      "metadata": {
        "id": "47cd59de"
      },
      "outputs": [],
      "source": [
        "import torch\n",
        "import torch.nn as nn\n",
        "from typing import Tuple, Union, Optional, List\n",
        "import torchvision\n",
        "import torchvision.transforms as transforms\n",
        "import matplotlib.pyplot as plt\n",
        "import numpy as np\n",
        "import einops\n",
        "import subprocess\n",
        "import random\n",
        "import re\n",
        "from jaxtyping import Float, Int, Bool\n",
        "from typing import Dict, List, Optional, Any, Union, Tuple, Callable, Iterator, Iterable"
      ]
    },
    {
      "cell_type": "code",
      "execution_count": 4,
      "id": "cda7a542",
      "metadata": {},
      "outputs": [
        {
          "name": "stdout",
          "output_type": "stream",
          "text": [
            "Found device:  cuda:1\n"
          ]
        }
      ],
      "source": [
        "\"\"\"\n",
        "Add a script to be able to fetch the proper device for GPU. We run this sometimes\n",
        "on our own machines and there could be people sharing and we need to use different GPUs.\n",
        "\"\"\"\n",
        "def get_gpu_info():\n",
        "    try:\n",
        "        # Run nvidia-smi command\n",
        "        result = subprocess.run(['nvidia-smi'], stdout=subprocess.PIPE, text=True)\n",
        "        output = result.stdout\n",
        "\n",
        "        # Parse the output\n",
        "        gpu_info = []\n",
        "        memory_usage = re.findall(r'(\\d+)MiB\\s+/\\s+(\\d+)MiB', output)\n",
        "        processes = re.findall(r'\\|\\s+(\\d+)\\s+N/A\\s+N/A\\s+(\\d+)', output)\n",
        "\n",
        "        for i, (used, total) in enumerate(memory_usage):\n",
        "            available = int(total) - int(used)\n",
        "            has_process = any(int(gpu_id) == i for gpu_id, _ in processes)\n",
        "            gpu_info.append({\n",
        "                'gpu_id': i,\n",
        "                'available_memory': available,\n",
        "                'has_process': has_process\n",
        "            })\n",
        "\n",
        "        return gpu_info\n",
        "    except subprocess.CalledProcessError:\n",
        "        print(\"Error: Unable to run nvidia-smi. Make sure it's installed and in your PATH.\")\n",
        "        return None\n",
        "\n",
        "def get_available_device(\n",
        "    as_string: bool = False,\n",
        "    index: Optional[int] = None,\n",
        "    memory_needed_mb: int = 15_000,\n",
        "    in_use_ok: bool = True,\n",
        "    mps_osx_ok: bool = False,\n",
        "    randomize: bool = False,\n",
        "    preferred_indices: List[int] | int = [],\n",
        "    only_these_indices: Optional[List[int]] | int = None,\n",
        ") -> Union[torch.device, str]:\n",
        "    if index is not None:\n",
        "        return torch.device(f\"cuda:{index}\") if not as_string else f\"cuda:{index}\"\n",
        "    # Otherwise, find the best index to use!\n",
        "    try:\n",
        "        gpus = get_gpu_info()\n",
        "    except:\n",
        "        gpus = []\n",
        "    gpus = [] if gpus is None else gpus\n",
        "    gpus = [\n",
        "        gpu\n",
        "        for gpu in gpus\n",
        "        if gpu[\"available_memory\"] > memory_needed_mb\n",
        "        and (in_use_ok or not gpu[\"in_use\"])\n",
        "    ]\n",
        "    if len(gpus) == 0:\n",
        "        if mps_osx_ok and torch.backends.mps.is_available():\n",
        "            return torch.device(\"mps\")\n",
        "        return torch.device(\"cpu\")\n",
        "    # filter our preferred indices\n",
        "    if only_these_indices is not None:\n",
        "        only_these_indices = [only_these_indices] if isinstance(only_these_indices, int) else only_these_indices\n",
        "        gpus = [gpu for gpu in gpus if gpu[\"gpu_id\"] in only_these_indices]\n",
        "    # get da biggest boi\n",
        "    gpus = sorted(gpus, key=lambda x: x[\"available_memory\"], reverse=True)\n",
        "    # sort our priority ones into first spot if possible\n",
        "    # NOTE: https://docs.python.org/3/howto/sorting.html (sorts are guaranteed to be\n",
        "    # stable)\n",
        "    preferred_indices = [preferred_indices] if isinstance(preferred_indices, int) else preferred_indices\n",
        "    gpu2priority: Dict[int, int] = {\n",
        "        g[\"gpu_id\"]: (0 if g[\"gpu_id\"] in preferred_indices else 1) for g in gpus\n",
        "    }\n",
        "    gpus = sorted(gpus, key=lambda x: gpu2priority[x[\"gpu_id\"]], reverse=False)\n",
        "    # randomly select one of these guys\n",
        "    selector_index = random.randint(0, len(gpus) - 1) if randomize else 0\n",
        "    gpu_index = gpus[selector_index][\"gpu_id\"]\n",
        "    return torch.device(f\"cuda:{gpu_index}\") if not as_string else f\"cuda:{gpu_index}\"\n",
        "\n",
        "device = get_available_device(memory_needed_mb=80_000, as_string=True) # paranoid: use 55GB from A100 style GPU\n",
        "print(\"Found device: \", device)"
      ]
    },
    {
      "cell_type": "code",
      "execution_count": 5,
      "id": "baab5229",
      "metadata": {
        "id": "baab5229"
      },
      "outputs": [],
      "source": [
        "# a utility for calculating running average\n",
        "class AverageMeter():\n",
        "    def __init__(self):\n",
        "        self.num = 0\n",
        "        self.tot = 0\n",
        "\n",
        "    def update(self, val: float, sz: float):\n",
        "        self.num += val*sz\n",
        "        self.tot += sz\n",
        "\n",
        "    def calculate(self) -> float:\n",
        "        return self.num/self.tot"
      ]
    },
    {
      "cell_type": "markdown",
      "id": "6eb743ee",
      "metadata": {
        "id": "6eb743ee"
      },
      "source": [
        "# Problem 2: Implement a Transformer"
      ]
    },
    {
      "cell_type": "markdown",
      "id": "e6cffe0a",
      "metadata": {
        "id": "e6cffe0a"
      },
      "source": [
        "## Part 2.A"
      ]
    },
    {
      "cell_type": "code",
      "execution_count": 6,
      "id": "29fc4254",
      "metadata": {
        "id": "29fc4254"
      },
      "outputs": [],
      "source": [
        "class AttentionHead(nn.Module):\n",
        "    \"\"\" Single head attention. \"\"\"\n",
        "    def __init__(self, dim: int, n_hidden: int):\n",
        "        # dim: the dimension of the input\n",
        "        # n_hidden: the dimension of the keys, queries, and values\n",
        "\n",
        "        super().__init__()\n",
        "\n",
        "        self.W_K = nn.Linear(dim, n_hidden) # W_K weight matrix\n",
        "        self.W_Q = nn.Linear(dim, n_hidden) # W_Q weight matrix\n",
        "        self.W_V = nn.Linear(dim, n_hidden) # W_V weight matrix\n",
        "        self.n_hidden = n_hidden\n",
        "\n",
        "    def forward(\n",
        "            self,\n",
        "            x: Float[torch.Tensor, \"batch seq dim\"],\n",
        "            attn_mask: Optional[Float[torch.Tensor, \"batch seq_q seq_k\"]]\n",
        "        ) -> Tuple[Float[torch.Tensor, \"batch seq dim\"], Float[torch.Tensor, \"batch seq_q seq_k\"]]:\n",
        "        # x                the inputs. shape: (B x T x dim)\n",
        "        # attn_mask        an attention mask. If None, ignore. If not None, then mask[b, i, j]\n",
        "        #                  contains 1 if (in batch b) token i should attend on token j and 0\n",
        "        #                  otherwise. shape: (B x T x T)\n",
        "        #\n",
        "        # Outputs:\n",
        "        # attn_output      the output of performing self-attention on x. shape: (Batch x Num_tokens x n_hidden)\n",
        "        # alpha            the attention weights (after softmax). shape: (B x T x T)\n",
        "        #\n",
        "\n",
        "        out, alpha = None, None\n",
        "        #  Compute self attention on x.\n",
        "        #       (1) First project x to the query Q, key K, value V.\n",
        "        #       (2) Then compute the attention weights alpha as:\n",
        "        #                  alpha = softmax(QK^T/sqrt(n_hidden))\n",
        "        #           Make sure to take into account attn_mask such that token i does not attend on token\n",
        "        #           j if attn_mask[b, i, j] == 0. (Hint, in such a case, what value should you set the weight\n",
        "        #           to before the softmax so that after the softmax the value is 0?)\n",
        "        #       (3) The output is a linear combination of the values (weighted by the alphas):\n",
        "        #                  out = alpha V\n",
        "        #       (4) return the output and the alpha after the softmax\n",
        "\n",
        "        # ======= Answer START ========\n",
        "        keys = self.W_K(x)\n",
        "        queries = self.W_Q(x)\n",
        "        values = self.W_V(x)\n",
        "        table = einops.einsum(queries, keys, \"batch seq kq_dim, batch seq kq_dim -> batch seq seq\") / torch.sqrt(torch.tensor(self.n_hidden, dtype=torch.float32))\n",
        "        if attn_mask is not None:\n",
        "            table = table.masked_fill(attn_mask == 0, -float('inf')) \n",
        "        alpha = torch.softmax(table, dim=-1) # the attending amounts\n",
        "        out = alpha @ values # \"z\" acc. to transformer lens etc...\n",
        "        # ======= Answer  END ========\n",
        "        assert out is not None\n",
        "        assert alpha is not None\n",
        "\n",
        "        assert out.shape == x.shape\n",
        "\n",
        "        return out, alpha\n"
      ]
    },
    {
      "cell_type": "markdown",
      "id": "7d9cb9ad",
      "metadata": {
        "id": "7d9cb9ad"
      },
      "source": [
        "## Part 2.B"
      ]
    },
    {
      "cell_type": "code",
      "execution_count": 7,
      "id": "ddd56734",
      "metadata": {
        "id": "ddd56734"
      },
      "outputs": [],
      "source": [
        "class MultiHeadedAttention(nn.Module):\n",
        "    def __init__(self, dim: int, n_hidden: int, num_heads: int):\n",
        "        # dim: the dimension of the input\n",
        "        # n_hidden: the hidden dimenstion for the attention layer\n",
        "        # num_heads: the number of attention heads\n",
        "        super().__init__()\n",
        "\n",
        "        # TODO: set up your parameters for multi-head attention. You should initialize\n",
        "        #       num_heads attention heads (see nn.ModuleList) as well as a linear layer\n",
        "        #       that projects the concatenated outputs of each head into dim\n",
        "        #       (what size should this linear layer be?)\n",
        "\n",
        "        # ======= Answer START ========\n",
        "        # Just do it by using one big matrix for K, Q, V\n",
        "        self.W_K = nn.Linear(dim, n_hidden * num_heads)\n",
        "        self.W_Q = nn.Linear(dim, n_hidden * num_heads)\n",
        "        self.W_V = nn.Linear(dim, n_hidden * num_heads)\n",
        "        self.W_O = nn.Linear(n_hidden * num_heads, dim)\n",
        "        self.n_hidden = n_hidden\n",
        "        self.num_heads = num_heads\n",
        "\n",
        "        # ======= Answer  END ========\n",
        "\n",
        "    def forward(\n",
        "            self,\n",
        "            x: Float[torch.Tensor, \"batch seq dim\"],\n",
        "            attn_mask: Optional[Float[torch.Tensor, \"batch seq_q seq_k\"]]\n",
        "        ) -> Tuple[Float[torch.Tensor, \"batch seq dim\"], Float[torch.Tensor, \"batch head seq_q seq_k\"]]:\n",
        "        # x                the inputs. shape: (B x T x dim)\n",
        "        # attn_mask        an attention mask. If None, ignore. If not None, then mask[b, i, j]\n",
        "        #                  contains 1 if (in batch b) token i should attend on token j and 0\n",
        "        #                  otherwise. shape: (B x T x T)\n",
        "        #\n",
        "        # Outputs:\n",
        "        # attn_output      the output of performing multi-headed self-attention on x.\n",
        "        #                  shape: (B x T x dim)\n",
        "        # attn_alphas      the attention weights of each of the attention heads.\n",
        "        #                  shape: (B x Num_heads x T x T)\n",
        "\n",
        "        attn_output, attn_alphas = None, None\n",
        "\n",
        "        # Compute multi-headed attention. Loop through each of your attention heads\n",
        "        #       and collect the outputs. Concatenate them together along the hidden dimension,\n",
        "        #       and then project them back into the output dimension (dim). Return both\n",
        "        #       the final attention outputs as well as the alphas from each head.\n",
        "\n",
        "        # ======= Answer START ========\n",
        "        # batch calculate the keys, queries, values\n",
        "        keys_concatted = self.W_K(x)\n",
        "        queries_concatted = self.W_Q(x)\n",
        "        values_concatted = self.W_V(x)\n",
        "\n",
        "        # get the per-head values\n",
        "        keys = einops.rearrange(keys_concatted, \"batch seq (n_heads n_hidden) -> batch n_heads seq n_hidden\", n_heads=self.num_heads, n_hidden=self.n_hidden)\n",
        "        queries = einops.rearrange(queries_concatted, \"batch seq (n_heads n_hidden) -> batch n_heads seq n_hidden\", n_heads=self.num_heads, n_hidden=self.n_hidden)\n",
        "        values = einops.rearrange(values_concatted, \"batch seq (n_heads n_hidden) -> batch n_heads seq n_hidden\", n_heads=self.num_heads, n_hidden=self.n_hidden)\n",
        "        \n",
        "        # calculate the attention amounts PER head seperately\n",
        "        tables = einops.einsum(queries, keys, \"batch n_heads seq_q n_hidden, batch n_heads seq_k n_hidden -> batch n_heads seq_q seq_k\")\n",
        "        if attn_mask is not None:\n",
        "            # NOTE: dimension broadcasting won't work because the last indices won't match so you\n",
        "            # need to repeat to get the right shape\n",
        "            attn_mask = einops.repeat(attn_mask, \"batch seq_q seq_k -> batch n_heads seq_q seq_k\", n_heads=self.num_heads)\n",
        "            assert tables.shape == attn_mask.shape, f\"attention mask and tables have different shapes: {tables.shape} != {attn_mask.shape}\"\n",
        "            tables = tables.masked_fill(attn_mask == 0, -float('inf'))\n",
        "        \n",
        "        # calculate the attention SCOREs (after softmax: z)\n",
        "        alphas = torch.softmax(tables, dim=-1)\n",
        "        attn_alphas = alphas\n",
        "\n",
        "        # z is you matmul independently per head, then concatenate the results to get z_catted \n",
        "        # NOTE: each query pulls in the value corresponding to the linear combination it gets, which is over the keys\n",
        "        z = einops.einsum(alphas, values, \"batch n_heads seq_q seq_k, batch n_heads seq_k n_hidden -> batch n_heads seq_q n_hidden\")\n",
        "        z_concatted = einops.rearrange(z, \"batch n_heads seq_q n_hidden -> batch seq_q (n_heads n_hidden)\", n_heads=self.num_heads, n_hidden=self.n_hidden)\n",
        "        attn_output = self.W_O(z_concatted)\n",
        "\n",
        "        # ======= Answer END ========\n",
        "        assert attn_output is not None\n",
        "        assert attn_alphas is not None\n",
        "\n",
        "        assert attn_output.shape == x.shape\n",
        "\n",
        "        return attn_output, attn_alphas"
      ]
    },
    {
      "cell_type": "markdown",
      "id": "a8012740",
      "metadata": {
        "id": "a8012740"
      },
      "source": [
        "## Part 2.C"
      ]
    },
    {
      "cell_type": "code",
      "execution_count": 8,
      "id": "8531bc02",
      "metadata": {
        "id": "8531bc02"
      },
      "outputs": [],
      "source": [
        "# these are already implemented for you!\n",
        "\n",
        "class FFN(nn.Module):\n",
        "    def __init__(self, dim: int, n_hidden: int):\n",
        "        # dim       the dimension of the input\n",
        "        # n_hidden  the width of the linear layer\n",
        "\n",
        "        super().__init__()\n",
        "        self.net = nn.Sequential(\n",
        "            nn.LayerNorm(dim),\n",
        "            nn.Linear(dim, n_hidden),\n",
        "            nn.GELU(),\n",
        "            nn.Linear(n_hidden, dim),\n",
        "        )\n",
        "\n",
        "    def forward(self, x: Float[torch.Tensor, \"batch seq dim\"])-> Float[torch.Tensor, \"batch seq dim\"]:\n",
        "        # x         the input. shape: (B x T x dim)\n",
        "\n",
        "        # Outputs:\n",
        "        # out       the output of the feed-forward network: (B x T x dim)\n",
        "        return self.net(x)\n",
        "\n",
        "class AttentionResidual(nn.Module):\n",
        "    def __init__(self, dim: int, attn_dim: int, mlp_dim: int, num_heads: int):\n",
        "        # dim       the dimension of the input\n",
        "        # attn_dim  the hidden dimension of the attention layer\n",
        "        # mlp_dim   the hidden layer of the FFN\n",
        "        # num_heads the number of heads in the attention layer\n",
        "        super().__init__()\n",
        "        self.attn = MultiHeadedAttention(dim, attn_dim, num_heads)\n",
        "        self.ffn = FFN(dim, mlp_dim)\n",
        "\n",
        "    def forward(\n",
        "            self,\n",
        "            x: Float[torch.Tensor, \"batch seq dim\"],\n",
        "            attn_mask: Float[torch.Tensor, \"batch seq_q seq_k\"]\n",
        "        ) -> Tuple[Float[torch.Tensor, \"batch seq dim\"], Float[torch.Tensor, \"batch head seq_q seq_k\"]]:\n",
        "        # x                the inputs. shape: (B x T x dim)\n",
        "        # attn_mask        an attention mask. If None, ignore. If not None, then mask[b, i, j]\n",
        "        #                  contains 1 if (in batch b) token i should attend on token j and 0\n",
        "        #                  otherwise. shape: (B x T x T)\n",
        "        #\n",
        "        # Outputs:\n",
        "        # attn_output      shape: (B x T x dim)\n",
        "        # attn_alphas      the attention weights of each of the attention heads.\n",
        "        #                  shape: (B x Num_heads x T x T)\n",
        "\n",
        "        attn_out, alphas = self.attn(x=x, attn_mask=attn_mask)\n",
        "        x = attn_out + x\n",
        "        x = self.ffn(x) + x\n",
        "        return x, alphas"
      ]
    },
    {
      "cell_type": "code",
      "execution_count": 9,
      "id": "02c21aea",
      "metadata": {
        "id": "02c21aea"
      },
      "outputs": [],
      "source": [
        "class Transformer(nn.Module):\n",
        "    def __init__(self, dim: int, attn_dim: int, mlp_dim: int, num_heads: int, num_layers: int):\n",
        "        # dim       the dimension of the input\n",
        "        # attn_dim  the hidden dimension of the attention layer\n",
        "        # mlp_dim   the hidden layer of the FFN\n",
        "        # num_heads the number of heads in the attention layer\n",
        "        # num_layers the number of attention layers.\n",
        "        super().__init__()\n",
        "\n",
        "        # set up the parameters for the transformer!\n",
        "        #       You should set up num_layers of AttentionResiduals\n",
        "        #       nn.ModuleList will be helpful here.\n",
        "\n",
        "        # ======= Answer START ========\n",
        "        self.layers = nn.ModuleList([AttentionResidual(dim, attn_dim, mlp_dim, num_heads) for _ in range(num_layers)])\n",
        "        self.num_layers = num_layers\n",
        "        self.num_heads = num_heads\n",
        "        self.dim = dim\n",
        "        self.attn_dim = attn_dim\n",
        "        self.mlp_dim = mlp_dim\n",
        "\n",
        "    def forward(\n",
        "            self,\n",
        "            x: Float[torch.Tensor, \"batch seq dim\"],\n",
        "            attn_mask: Float[torch.Tensor, \"batch seq seq\"],\n",
        "            return_attn: bool = False\n",
        "        ) -> Tuple[Float[torch.Tensor, \"batch seq dim\"], Optional[Float[torch.Tensor, \"batch layer head seq_q seq_k\"]]]:\n",
        "        # x                the inputs. shape: (B x T x dim)\n",
        "        # attn_mask        an attention mask. Pass this to each of the AttentionResidual layers!\n",
        "        #                  shape: (B x T x T)\n",
        "        #\n",
        "        # Outputs:\n",
        "        # attn_output      shape: (B x T x dim)\n",
        "        # attn_alphas      If return_attn is False, return None. Otherwise return the attention weights\n",
        "        #                  of each of each of the attention heads for each of the layers.\n",
        "        #                  shape: (B x Num_layers x Num_heads x T x T)\n",
        "        # NOTE: slight device bug in their testing code, need smae device; do it transformer and not below\n",
        "        # so that we are not running the risk of bad perf.\n",
        "        _device = next(self.parameters()).device\n",
        "        if x.device != _device:\n",
        "            x = x.to(_device)\n",
        "        if attn_mask is not None and attn_mask.device != x.device:\n",
        "            attn_mask = attn_mask.to(x.device)\n",
        "\n",
        "        output, collected_attns = None, None\n",
        "\n",
        "        # Implement the transformer forward pass! Pass the input successively through each of the\n",
        "        # AttentionResidual layers. If return_attn is True, collect the alphas along the way.\n",
        "\n",
        "        # ======= Answer START ========\n",
        "        # NOTE: we should use jaxtyping?!\n",
        "        # NOTE: we should actually wrap everything for better hooks usage\n",
        "        residual_stream: Float[torch.Tensor, \"batch seq dim\"] = x\n",
        "        collected_attns: List[Float[torch.Tensor, \"batch layer head seq_q seq_k\"]] = []\n",
        "        for layer in self.layers:\n",
        "            residual_stream, alphas = layer(residual_stream, attn_mask)\n",
        "            if return_attn:\n",
        "                collected_attns.append(alphas)\n",
        "        output = residual_stream\n",
        "        # ======= Answer END ========\n",
        "        assert output is not None\n",
        "        assert collected_attns is not None\n",
        "\n",
        "        attn_alphas: Optional[Float[torch.Tensor, \"batch layer head seq_q seq_k\"]] = None\n",
        "        if return_attn:\n",
        "            attn_alphas = torch.stack(collected_attns, dim=0)\n",
        "            attn_alphas = einops.rearrange(\n",
        "                attn_alphas,\n",
        "                \"layer batch head seq_q seq_k -> batch layer head seq_q seq_k\",\n",
        "                layer=self.num_layers,\n",
        "                head=self.num_heads,\n",
        "                batch=x.shape[0],\n",
        "                seq_q=x.shape[1],\n",
        "                seq_k=x.shape[1]\n",
        "            )\n",
        "        return output, attn_alphas\n"
      ]
    },
    {
      "cell_type": "markdown",
      "id": "643d379b",
      "metadata": {
        "id": "643d379b"
      },
      "source": [
        "Test your transformer implementation here"
      ]
    },
    {
      "cell_type": "code",
      "execution_count": 10,
      "id": "9aaa156e",
      "metadata": {
        "id": "9aaa156e"
      },
      "outputs": [
        {
          "name": "stdout",
          "output_type": "stream",
          "text": [
            "Test Case 1\n",
            "Test Case 2\n",
            "Test Case 3\n",
            "Attention mask pattern tensor([[1., 0., 0.,  ..., 0., 0., 0.],\n",
            "        [1., 1., 0.,  ..., 0., 0., 0.],\n",
            "        [0., 1., 1.,  ..., 0., 0., 0.],\n",
            "        ...,\n",
            "        [0., 0., 0.,  ..., 1., 0., 0.],\n",
            "        [0., 0., 0.,  ..., 1., 1., 0.],\n",
            "        [0., 0., 0.,  ..., 0., 1., 1.]], device='cuda:1')\n",
            "Alpha pattern tensor([[1.0000, 0.0000, 0.0000,  ..., 0.0000, 0.0000, 0.0000],\n",
            "        [0.4476, 0.5524, 0.0000,  ..., 0.0000, 0.0000, 0.0000],\n",
            "        [0.0000, 0.3375, 0.6625,  ..., 0.0000, 0.0000, 0.0000],\n",
            "        ...,\n",
            "        [0.0000, 0.0000, 0.0000,  ..., 0.1878, 0.0000, 0.0000],\n",
            "        [0.0000, 0.0000, 0.0000,  ..., 0.9560, 0.0440, 0.0000],\n",
            "        [0.0000, 0.0000, 0.0000,  ..., 0.0000, 0.2689, 0.7311]],\n",
            "       device='cuda:1')\n",
            "Test Case 4\n"
          ]
        }
      ],
      "source": [
        "def perform_transformer_test_cases():\n",
        "    num_tokens = 100\n",
        "    batch_size = 10\n",
        "    dim = 64\n",
        "    num_layers = 4\n",
        "    num_heads = 2\n",
        "    dummy_model = Transformer(dim=dim, attn_dim=32, mlp_dim=dim, num_heads=num_heads, num_layers=num_layers).to(device)\n",
        "\n",
        "    inp = torch.randn(batch_size, num_tokens, dim).to(device)\n",
        "\n",
        "    # test case 1 regular forward pass\n",
        "    print(\"Test Case 1\")\n",
        "    with torch.no_grad():\n",
        "        output, alpha = dummy_model(inp, attn_mask=None)\n",
        "        assert alpha is None\n",
        "        assert output.shape == (batch_size, num_tokens, dim), f\"wrong output shape {output.shape}\"\n",
        "\n",
        "    # test case 2 collect attentions\n",
        "    print(\"Test Case 2\")\n",
        "    with torch.no_grad():\n",
        "        output, alpha = dummy_model(inp, attn_mask=None, return_attn=True)\n",
        "        assert output.shape == (batch_size, num_tokens, dim), f\"wrong output shape {output.shape}\"\n",
        "        assert alpha.shape == (batch_size, num_layers, num_heads, num_tokens, num_tokens), f\"wrong alpha shape {alpha.shape}\"\n",
        "\n",
        "    print(\"Test Case 3\")\n",
        "    # test case 3 with attention mask\n",
        "    attn_mask = torch.zeros(batch_size, num_tokens, num_tokens).to(device)\n",
        "    attn_mask[:, torch.arange(num_tokens), torch.arange(num_tokens)] = 1\n",
        "    attn_mask[:, torch.arange(num_tokens)[1:], torch.arange(num_tokens)[:-1]] = 1\n",
        "    with torch.no_grad():\n",
        "        output, alpha = dummy_model(inp, attn_mask=attn_mask, return_attn=True)\n",
        "        print(\"Attention mask pattern\", attn_mask[0])\n",
        "        print(\"Alpha pattern\", alpha[0, 0, 0])\n",
        "        assert torch.all(alpha.permute(1, 2, 0, 3, 4)[:, :, attn_mask == 0] == 0).item()\n",
        "\n",
        "    print(\"Test Case 4\")\n",
        "    # test case 4 creates a causal mask where each token can only attend to previous tokens and itself\n",
        "    causal_mask = torch.tril(torch.ones(num_tokens, num_tokens)).unsqueeze(0).repeat(batch_size, 1, 1)  # Shape: (B, T, T)\n",
        "\n",
        "    with torch.no_grad():\n",
        "        output, alpha = dummy_model(inp, attn_mask=causal_mask, return_attn=True)\n",
        "        # Verify the causal mask\n",
        "        for b in range(batch_size):\n",
        "            for l in range(num_layers):\n",
        "                for h in range(num_heads):\n",
        "                    attn_weights = alpha[b, l, h]  # Shape: (T, T)\n",
        "                    # Positions where j > i should have zero attention weights\n",
        "                    # We can create a boolean mask for j > i\n",
        "                    future_mask = torch.triu(torch.ones(num_tokens, num_tokens), diagonal=1).bool()  # Shape: (T, T)\n",
        "                    # Extract attention weights for future positions\n",
        "                    future_attn = attn_weights[future_mask]\n",
        "                    # Assert that these weights are close to zero\n",
        "                    assert torch.all(future_attn < 1e-6), f\"Causal mask violated in batch {b}, layer {l}, head {h}\"\n",
        "\n",
        "perform_transformer_test_cases()"
      ]
    },
    {
      "cell_type": "markdown",
      "id": "5afc7e9b",
      "metadata": {
        "id": "5afc7e9b"
      },
      "source": [
        "## Problem 3: Vision Transformer"
      ]
    },
    {
      "cell_type": "markdown",
      "id": "67b725d5",
      "metadata": {
        "id": "67b725d5"
      },
      "source": [
        "## Part 3.A"
      ]
    },
    {
      "cell_type": "code",
      "execution_count": 11,
      "id": "0dc4ea76",
      "metadata": {
        "id": "0dc4ea76"
      },
      "outputs": [],
      "source": [
        "class PatchEmbed(nn.Module):\n",
        "    \"\"\" Image to Patch Embedding\n",
        "    \"\"\"\n",
        "    def __init__(self, img_size: int, patch_size: int, nin: int, nout: int):\n",
        "        # img_size       the width and height of the image. you can assume that\n",
        "        #                the images will be square\n",
        "        # patch_size     the width of each square patch. You can assume that\n",
        "        #                img_size is divisible by patch_size\n",
        "        # nin            the number of input channels\n",
        "        # nout           the number of output channels\n",
        "\n",
        "        super().__init__()\n",
        "        assert img_size % patch_size == 0\n",
        "\n",
        "        self.img_size = img_size\n",
        "        self.patch_size = patch_size\n",
        "        assert self.img_size % self.patch_size == 0\n",
        "        self.num_patches = (img_size // patch_size)**2\n",
        "        self.nin = nin\n",
        "        self.nout = nout\n",
        "\n",
        "        # TODO Set up parameters for the Patch Embedding\n",
        "        # ======= Answer START ========\n",
        "        self.patch_proj = nn.Linear(patch_size**2 * nin, nout)\n",
        "        # ======= Answer END ========\n",
        "\n",
        "    def forward(self, x: Float[torch.Tensor, \"batch nin height width\"]) -> Float[torch.Tensor, \"batch num_patches nout\"]:\n",
        "        # x        the input image. shape: (B, nin, Height, Width)\n",
        "        #\n",
        "        # Output\n",
        "        # out      the patch embeddings for the input. shape: (B, num_patches, nout)\n",
        "        assert x.shape[1] == self.nin\n",
        "        assert x.shape[2] == self.img_size\n",
        "        assert x.shape[3] == self.img_size\n",
        "        assert x.shape[2] % self.patch_size == 0\n",
        "        assert x.shape[3] % self.patch_size == 0\n",
        "        _batch_size = x.shape[0]\n",
        "\n",
        "        _device = next(self.parameters()).device\n",
        "        if x.device != _device:\n",
        "            x = x.to(_device)\n",
        "\n",
        "        # TODO: Implement the patch embedding. You want to split up the image into\n",
        "        # square patches of the given patch size. Then each patch_size x patch_size\n",
        "        # square should be linearly projected into an embedding of size nout.\n",
        "        #\n",
        "        # Hint: Take a look at nn.Conv2d. How can this be used to perform the\n",
        "        #       patch embedding?\n",
        "        out = None\n",
        "\n",
        "        # ======= Answer START ========\n",
        "        blocks = einops.rearrange(\n",
        "            x,\n",
        "            # (block_height, block_width) = number of blocks (i.e. number of tokens/patches)\n",
        "            \"batch nin (num_blocks_height patch_size_height) (num_blocks_width patch_size_width) -> batch (num_blocks_height num_blocks_width) (patch_size_height patch_size_width nin)\",\n",
        "            batch=x.shape[0],\n",
        "            nin=self.nin,\n",
        "            num_blocks_height=self.img_size // self.patch_size,\n",
        "            num_blocks_width=self.img_size // self.patch_size,\n",
        "            patch_size_height=self.patch_size,\n",
        "            patch_size_width=self.patch_size\n",
        "        )\n",
        "        assert blocks.shape == (_batch_size, self.num_patches, self.patch_size**2 * self.nin), f\"wrong blocks shape {blocks.shape}, should be {(_batch_size, self.num_patches, self.patch_size**2 * self.nin)}\"\n",
        "        out = self.patch_proj(blocks)\n",
        "        # ======= Answer END ========\n",
        "        assert out.shape == (_batch_size, self.num_patches, self.nout), f\"wrong output shape {out.shape}, should be {(_batch_size, self.num_patches, self.nout)}\"\n",
        "        return out"
      ]
    },
    {
      "cell_type": "markdown",
      "id": "57d32978",
      "metadata": {
        "id": "57d32978"
      },
      "source": [
        "## Part 3.B"
      ]
    },
    {
      "cell_type": "code",
      "execution_count": 12,
      "id": "df3d8a7a",
      "metadata": {
        "id": "df3d8a7a"
      },
      "outputs": [],
      "source": [
        "class VisionTransformer(nn.Module):\n",
        "    def __init__(\n",
        "        self,\n",
        "        n_channels: int,\n",
        "        nout: int,\n",
        "        img_size: int,\n",
        "        patch_size: int,\n",
        "        dim: int,\n",
        "        attn_dim: int,\n",
        "        mlp_dim: int,\n",
        "        num_heads: int,\n",
        "        num_layers: int\n",
        "    ):\n",
        "        # n_channels       number of input image channels\n",
        "        # nout             desired output dimension\n",
        "        # img_size         width of the square image\n",
        "        # patch_size       width of the square patch\n",
        "        # dim              embedding dimension\n",
        "        # attn_dim         the hidden dimension of the attention layer\n",
        "        # mlp_dim          the hidden layer dimension of the FFN\n",
        "        # num_heads        the number of heads in the attention layer\n",
        "        # num_layers       the number of attention layers.\n",
        "        super().__init__()\n",
        "        self.patch_embed = PatchEmbed(img_size=img_size, patch_size=patch_size, nin=n_channels, nout=dim)\n",
        "        self.pos_E = nn.Embedding((img_size//patch_size)**2, dim) # positional embedding matrix\n",
        "\n",
        "        self.cls_token = nn.Parameter(torch.randn(1, 1, dim)) # learned class embedding\n",
        "        self.transformer = Transformer(\n",
        "            dim=dim, attn_dim=attn_dim, mlp_dim=mlp_dim, num_heads=num_heads, num_layers=num_layers)\n",
        "\n",
        "        self.head = nn.Sequential(\n",
        "            nn.LayerNorm(dim),\n",
        "            nn.Linear(dim, nout)\n",
        "        )\n",
        "\n",
        "\n",
        "    def forward(self, img: torch.Tensor, return_attn=False) ->Tuple[torch.Tensor, Optional[torch.Tensor]]:\n",
        "        # img          the input image. shape: (B, nin, img_size, img_size)\n",
        "        # return_attn  whether to return the attention alphas\n",
        "        #\n",
        "        # Outputs\n",
        "        # out          the output of the vision transformer. shape: (B, nout)\n",
        "        # alphas       the attention weights for all heads and layers. None if return_attn is False, otherwise\n",
        "        #              shape: (B, num_layers, num_heads, num_patches + 1, num_patches + 1)\n",
        "        # NOTE: again they didn't use the right device\n",
        "        _device = next(self.parameters()).device\n",
        "        if img.device != _device:\n",
        "            img = img.to(_device)\n",
        "\n",
        "        # generate embeddings\n",
        "        embs = self.patch_embed(img) # patch embedding\n",
        "        B, T, _ = embs.shape\n",
        "        pos_ids = torch.arange(T).expand(B, -1).to(embs.device)\n",
        "        embs += self.pos_E(pos_ids) # positional embedding\n",
        "\n",
        "        cls_token = self.cls_token.expand(len(embs), -1, -1)\n",
        "        x = torch.cat([cls_token, embs], dim=1)\n",
        "\n",
        "        x, alphas = self.transformer(x, attn_mask=None, return_attn=return_attn)\n",
        "        out = self.head(x)[:, 0]\n",
        "        return out, alphas\n",
        "\n"
      ]
    },
    {
      "cell_type": "markdown",
      "id": "8bcc81df",
      "metadata": {
        "id": "8bcc81df"
      },
      "source": [
        "## Part 3.C"
      ]
    },
    {
      "cell_type": "code",
      "execution_count": 13,
      "id": "e1107044",
      "metadata": {
        "id": "e1107044"
      },
      "outputs": [
        {
          "name": "stdout",
          "output_type": "stream",
          "text": [
            "Files already downloaded and verified\n"
          ]
        }
      ],
      "source": [
        "# set up the dataset and dataloader\n",
        "\n",
        "MEAN = [0.4914, 0.4822, 0.4465]\n",
        "STD = [0.2470, 0.2435, 0.2616]\n",
        "img_transform = transforms.Compose([\n",
        "    transforms.ToTensor(),\n",
        "    transforms.Normalize(mean=MEAN, std=STD),\n",
        "])\n",
        "inv_transform = transforms.Compose([\n",
        "    transforms.Normalize(\n",
        "        mean = [ 0., 0., 0. ],\n",
        "        std = 1/np.array(STD)),\n",
        "    transforms.Normalize(\n",
        "        mean = -np.array(MEAN),\n",
        "        std = [ 1., 1., 1. ]),\n",
        "    transforms.ToPILImage(),\n",
        "])\n",
        "\n",
        "\n",
        "train_dataset = torchvision.datasets.CIFAR10(train=True, root='data', transform=img_transform, download=True)\n",
        "val_dataset = torchvision.datasets.CIFAR10(train=False, root='data', transform=img_transform)\n",
        "train_dataloader = torch.utils.data.DataLoader(train_dataset, batch_size=256, shuffle=True, num_workers=10)\n",
        "val_dataloader = torch.utils.data.DataLoader(val_dataset, batch_size=256, shuffle=False, num_workers=10)"
      ]
    },
    {
      "cell_type": "code",
      "execution_count": 14,
      "id": "2540d4b3",
      "metadata": {
        "id": "2540d4b3"
      },
      "outputs": [],
      "source": [
        "# set up the model and optimizer\n",
        "\n",
        "import torch.optim as optim\n",
        "from pathlib import Path\n",
        "\n",
        "# Model it to be roughly the same size as GPT-2 divided by 1.5 ish\n",
        "model = VisionTransformer(\n",
        "    n_channels=3,\n",
        "    nout=10,\n",
        "    img_size=32,\n",
        "    patch_size=4,\n",
        "    dim=512,\n",
        "    attn_dim=512 //  16,\n",
        "    mlp_dim=4 * 512,\n",
        "    num_heads=16,\n",
        "    num_layers=12\n",
        ")\n",
        "\n",
        "# Should load from checkpoint if we want to continue training from there\n",
        "# We should load the annealing, etc... scheduler but whatever :P\n",
        "load_from: Optional[Path] = None # Path(\"/mnt/align3_drive/adrianoh/dl_pset_3/after_epoch_10.pt\")\n",
        "STARTING_EPOCH: int = 0 # 11\n",
        "if load_from is not None:\n",
        "    model.load_state_dict(torch.load(load_from))\n",
        "model = model.to(device)\n",
        "\n",
        "criterion = nn.CrossEntropyLoss()\n",
        "\n",
        "\n",
        "NUM_EPOCHS = 800\n",
        "optimizer = optim.AdamW(model.parameters(), lr=0.001) # 1 and 0.1 diverge LMAO\n",
        "scheduler = optim.lr_scheduler.CosineAnnealingLR(optimizer, T_max=NUM_EPOCHS)\n",
        "\n"
      ]
    },
    {
      "cell_type": "code",
      "execution_count": 15,
      "id": "147e1bc8",
      "metadata": {
        "id": "147e1bc8"
      },
      "outputs": [],
      "source": [
        "# evaluate the model\n",
        "def evaluate_cifar_model(model, criterion, val_loader):\n",
        "    is_train = model.training\n",
        "    model.eval()\n",
        "    with torch.no_grad():\n",
        "        loss_meter, acc_meter = AverageMeter(), AverageMeter()\n",
        "        for img, labels in val_loader:\n",
        "            # move all img, labels to device (cuda)\n",
        "            img = img.to(device)\n",
        "            labels = labels.to(device)\n",
        "            outputs, _ = model(img)\n",
        "            loss_meter.update(criterion(outputs, labels).item(), len(img))\n",
        "            acc = (outputs.argmax(-1) == labels).float().mean().item()\n",
        "            acc_meter.update(acc, len(img))\n",
        "    model.train(is_train)\n",
        "    return loss_meter.calculate(), acc_meter.calculate()"
      ]
    },
    {
      "cell_type": "code",
      "execution_count": 16,
      "id": "d69183ce",
      "metadata": {
        "id": "d69183ce"
      },
      "outputs": [
        {
          "name": "stderr",
          "output_type": "stream",
          "text": [
            "100%|███████████████████████████████████████████████████████████████████████████| 196/196 [00:30<00:00,  6.48it/s]\n"
          ]
        },
        {
          "name": "stdout",
          "output_type": "stream",
          "text": [
            "Train Epoch: 0, Loss: 2.383528935394287, Acc: 0.10384\n"
          ]
        },
        {
          "name": "stderr",
          "output_type": "stream",
          "text": [
            "\n"
          ]
        },
        {
          "name": "stdout",
          "output_type": "stream",
          "text": [
            "Train Epoch: 1, Loss: nan, Acc: 0.09982\n"
          ]
        },
        {
          "name": "stderr",
          "output_type": "stream",
          "text": [
            "100%|███████████████████████████████████████████████████████████████████████████| 196/196 [00:29<00:00,  6.61it/s]\n"
          ]
        },
        {
          "name": "stdout",
          "output_type": "stream",
          "text": [
            "Train Epoch: 2, Loss: nan, Acc: 0.10000000000238418\n"
          ]
        },
        {
          "name": "stderr",
          "output_type": "stream",
          "text": [
            " 46%|██████████████████████████████████▉                                         | 90/196 [00:13<00:15,  6.66it/s]"
          ]
        }
      ],
      "source": [
        "# Time Estimate: less than 5 minutes on T4 GPU\n",
        "# train the model\n",
        "from pathlib import Path\n",
        "save_to_dir = Path(\"/mnt/align3_drive/adrianoh/dl_pset_3\")\n",
        "if not save_to_dir.exists():\n",
        "    save_to_dir.mkdir(parents=True)\n",
        "save_to_dir_q: bool = True\n",
        "\n",
        "import tqdm\n",
        "for epoch in range(STARTING_EPOCH, NUM_EPOCHS):  #\n",
        "    loss_meter = AverageMeter()\n",
        "    acc_meter = AverageMeter()\n",
        "    for img, labels in tqdm.tqdm(train_dataloader):\n",
        "        img, labels = img.to(device), labels.to(device)\n",
        "\n",
        "        optimizer.zero_grad()\n",
        "\n",
        "        outputs, _ = model(img)\n",
        "        loss = criterion(outputs, labels)\n",
        "        loss_meter.update(loss.item(), len(img))\n",
        "        acc = (outputs.argmax(-1) == labels).float().mean().item()\n",
        "        acc_meter.update(acc, len(img))\n",
        "        loss.backward()\n",
        "        optimizer.step()\n",
        "    scheduler.step()\n",
        "    print(f\"Train Epoch: {epoch}, Loss: {loss_meter.calculate()}, Acc: {acc_meter.calculate()}\")\n",
        "    if epoch % 10 == 0:\n",
        "        val_loss, val_acc = evaluate_cifar_model(model, criterion, val_dataloader)\n",
        "        print(f\"Val Epoch: {epoch}, Loss: {val_loss}, Acc: {val_acc}\")\n",
        "        if save_to_dir_q:\n",
        "            _state_dict = model.state_dict()\n",
        "            # put everything on cpu first\n",
        "            _state_dict = {k: v.cpu() for k, v in _state_dict.items()}\n",
        "            file = save_to_dir / f\"after_epoch_{epoch}.pt\"\n",
        "            if file.exists():\n",
        "                raise ValueError(f\"File {file.as_posix()} already exists\")\n",
        "            torch.save(_state_dict, file)\n",
        "            print(\"JUST SAVED: \", file.as_posix())\n",
        "\n",
        "val_loss, val_acc = evaluate_cifar_model(model, criterion, val_dataloader)\n",
        "print(f\"Val Epoch: {epoch}, Loss: {val_loss}, Acc: {val_acc}\")\n",
        "print('Finished Training')"
      ]
    },
    {
      "cell_type": "markdown",
      "id": "22a64f80",
      "metadata": {
        "id": "22a64f80"
      },
      "source": [
        "# Part 3.D"
      ]
    },
    {
      "cell_type": "code",
      "execution_count": 15,
      "id": "d90ecba6",
      "metadata": {
        "id": "d90ecba6"
      },
      "outputs": [
        {
          "data": {
            "image/png": "[encoded data removed]",
            "text/plain": [
              "<Figure size 1000x200 with 20 Axes>"
            ]
          },
          "metadata": {},
          "output_type": "display_data"
        }
      ],
      "source": [
        "for val_batch in val_dataloader:\n",
        "    break\n",
        "\n",
        "model.eval()\n",
        "with torch.no_grad():\n",
        "    img, labels = val_batch\n",
        "    img = img.to(device)\n",
        "    outputs, attns = model(img, return_attn=True)\n",
        "\n",
        "fig, ax = plt.subplots(2, 10, figsize=(10, 2))\n",
        "for i in range(10):\n",
        "    flattened_attns = attns.flatten(1,2)[:, :, 0, 1:].mean(1).reshape(-1, 8, 8).cpu().numpy()\n",
        "    ax[0, i].imshow(inv_transform(img[i]))\n",
        "    ax[1, i].imshow(flattened_attns[i])\n",
        "    ax[0, i].axis(False)\n",
        "    ax[1, i].axis(False)"
      ]
    },
    {
      "cell_type": "markdown",
      "id": "3096185a",
      "metadata": {
        "id": "3096185a"
      },
      "source": [
        "# Problem 4: Dialogue GPT"
      ]
    },
    {
      "cell_type": "code",
      "execution_count": 16,
      "id": "13a6fe8d",
      "metadata": {
        "id": "13a6fe8d"
      },
      "outputs": [],
      "source": [
        "import wget\n",
        "import os\n",
        "if not os.path.exists(\"input.txt\"):\n",
        "    wget.download(\"https://raw.githubusercontent.com/karpathy/char-rnn/master/data/tinyshakespeare/input.txt\")"
      ]
    },
    {
      "cell_type": "code",
      "execution_count": 17,
      "id": "8c9133dc",
      "metadata": {
        "id": "8c9133dc"
      },
      "outputs": [],
      "source": [
        "with open('input.txt', 'r') as f:\n",
        "    raw_text = f.read()\n",
        "all_dialogues = raw_text.split('\\n\\n')\n"
      ]
    },
    {
      "cell_type": "code",
      "execution_count": 18,
      "id": "8e2d6861",
      "metadata": {
        "id": "8e2d6861"
      },
      "outputs": [
        {
          "name": "stderr",
          "output_type": "stream",
          "text": [
            "[nltk_data] Downloading package punkt to\n",
            "[nltk_data]     /afs/csail.mit.edu/u/a/adrianoh/nltk_data...\n",
            "[nltk_data]   Unzipping tokenizers/punkt.zip.\n"
          ]
        },
        {
          "data": {
            "text/plain": [
              "True"
            ]
          },
          "execution_count": 18,
          "metadata": {},
          "output_type": "execute_result"
        }
      ],
      "source": [
        "import nltk\n",
        "from nltk.tokenize import word_tokenize\n",
        "nltk.download('punkt')\n",
        "nltk.download('punkt_tab')\n"
      ]
    },
    {
      "cell_type": "markdown",
      "id": "ccb804ff",
      "metadata": {
        "id": "ccb804ff"
      },
      "source": [
        "## Part 4.A"
      ]
    },
    {
      "cell_type": "code",
      "execution_count": 19,
      "id": "20f26a57",
      "metadata": {
        "id": "20f26a57"
      },
      "outputs": [
        {
          "ename": "LookupError",
          "evalue": "\n**********************************************************************\n  Resource \u001b[93mpunkt_tab\u001b[0m not found.\n  Please use the NLTK Downloader to obtain the resource:\n\n  \u001b[31m>>> import nltk\n  >>> nltk.download('punkt_tab')\n  \u001b[0m\n  For more information see: https://www.nltk.org/data.html\n\n  Attempted to load \u001b[93mtokenizers/punkt_tab/english/\u001b[0m\n\n  Searched in:\n    - '/afs/csail.mit.edu/u/a/adrianoh/nltk_data'\n    - '/mnt/align3_drive/adrianoh/miniconda3/envs/dl-pset3/nltk_data'\n    - '/mnt/align3_drive/adrianoh/miniconda3/envs/dl-pset3/share/nltk_data'\n    - '/mnt/align3_drive/adrianoh/miniconda3/envs/dl-pset3/lib/nltk_data'\n    - '/usr/share/nltk_data'\n    - '/usr/local/share/nltk_data'\n    - '/usr/lib/nltk_data'\n    - '/usr/local/lib/nltk_data'\n**********************************************************************\n",
          "output_type": "error",
          "traceback": [
            "\u001b[0;31m---------------------------------------------------------------------------\u001b[0m",
            "\u001b[0;31mLookupError\u001b[0m                               Traceback (most recent call last)",
            "Cell \u001b[0;32mIn[19], line 60\u001b[0m\n\u001b[1;32m     51\u001b[0m     \u001b[38;5;28;01mdef\u001b[39;00m \u001b[38;5;21mpad_examples\u001b[39m(\u001b[38;5;28mself\u001b[39m, tok_list: List[torch\u001b[38;5;241m.\u001b[39mTensor]) \u001b[38;5;241m-\u001b[39m\u001b[38;5;241m>\u001b[39m torch\u001b[38;5;241m.\u001b[39mTensor:\n\u001b[1;32m     52\u001b[0m         \u001b[38;5;66;03m# Pads the tensors to the right with the pad token so that they are the same length.\u001b[39;00m\n\u001b[1;32m     53\u001b[0m         \u001b[38;5;66;03m#\u001b[39;00m\n\u001b[0;32m   (...)\u001b[0m\n\u001b[1;32m     56\u001b[0m         \u001b[38;5;66;03m# Output\u001b[39;00m\n\u001b[1;32m     57\u001b[0m         \u001b[38;5;66;03m# padded_tokens  shape: (len(tok_list), max length within tok_list)\u001b[39;00m\n\u001b[1;32m     58\u001b[0m         \u001b[38;5;28;01mreturn\u001b[39;00m torch\u001b[38;5;241m.\u001b[39mnn\u001b[38;5;241m.\u001b[39mutils\u001b[38;5;241m.\u001b[39mrnn\u001b[38;5;241m.\u001b[39mpad_sequence(tok_list, batch_first\u001b[38;5;241m=\u001b[39m\u001b[38;5;28;01mTrue\u001b[39;00m, padding_value\u001b[38;5;241m=\u001b[39m\u001b[38;5;28mself\u001b[39m\u001b[38;5;241m.\u001b[39mtok_to_id[\u001b[38;5;28mself\u001b[39m\u001b[38;5;241m.\u001b[39mpad])\n\u001b[0;32m---> 60\u001b[0m tok \u001b[38;5;241m=\u001b[39m \u001b[43mMyTokenizer\u001b[49m\u001b[43m(\u001b[49m\u001b[43mraw_text\u001b[49m\u001b[43m)\u001b[49m\n",
            "Cell \u001b[0;32mIn[19], line 12\u001b[0m, in \u001b[0;36mMyTokenizer.__init__\u001b[0;34m(self, raw_text)\u001b[0m\n\u001b[1;32m      9\u001b[0m \u001b[38;5;28mself\u001b[39m\u001b[38;5;241m.\u001b[39mpad \u001b[38;5;241m=\u001b[39m \u001b[38;5;124m'\u001b[39m\u001b[38;5;124m<PAD>\u001b[39m\u001b[38;5;124m'\u001b[39m \u001b[38;5;66;03m# token used to pad examples to the same length\u001b[39;00m\n\u001b[1;32m     10\u001b[0m \u001b[38;5;28mself\u001b[39m\u001b[38;5;241m.\u001b[39munk \u001b[38;5;241m=\u001b[39m \u001b[38;5;124m'\u001b[39m\u001b[38;5;124m<UNK>\u001b[39m\u001b[38;5;124m'\u001b[39m \u001b[38;5;66;03m# token used if encountering a word not in our vocabulary\u001b[39;00m\n\u001b[0;32m---> 12\u001b[0m vocab \u001b[38;5;241m=\u001b[39m np\u001b[38;5;241m.\u001b[39munique(\u001b[43mtokenize\u001b[49m\u001b[43m(\u001b[49m\u001b[43mraw_text\u001b[49m\u001b[43m)\u001b[49m)\n\u001b[1;32m     13\u001b[0m vocab \u001b[38;5;241m=\u001b[39m np\u001b[38;5;241m.\u001b[39mconcatenate([np\u001b[38;5;241m.\u001b[39marray([\u001b[38;5;28mself\u001b[39m\u001b[38;5;241m.\u001b[39mstart, \u001b[38;5;28mself\u001b[39m\u001b[38;5;241m.\u001b[39mpad, \u001b[38;5;28mself\u001b[39m\u001b[38;5;241m.\u001b[39munk]), vocab])\n\u001b[1;32m     15\u001b[0m \u001b[38;5;28mself\u001b[39m\u001b[38;5;241m.\u001b[39mvocab \u001b[38;5;241m=\u001b[39m vocab \u001b[38;5;66;03m# array of tokens in order\u001b[39;00m\n",
            "Cell \u001b[0;32mIn[19], line 2\u001b[0m, in \u001b[0;36mtokenize\u001b[0;34m(s)\u001b[0m\n\u001b[1;32m      1\u001b[0m \u001b[38;5;28;01mdef\u001b[39;00m \u001b[38;5;21mtokenize\u001b[39m(s):\n\u001b[0;32m----> 2\u001b[0m   \u001b[38;5;28;01mreturn\u001b[39;00m \u001b[43mword_tokenize\u001b[49m\u001b[43m(\u001b[49m\u001b[43ms\u001b[49m\u001b[43m)\u001b[49m\n",
            "File \u001b[0;32m/mnt/align3_drive/adrianoh/miniconda3/envs/dl-pset3/lib/python3.12/site-packages/nltk/tokenize/__init__.py:142\u001b[0m, in \u001b[0;36mword_tokenize\u001b[0;34m(text, language, preserve_line)\u001b[0m\n\u001b[1;32m    127\u001b[0m \u001b[38;5;28;01mdef\u001b[39;00m \u001b[38;5;21mword_tokenize\u001b[39m(text, language\u001b[38;5;241m=\u001b[39m\u001b[38;5;124m\"\u001b[39m\u001b[38;5;124menglish\u001b[39m\u001b[38;5;124m\"\u001b[39m, preserve_line\u001b[38;5;241m=\u001b[39m\u001b[38;5;28;01mFalse\u001b[39;00m):\n\u001b[1;32m    128\u001b[0m \u001b[38;5;250m    \u001b[39m\u001b[38;5;124;03m\"\"\"\u001b[39;00m\n\u001b[1;32m    129\u001b[0m \u001b[38;5;124;03m    Return a tokenized copy of *text*,\u001b[39;00m\n\u001b[1;32m    130\u001b[0m \u001b[38;5;124;03m    using NLTK's recommended word tokenizer\u001b[39;00m\n\u001b[0;32m   (...)\u001b[0m\n\u001b[1;32m    140\u001b[0m \u001b[38;5;124;03m    :type preserve_line: bool\u001b[39;00m\n\u001b[1;32m    141\u001b[0m \u001b[38;5;124;03m    \"\"\"\u001b[39;00m\n\u001b[0;32m--> 142\u001b[0m     sentences \u001b[38;5;241m=\u001b[39m [text] \u001b[38;5;28;01mif\u001b[39;00m preserve_line \u001b[38;5;28;01melse\u001b[39;00m \u001b[43msent_tokenize\u001b[49m\u001b[43m(\u001b[49m\u001b[43mtext\u001b[49m\u001b[43m,\u001b[49m\u001b[43m \u001b[49m\u001b[43mlanguage\u001b[49m\u001b[43m)\u001b[49m\n\u001b[1;32m    143\u001b[0m     \u001b[38;5;28;01mreturn\u001b[39;00m [\n\u001b[1;32m    144\u001b[0m         token \u001b[38;5;28;01mfor\u001b[39;00m sent \u001b[38;5;129;01min\u001b[39;00m sentences \u001b[38;5;28;01mfor\u001b[39;00m token \u001b[38;5;129;01min\u001b[39;00m _treebank_word_tokenizer\u001b[38;5;241m.\u001b[39mtokenize(sent)\n\u001b[1;32m    145\u001b[0m     ]\n",
            "File \u001b[0;32m/mnt/align3_drive/adrianoh/miniconda3/envs/dl-pset3/lib/python3.12/site-packages/nltk/tokenize/__init__.py:119\u001b[0m, in \u001b[0;36msent_tokenize\u001b[0;34m(text, language)\u001b[0m\n\u001b[1;32m    109\u001b[0m \u001b[38;5;28;01mdef\u001b[39;00m \u001b[38;5;21msent_tokenize\u001b[39m(text, language\u001b[38;5;241m=\u001b[39m\u001b[38;5;124m\"\u001b[39m\u001b[38;5;124menglish\u001b[39m\u001b[38;5;124m\"\u001b[39m):\n\u001b[1;32m    110\u001b[0m \u001b[38;5;250m    \u001b[39m\u001b[38;5;124;03m\"\"\"\u001b[39;00m\n\u001b[1;32m    111\u001b[0m \u001b[38;5;124;03m    Return a sentence-tokenized copy of *text*,\u001b[39;00m\n\u001b[1;32m    112\u001b[0m \u001b[38;5;124;03m    using NLTK's recommended sentence tokenizer\u001b[39;00m\n\u001b[0;32m   (...)\u001b[0m\n\u001b[1;32m    117\u001b[0m \u001b[38;5;124;03m    :param language: the model name in the Punkt corpus\u001b[39;00m\n\u001b[1;32m    118\u001b[0m \u001b[38;5;124;03m    \"\"\"\u001b[39;00m\n\u001b[0;32m--> 119\u001b[0m     tokenizer \u001b[38;5;241m=\u001b[39m \u001b[43m_get_punkt_tokenizer\u001b[49m\u001b[43m(\u001b[49m\u001b[43mlanguage\u001b[49m\u001b[43m)\u001b[49m\n\u001b[1;32m    120\u001b[0m     \u001b[38;5;28;01mreturn\u001b[39;00m tokenizer\u001b[38;5;241m.\u001b[39mtokenize(text)\n",
            "File \u001b[0;32m/mnt/align3_drive/adrianoh/miniconda3/envs/dl-pset3/lib/python3.12/site-packages/nltk/tokenize/__init__.py:105\u001b[0m, in \u001b[0;36m_get_punkt_tokenizer\u001b[0;34m(language)\u001b[0m\n\u001b[1;32m     96\u001b[0m \u001b[38;5;129m@functools\u001b[39m\u001b[38;5;241m.\u001b[39mlru_cache\n\u001b[1;32m     97\u001b[0m \u001b[38;5;28;01mdef\u001b[39;00m \u001b[38;5;21m_get_punkt_tokenizer\u001b[39m(language\u001b[38;5;241m=\u001b[39m\u001b[38;5;124m\"\u001b[39m\u001b[38;5;124menglish\u001b[39m\u001b[38;5;124m\"\u001b[39m):\n\u001b[1;32m     98\u001b[0m \u001b[38;5;250m    \u001b[39m\u001b[38;5;124;03m\"\"\"\u001b[39;00m\n\u001b[1;32m     99\u001b[0m \u001b[38;5;124;03m    A constructor for the PunktTokenizer that utilizes\u001b[39;00m\n\u001b[1;32m    100\u001b[0m \u001b[38;5;124;03m    a lru cache for performance.\u001b[39;00m\n\u001b[0;32m   (...)\u001b[0m\n\u001b[1;32m    103\u001b[0m \u001b[38;5;124;03m    :type language: str\u001b[39;00m\n\u001b[1;32m    104\u001b[0m \u001b[38;5;124;03m    \"\"\"\u001b[39;00m\n\u001b[0;32m--> 105\u001b[0m     \u001b[38;5;28;01mreturn\u001b[39;00m \u001b[43mPunktTokenizer\u001b[49m\u001b[43m(\u001b[49m\u001b[43mlanguage\u001b[49m\u001b[43m)\u001b[49m\n",
            "File \u001b[0;32m/mnt/align3_drive/adrianoh/miniconda3/envs/dl-pset3/lib/python3.12/site-packages/nltk/tokenize/punkt.py:1744\u001b[0m, in \u001b[0;36mPunktTokenizer.__init__\u001b[0;34m(self, lang)\u001b[0m\n\u001b[1;32m   1742\u001b[0m \u001b[38;5;28;01mdef\u001b[39;00m \u001b[38;5;21m__init__\u001b[39m(\u001b[38;5;28mself\u001b[39m, lang\u001b[38;5;241m=\u001b[39m\u001b[38;5;124m\"\u001b[39m\u001b[38;5;124menglish\u001b[39m\u001b[38;5;124m\"\u001b[39m):\n\u001b[1;32m   1743\u001b[0m     PunktSentenceTokenizer\u001b[38;5;241m.\u001b[39m\u001b[38;5;21m__init__\u001b[39m(\u001b[38;5;28mself\u001b[39m)\n\u001b[0;32m-> 1744\u001b[0m     \u001b[38;5;28;43mself\u001b[39;49m\u001b[38;5;241;43m.\u001b[39;49m\u001b[43mload_lang\u001b[49m\u001b[43m(\u001b[49m\u001b[43mlang\u001b[49m\u001b[43m)\u001b[49m\n",
            "File \u001b[0;32m/mnt/align3_drive/adrianoh/miniconda3/envs/dl-pset3/lib/python3.12/site-packages/nltk/tokenize/punkt.py:1749\u001b[0m, in \u001b[0;36mPunktTokenizer.load_lang\u001b[0;34m(self, lang)\u001b[0m\n\u001b[1;32m   1746\u001b[0m \u001b[38;5;28;01mdef\u001b[39;00m \u001b[38;5;21mload_lang\u001b[39m(\u001b[38;5;28mself\u001b[39m, lang\u001b[38;5;241m=\u001b[39m\u001b[38;5;124m\"\u001b[39m\u001b[38;5;124menglish\u001b[39m\u001b[38;5;124m\"\u001b[39m):\n\u001b[1;32m   1747\u001b[0m     \u001b[38;5;28;01mfrom\u001b[39;00m \u001b[38;5;21;01mnltk\u001b[39;00m\u001b[38;5;21;01m.\u001b[39;00m\u001b[38;5;21;01mdata\u001b[39;00m \u001b[38;5;28;01mimport\u001b[39;00m find\n\u001b[0;32m-> 1749\u001b[0m     lang_dir \u001b[38;5;241m=\u001b[39m \u001b[43mfind\u001b[49m\u001b[43m(\u001b[49m\u001b[38;5;124;43mf\u001b[39;49m\u001b[38;5;124;43m\"\u001b[39;49m\u001b[38;5;124;43mtokenizers/punkt_tab/\u001b[39;49m\u001b[38;5;132;43;01m{\u001b[39;49;00m\u001b[43mlang\u001b[49m\u001b[38;5;132;43;01m}\u001b[39;49;00m\u001b[38;5;124;43m/\u001b[39;49m\u001b[38;5;124;43m\"\u001b[39;49m\u001b[43m)\u001b[49m\n\u001b[1;32m   1750\u001b[0m     \u001b[38;5;28mself\u001b[39m\u001b[38;5;241m.\u001b[39m_params \u001b[38;5;241m=\u001b[39m load_punkt_params(lang_dir)\n\u001b[1;32m   1751\u001b[0m     \u001b[38;5;28mself\u001b[39m\u001b[38;5;241m.\u001b[39m_lang \u001b[38;5;241m=\u001b[39m lang\n",
            "File \u001b[0;32m/mnt/align3_drive/adrianoh/miniconda3/envs/dl-pset3/lib/python3.12/site-packages/nltk/data.py:579\u001b[0m, in \u001b[0;36mfind\u001b[0;34m(resource_name, paths)\u001b[0m\n\u001b[1;32m    577\u001b[0m sep \u001b[38;5;241m=\u001b[39m \u001b[38;5;124m\"\u001b[39m\u001b[38;5;124m*\u001b[39m\u001b[38;5;124m\"\u001b[39m \u001b[38;5;241m*\u001b[39m \u001b[38;5;241m70\u001b[39m\n\u001b[1;32m    578\u001b[0m resource_not_found \u001b[38;5;241m=\u001b[39m \u001b[38;5;124mf\u001b[39m\u001b[38;5;124m\"\u001b[39m\u001b[38;5;130;01m\\n\u001b[39;00m\u001b[38;5;132;01m{\u001b[39;00msep\u001b[38;5;132;01m}\u001b[39;00m\u001b[38;5;130;01m\\n\u001b[39;00m\u001b[38;5;132;01m{\u001b[39;00mmsg\u001b[38;5;132;01m}\u001b[39;00m\u001b[38;5;130;01m\\n\u001b[39;00m\u001b[38;5;132;01m{\u001b[39;00msep\u001b[38;5;132;01m}\u001b[39;00m\u001b[38;5;130;01m\\n\u001b[39;00m\u001b[38;5;124m\"\u001b[39m\n\u001b[0;32m--> 579\u001b[0m \u001b[38;5;28;01mraise\u001b[39;00m \u001b[38;5;167;01mLookupError\u001b[39;00m(resource_not_found)\n",
            "\u001b[0;31mLookupError\u001b[0m: \n**********************************************************************\n  Resource \u001b[93mpunkt_tab\u001b[0m not found.\n  Please use the NLTK Downloader to obtain the resource:\n\n  \u001b[31m>>> import nltk\n  >>> nltk.download('punkt_tab')\n  \u001b[0m\n  For more information see: https://www.nltk.org/data.html\n\n  Attempted to load \u001b[93mtokenizers/punkt_tab/english/\u001b[0m\n\n  Searched in:\n    - '/afs/csail.mit.edu/u/a/adrianoh/nltk_data'\n    - '/mnt/align3_drive/adrianoh/miniconda3/envs/dl-pset3/nltk_data'\n    - '/mnt/align3_drive/adrianoh/miniconda3/envs/dl-pset3/share/nltk_data'\n    - '/mnt/align3_drive/adrianoh/miniconda3/envs/dl-pset3/lib/nltk_data'\n    - '/usr/share/nltk_data'\n    - '/usr/local/share/nltk_data'\n    - '/usr/lib/nltk_data'\n    - '/usr/local/lib/nltk_data'\n**********************************************************************\n"
          ]
        }
      ],
      "source": [
        "def tokenize(s):\n",
        "  return word_tokenize(s)\n",
        "\n",
        "class MyTokenizer:\n",
        "    def __init__(self, raw_text: str):\n",
        "        # raw_text     contains the text from which we will build our vocabulary\n",
        "\n",
        "        self.start = '<START>' # token that starts every example\n",
        "        self.pad = '<PAD>' # token used to pad examples to the same length\n",
        "        self.unk = '<UNK>' # token used if encountering a word not in our vocabulary\n",
        "\n",
        "        vocab = np.unique(tokenize(raw_text))\n",
        "        vocab = np.concatenate([np.array([self.start, self.pad, self.unk]), vocab])\n",
        "\n",
        "        self.vocab: List[str] = vocab # array of tokens in order\n",
        "        self.tok_to_id: Dict[str, int] = {w: i for i, w in enumerate(vocab)} # mapping of token to ID\n",
        "        self.vocab_size: int = len(self.vocab) # size of vocabulary\n",
        "\n",
        "    def encode(self, s: str, do_not_add_start_token: bool = False) -> torch.Tensor:\n",
        "        # s           input string\n",
        "        #\n",
        "        # Output\n",
        "        # id_tensor   a tensor of token ids, starting with the start token.t\n",
        "\n",
        "        id_tensor = None\n",
        "\n",
        "        # tokenize the input using word_tokenize. Return a tensor\n",
        "        # of the token ids, starting with the token id for the start token.\n",
        "        # ============ ANSWER START ===========\n",
        "        id_tensor: Int[torch.Tensor, \"N\"] = torch.tensor([self.tok_to_id[self.start]] + [self.tok_to_id[tok] for tok in tokenize(s)])\n",
        "        # ============ ANSWER END =============\n",
        "\n",
        "        return id_tensor\n",
        "\n",
        "    def decode(self, toks: Int[torch.Tensor, \"N\"]) -> str:\n",
        "        # toks         a list of token ids\n",
        "        #\n",
        "        # Output\n",
        "        # decoded_str  the token ids decoded back into a string (join with a space)\n",
        "\n",
        "        decoded_str = None\n",
        "\n",
        "        # convert the token ids back to the actual corresponding words.\n",
        "        # Join the tokens with a space and return the full string\n",
        "        # ============ ANSWER START ===========\n",
        "        decoded_str = \" \".join([self.vocab[tok] for tok in toks])\n",
        "        # ============ ANSWER END =============\n",
        "        assert decoded_str is not None\n",
        "\n",
        "        return decoded_str\n",
        "\n",
        "    def pad_examples(self, tok_list: List[torch.Tensor]) -> torch.Tensor:\n",
        "        # Pads the tensors to the right with the pad token so that they are the same length.\n",
        "        #\n",
        "        # tok_list       a list of tensors containing token ids (maybe of different lengths)\n",
        "        #\n",
        "        # Output\n",
        "        # padded_tokens  shape: (len(tok_list), max length within tok_list)\n",
        "        return torch.nn.utils.rnn.pad_sequence(tok_list, batch_first=True, padding_value=self.tok_to_id[self.pad])\n",
        "\n",
        "tok = MyTokenizer(raw_text)"
      ]
    },
    {
      "cell_type": "code",
      "execution_count": null,
      "id": "328863ef",
      "metadata": {
        "id": "328863ef"
      },
      "outputs": [],
      "source": [
        "# tokenizer test cases\n",
        "input_string = 'KING RICHARD III:\\nSay that I did all this for love of her.'\n",
        "enc = tok.encode(input_string)\n",
        "print(enc)\n",
        "dec = tok.decode(enc)\n",
        "print(dec)\n",
        "assert dec == \"<START> KING RICHARD III : Say that I did all this for love of her .\""
      ]
    },
    {
      "cell_type": "markdown",
      "id": "3359721d",
      "metadata": {
        "id": "3359721d"
      },
      "source": [
        "# Part 4.B"
      ]
    },
    {
      "cell_type": "code",
      "execution_count": null,
      "id": "60f07f0a",
      "metadata": {
        "id": "60f07f0a"
      },
      "outputs": [],
      "source": [
        "class DialogueDataset:\n",
        "    def __init__(self, tokenizer: MyTokenizer, lines: List[str], max_N: int):\n",
        "        # tokenizer    an instance of MyTokenizer\n",
        "        # lines        a list of strings. each element in an example in the dataset\n",
        "        # max_N        the maximum number of tokens allowed per example. More than this will be truncated\n",
        "        self.lines = lines\n",
        "        self.tokenizer = tokenizer\n",
        "        self.max_N = max_N\n",
        "\n",
        "    def __len__(self) -> int:\n",
        "        return len(self.lines)\n",
        "\n",
        "    def __getitem__(self, idx: int) -> torch.Tensor:\n",
        "        # returns the example at int encoded by the tokenizer\n",
        "        # truncates the example if it is more than max_N tokens\n",
        "        return self.tokenizer.encode(self.lines[idx])[:self.max_N]\n",
        "\n",
        "def collate_fn(examples: List[torch.Tensor]):\n",
        "    # examples        a batch of tensors containing token ids (maybe of different lengths)\n",
        "    # Outputs a dictionary containing\n",
        "    #   input_ids     a single tensor with all of the examples padded (from the right) to the max\n",
        "    #                 length within the batch. shape:(B, max length within examples)\n",
        "    #   input_mask    a tensor indicating which tokens are padding and should be ignored. 0 if padding\n",
        "    #                 and 1 if not. shape: (B, max length within examples)\n",
        "    new_input_ids = tok.pad_examples(examples)\n",
        "    attn_mask = torch.ones(new_input_ids.shape)\n",
        "    attn_mask[new_input_ids == tok.tok_to_id[tok.pad]] = 0\n",
        "    return {'input_ids': tok.pad_examples(examples), 'input_mask': attn_mask}\n",
        "\n",
        "ds = DialogueDataset(tok, all_dialogues, max_N=200)\n",
        "training_dl = torch.utils.data.DataLoader(ds, batch_size=64, collate_fn=collate_fn)"
      ]
    },
    {
      "cell_type": "code",
      "execution_count": null,
      "id": "930c4fde",
      "metadata": {
        "id": "930c4fde"
      },
      "outputs": [],
      "source": [
        "# take a look at an example of an element from the training dataloader\n",
        "for batch in training_dl:\n",
        "    print(batch)\n",
        "    break"
      ]
    },
    {
      "cell_type": "markdown",
      "id": "f980fc7d",
      "metadata": {
        "id": "f980fc7d"
      },
      "source": [
        "## Part 4.C"
      ]
    },
    {
      "cell_type": "code",
      "execution_count": null,
      "id": "D3KyNSu_aKqC",
      "metadata": {
        "id": "D3KyNSu_aKqC"
      },
      "outputs": [],
      "source": [
        "embs = torch.ones((32, 100, 128))\n",
        "B, T, _ = embs.shape\n",
        "pos_ids = torch.arange(T).expand(B, -1)\n",
        "print(pos_ids)\n",
        "pos_E = nn.Embedding(200, 128)\n",
        "print(pos_E)\n",
        "pos_E(pos_ids).shape"
      ]
    },
    {
      "cell_type": "code",
      "execution_count": null,
      "id": "f37a893a",
      "metadata": {
        "id": "f37a893a"
      },
      "outputs": [],
      "source": [
        "class DialogueGPT(nn.Module):\n",
        "    def __init__(self, vocab_size: int, max_N: int, dim: int, attn_dim: int, mlp_dim: int, num_heads: int, num_layers: int):\n",
        "        # vocab_size       size of the vocabulary\n",
        "        # max_N            maximum number of tokens allowed to appear in 1 example\n",
        "        # dim              embedding dimension\n",
        "        # attn_dim         the hidden dimension of the attention layer\n",
        "        # mlp_dim          the hidden layer dimension of the FFN\n",
        "        # num_heads        the number of heads in the attention layer\n",
        "        # num_layers       the number of attention layers.\n",
        "\n",
        "        super().__init__()\n",
        "\n",
        "        # TODO: set up the token embedding and positional embeddings\n",
        "        #       Hint, use nn.Embedding\n",
        "        # ============ ANSWER START ============\n",
        "        self.tok_embed = nn.Embedding(vocab_size, dim)\n",
        "        self.pos_embed = nn.Embedding(max_N, dim)\n",
        "        self.vocab_size = vocab_size\n",
        "        self.dim = dim\n",
        "        self.max_N = max_N\n",
        "        self.attn_dim = attn_dim\n",
        "        self.mlp_dim = mlp_dim\n",
        "        self.num_heads = num_heads\n",
        "        self.num_layers = num_layers\n",
        "        # Register buffer so it is known to be put on the same device\n",
        "        # make a buffer\n",
        "        self.causal_attn_mask = torch.tril(torch.ones(max_N, max_N))\n",
        "        assert self.causal_attn_mask.shape == (max_N, max_N)\n",
        "        # sanity check\n",
        "        assert self.causal_attn_mask[0, 0] == 1\n",
        "        assert self.causal_attn_mask[-1, -1] == 1\n",
        "        assert self.causal_attn_mask[0, -1] == 0\n",
        "        assert self.causal_attn_mask[-1, 0] == 0\n",
        "        # make sure it will be updated\n",
        "        self.register_buffer(\"causal_attn_mask\", self.causal_attn_mask)\n",
        "        # ============ ANSWER END ==============\n",
        "\n",
        "        self.transformer = Transformer(\n",
        "            dim=dim, attn_dim=attn_dim, mlp_dim=mlp_dim, num_heads=num_heads, num_layers=num_layers)\n",
        "\n",
        "        self.head = nn.Sequential(\n",
        "            nn.LayerNorm(dim),\n",
        "            nn.Linear(dim, vocab_size)\n",
        "        )\n",
        "\n",
        "    def forward(self, input_ids: Int[torch.Tensor, \"batch seq\"], return_attn: bool=False) -> Tuple[torch.Tensor, Optional[torch.Tensor]]:\n",
        "        # input_ids     a batch of input ids (right padded). shape: (B x T)\n",
        "        # return_attn   whether to return the attention weights\n",
        "        #\n",
        "        # Output\n",
        "        # out           the logit vector (B x T x V)\n",
        "        # alphas        the attention weights if return_attn is True. Otherwise None shape: (B, num_layers, num_heads, T, T)\n",
        "        assert len(input_ids.shape) == 2\n",
        "        batch, seq = input_ids.shape\n",
        "        assert seq <= self.max_N\n",
        "\n",
        "        embs = None\n",
        "\n",
        "        # retrieve the token embeddings for the input_ids.\n",
        "        #       Add to the token embeddings the positional embeddings.\n",
        "        #       Store the combined embedding in embs\n",
        "        # ============ ANSWER START ============\n",
        "        embds: Int[torch.Tensor, \"batch seq dim\"] = self.tok_embed(input_ids)\n",
        "        pos_ids: Int[torch.Tensor, \"batch seq\"] = torch.arange(seq).expand(batch, -1)\n",
        "        pos_embs: Int[torch.Tensor, \"batch seq dim\"] = self.pos_embed(pos_ids)\n",
        "        embs = embds + pos_embs\n",
        "        # ============ ANSWER END ============\n",
        "        assert embds is not None\n",
        "        assert embds.shape == (batch, seq, self.dim)\n",
        "\n",
        "        causal_attn_mask = None\n",
        "\n",
        "        # Create the causal attention mask, which should be of size (B, T, T)\n",
        "        #       Remember that the causal attention mask is lower triangular (all tokens only\n",
        "        #       depend on themselves and the tokens before them).\n",
        "        #.      Store the mask in causal_attn_mask\n",
        "        # Hint: check out torch.tril\n",
        "        # ============ ANSWER START ============\n",
        "        causal_attn_mask = self.causal_attn_mask[:seq, :seq] # don't do this every time for speed\n",
        "        assert causal_attn_mask.device == next(self.parameters()).device\n",
        "        # ============ ANSWER END ==============\n",
        "        assert causal_attn_mask is not None\n",
        "        assert causal_attn_mask.shape == (seq, seq)\n",
        "\n",
        "        x, alphas = self.transformer(embs, attn_mask=causal_attn_mask, return_attn=return_attn)\n",
        "        out = self.head(x)\n",
        "        return out, alphas\n",
        "\n",
        "    def generate(self, input_ids, num_tokens):\n",
        "        # you can assume batch size 1\n",
        "        with torch.no_grad():\n",
        "            for i in range(num_tokens):\n",
        "                out, _ = self.forward(input_ids)\n",
        "                new_token = torch.argmax(out[:, [-1]], -1)\n",
        "                input_ids = torch.cat([input_ids, new_token], dim=1)\n",
        "        return input_ids\n",
        "\n",
        "\n",
        "\n"
      ]
    },
    {
      "cell_type": "markdown",
      "id": "a8b5f097",
      "metadata": {
        "id": "a8b5f097"
      },
      "source": [
        "## Part 4.D"
      ]
    },
    {
      "cell_type": "code",
      "execution_count": null,
      "id": "a91f3300",
      "metadata": {
        "id": "a91f3300"
      },
      "outputs": [],
      "source": [
        "class DialogueLoss(nn.Module):\n",
        "    def __init__(self):\n",
        "        super().__init__()\n",
        "        self.criterion = nn.CrossEntropyLoss(reduction='none')\n",
        "\n",
        "    def forward(\n",
        "            self,\n",
        "            logits: Float[torch.Tensor, \"batch seq vocab\"],\n",
        "            input_ids: Int[torch.Tensor, \"batch seq\"],\n",
        "            inp_mask: Float[torch.Tensor, \"batch seq\"]\n",
        "        ):\n",
        "        batch, seq, _ = logits.shape\n",
        "        assert input_ids.shape == (batch, seq)\n",
        "        assert inp_mask.shape == (batch, seq)\n",
        "        # logits      the logits produced by DialogueGPT. shape: (B x T x V)\n",
        "        # input_ids   the token ids. shape: (B x T)\n",
        "        # inp_mask    a 0/1 mask of which tokens are padding tokens and should be ignored. shape: (B x T)\n",
        "\n",
        "        # Implement the language model loss. For logits[i], we want to supervise the i+1 token_id\n",
        "        # with the cross entropy loss. We thus will not supervise the start token (input_ids[0]) or use\n",
        "        # the last logit vector (logits[-1]). Return the average of the losses for each token in the batch,\n",
        "        # making sure to ignore tokens corresponding to the padding (use inp_mask).\n",
        "\n",
        "        # ============ ANSWER START ============\n",
        "        loss = self.criterion(logits[:, :-1], input_ids[:, 1:])\n",
        "        assert loss.shape == (batch, seq - 1)\n",
        "        masked_loss = loss[inp_mask[:, 1:] == 1]\n",
        "        assert masked_loss.shape[0] == batch\n",
        "        assert masked_loss.shape[1] <= seq - 1\n",
        "        loss_item = masked_loss.mean()\n",
        "        # ============ ANSWER END ==============\n",
        "        return loss_item"
      ]
    },
    {
      "cell_type": "markdown",
      "id": "fa39592a",
      "metadata": {
        "id": "fa39592a"
      },
      "source": [
        "## Part 4.F"
      ]
    },
    {
      "cell_type": "code",
      "execution_count": null,
      "id": "06e5b68b",
      "metadata": {
        "id": "06e5b68b"
      },
      "outputs": [],
      "source": [
        "import torch.optim as optim\n",
        "\n",
        "model = DialogueGPT(vocab_size=tok.vocab_size, max_N=200, dim=128, attn_dim=64, mlp_dim=128, num_heads=3, num_layers=6).to(device)\n",
        "criterion = DialogueLoss()\n",
        "\n",
        "NUM_EPOCHS = 80\n",
        "\n",
        "\n",
        "\n",
        "optimizer = optim.AdamW(model.parameters(), lr=0.0001, weight_decay=0) # implement in homework\n",
        "scheduler = optim.lr_scheduler.CosineAnnealingLR(optimizer, T_max=NUM_EPOCHS)\n"
      ]
    },
    {
      "cell_type": "code",
      "execution_count": null,
      "id": "63c72fb2",
      "metadata": {
        "id": "63c72fb2"
      },
      "outputs": [],
      "source": [
        "# Time estimate: around 30 minutes on T4 GPU\n",
        "# Training\n",
        "import tqdm\n",
        "for epoch in range(NUM_EPOCHS):  # loop over the dataset multiple times\n",
        "    loss_meter = AverageMeter()\n",
        "    for inp_dict in tqdm.tqdm(training_dl):\n",
        "        # get the inputs; data is a list of [inputs, labels]\n",
        "        inp_ids, inp_mask = inp_dict['input_ids'], inp_dict['input_mask']\n",
        "        inp_ids = inp_ids.to(device)\n",
        "        inp_mask = inp_mask.to(device)\n",
        "        # zero the parameter gradients\n",
        "        optimizer.zero_grad()\n",
        "\n",
        "        # forward + backward + optimize\n",
        "        outputs, _ = model(input_ids=inp_ids)\n",
        "        loss = criterion(outputs, inp_ids, inp_mask)\n",
        "        loss_meter.update(loss.item(), len(inp_dict['input_ids']))\n",
        "        loss.backward()\n",
        "        optimizer.step()\n",
        "    scheduler.step()\n",
        "\n",
        "        # print example\n",
        "    inp = tok.encode(\"\").unsqueeze(0).to(device)\n",
        "    print(tok.decode(model.generate(inp, 10)[0].cpu()))\n",
        "\n",
        "    print(f\"Train Epoch: {epoch}, Loss: {loss_meter.calculate():0.4f}, LR: {scheduler.get_last_lr()[0]}\")\n"
      ]
    },
    {
      "cell_type": "markdown",
      "id": "a66ac1b1",
      "metadata": {
        "id": "a66ac1b1"
      },
      "source": [
        "## Part 4.G"
      ]
    },
    {
      "cell_type": "code",
      "execution_count": null,
      "id": "2c5d1381",
      "metadata": {
        "id": "2c5d1381"
      },
      "outputs": [],
      "source": [
        "inp = tok.encode(\"\").unsqueeze(0).to(device)\n",
        "print(tok.decode(model.generate(inp, 50)[0].cpu()))\n"
      ]
    }
  ],
  "metadata": {
    "accelerator": "GPU",
    "colab": {
      "provenance": []
    },
    "kernelspec": {
      "display_name": "Python 3 (ipykernel)",
      "language": "python",
      "name": "python3"
    }
  },
  "nbformat": 4,
  "nbformat_minor": 5
}
