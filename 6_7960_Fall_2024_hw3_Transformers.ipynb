{
  "cells": [
    {
      "cell_type": "code",
      "execution_count": 1,
      "id": "84dfeb59",
      "metadata": {},
      "outputs": [
        {
          "data": {
            "text/plain": [
              "'\\nNOTE: you should do the following:\\n1. Have conda\\n2. `conda env create -n dl-pset3 python=3.12`\\n3. `conda activate dl-pset3`\\n4. `pip install -r requirements_pset3.txt`\\n5. From a terminal that is IN THAT CONDA ENV, run `jupyter notebook` (ideally using screen or tmux)\\n6. Connect via the URL it tells you using vscode or whatever. Then you can run this with all the dependencies.\\n'"
            ]
          },
          "execution_count": 1,
          "metadata": {},
          "output_type": "execute_result"
        }
      ],
      "source": [
        "\"\"\"\n",
        "NOTE: you should do the following:\n",
        "1. Have conda\n",
        "2. `conda env create -n dl-pset3 python=3.12`\n",
        "3. `conda activate dl-pset3`\n",
        "4. `pip install -r requirements_pset3.txt`\n",
        "5. From a terminal that is IN THAT CONDA ENV, run `jupyter notebook` (ideally using screen or tmux)\n",
        "6. Connect via the URL it tells you using vscode or whatever. Then you can run this with all the dependencies.\n",
        "\"\"\""
      ]
    },
    {
      "cell_type": "code",
      "execution_count": 2,
      "id": "47cd59de",
      "metadata": {
        "id": "47cd59de"
      },
      "outputs": [],
      "source": [
        "import torch\n",
        "import torch.nn as nn\n",
        "from typing import Tuple, Union, Optional, List\n",
        "import torchvision\n",
        "import torchvision.transforms as transforms\n",
        "import matplotlib.pyplot as plt\n",
        "import numpy as np\n",
        "import einops\n",
        "import subprocess\n",
        "import random\n",
        "import re\n",
        "from jaxtyping import Float, Int, Bool\n",
        "from typing import Dict, List, Optional, Any, Union, Tuple, Callable, Iterator, Iterable"
      ]
    },
    {
      "cell_type": "code",
      "execution_count": 3,
      "id": "cda7a542",
      "metadata": {},
      "outputs": [
        {
          "name": "stdout",
          "output_type": "stream",
          "text": [
            "Found device:  cuda:1\n"
          ]
        }
      ],
      "source": [
        "\"\"\"\n",
        "Add a script to be able to fetch the proper device for GPU. We run this sometimes\n",
        "on our own machines and there could be people sharing and we need to use different GPUs.\n",
        "\"\"\"\n",
        "def get_gpu_info():\n",
        "    try:\n",
        "        # Run nvidia-smi command\n",
        "        result = subprocess.run(['nvidia-smi'], stdout=subprocess.PIPE, text=True)\n",
        "        output = result.stdout\n",
        "\n",
        "        # Parse the output\n",
        "        gpu_info = []\n",
        "        memory_usage = re.findall(r'(\\d+)MiB\\s+/\\s+(\\d+)MiB', output)\n",
        "        processes = re.findall(r'\\|\\s+(\\d+)\\s+N/A\\s+N/A\\s+(\\d+)', output)\n",
        "\n",
        "        for i, (used, total) in enumerate(memory_usage):\n",
        "            available = int(total) - int(used)\n",
        "            has_process = any(int(gpu_id) == i for gpu_id, _ in processes)\n",
        "            gpu_info.append({\n",
        "                'gpu_id': i,\n",
        "                'available_memory': available,\n",
        "                'has_process': has_process\n",
        "            })\n",
        "\n",
        "        return gpu_info\n",
        "    except subprocess.CalledProcessError:\n",
        "        print(\"Error: Unable to run nvidia-smi. Make sure it's installed and in your PATH.\")\n",
        "        return None\n",
        "\n",
        "def get_available_device(\n",
        "    as_string: bool = False,\n",
        "    index: Optional[int] = None,\n",
        "    memory_needed_mb: int = 15_000,\n",
        "    in_use_ok: bool = True,\n",
        "    mps_osx_ok: bool = False,\n",
        "    randomize: bool = False,\n",
        "    preferred_indices: List[int] | int = [],\n",
        "    only_these_indices: Optional[List[int]] | int = None,\n",
        ") -> Union[torch.device, str]:\n",
        "    if index is not None:\n",
        "        return torch.device(f\"cuda:{index}\") if not as_string else f\"cuda:{index}\"\n",
        "    # Otherwise, find the best index to use!\n",
        "    try:\n",
        "        gpus = get_gpu_info()\n",
        "    except:\n",
        "        gpus = []\n",
        "    gpus = [] if gpus is None else gpus\n",
        "    gpus = [\n",
        "        gpu\n",
        "        for gpu in gpus\n",
        "        if gpu[\"available_memory\"] > memory_needed_mb\n",
        "        and (in_use_ok or not gpu[\"in_use\"])\n",
        "    ]\n",
        "    if len(gpus) == 0:\n",
        "        if mps_osx_ok and torch.backends.mps.is_available():\n",
        "            return torch.device(\"mps\")\n",
        "        return torch.device(\"cpu\")\n",
        "    # filter our preferred indices\n",
        "    if only_these_indices is not None:\n",
        "        only_these_indices = [only_these_indices] if isinstance(only_these_indices, int) else only_these_indices\n",
        "        gpus = [gpu for gpu in gpus if gpu[\"gpu_id\"] in only_these_indices]\n",
        "    # get da biggest boi\n",
        "    gpus = sorted(gpus, key=lambda x: x[\"available_memory\"], reverse=True)\n",
        "    # sort our priority ones into first spot if possible\n",
        "    # NOTE: https://docs.python.org/3/howto/sorting.html (sorts are guaranteed to be\n",
        "    # stable)\n",
        "    preferred_indices = [preferred_indices] if isinstance(preferred_indices, int) else preferred_indices\n",
        "    gpu2priority: Dict[int, int] = {\n",
        "        g[\"gpu_id\"]: (0 if g[\"gpu_id\"] in preferred_indices else 1) for g in gpus\n",
        "    }\n",
        "    gpus = sorted(gpus, key=lambda x: gpu2priority[x[\"gpu_id\"]], reverse=False)\n",
        "    # randomly select one of these guys\n",
        "    selector_index = random.randint(0, len(gpus) - 1) if randomize else 0\n",
        "    gpu_index = gpus[selector_index][\"gpu_id\"]\n",
        "    return torch.device(f\"cuda:{gpu_index}\") if not as_string else f\"cuda:{gpu_index}\"\n",
        "\n",
        "device = get_available_device(memory_needed_mb=80_000, as_string=True) # paranoid: use 55GB from A100 style GPU\n",
        "print(\"Found device: \", device)"
      ]
    },
    {
      "cell_type": "code",
      "execution_count": 4,
      "id": "baab5229",
      "metadata": {
        "id": "baab5229"
      },
      "outputs": [],
      "source": [
        "# a utility for calculating running average\n",
        "class AverageMeter():\n",
        "    def __init__(self):\n",
        "        self.num = 0\n",
        "        self.tot = 0\n",
        "\n",
        "    def update(self, val: float, sz: float):\n",
        "        self.num += val*sz\n",
        "        self.tot += sz\n",
        "\n",
        "    def calculate(self) -> float:\n",
        "        return self.num/self.tot"
      ]
    },
    {
      "cell_type": "markdown",
      "id": "6eb743ee",
      "metadata": {
        "id": "6eb743ee"
      },
      "source": [
        "# Problem 2: Implement a Transformer"
      ]
    },
    {
      "cell_type": "markdown",
      "id": "e6cffe0a",
      "metadata": {
        "id": "e6cffe0a"
      },
      "source": [
        "## Part 2.A"
      ]
    },
    {
      "cell_type": "code",
      "execution_count": 5,
      "id": "29fc4254",
      "metadata": {
        "id": "29fc4254"
      },
      "outputs": [],
      "source": [
        "class AttentionHead(nn.Module):\n",
        "    \"\"\" Single head attention. \"\"\"\n",
        "    def __init__(self, dim: int, n_hidden: int):\n",
        "        # dim: the dimension of the input\n",
        "        # n_hidden: the dimension of the keys, queries, and values\n",
        "\n",
        "        super().__init__()\n",
        "\n",
        "        self.W_K = nn.Linear(dim, n_hidden) # W_K weight matrix\n",
        "        self.W_Q = nn.Linear(dim, n_hidden) # W_Q weight matrix\n",
        "        self.W_V = nn.Linear(dim, n_hidden) # W_V weight matrix\n",
        "        self.n_hidden = n_hidden\n",
        "\n",
        "    def forward(\n",
        "            self,\n",
        "            x: Float[torch.Tensor, \"batch seq dim\"],\n",
        "            attn_mask: Optional[Float[torch.Tensor, \"batch seq_q seq_k\"]]\n",
        "        ) -> Tuple[Float[torch.Tensor, \"batch seq dim\"], Float[torch.Tensor, \"batch seq_q seq_k\"]]:\n",
        "        # x                the inputs. shape: (B x T x dim)\n",
        "        # attn_mask        an attention mask. If None, ignore. If not None, then mask[b, i, j]\n",
        "        #                  contains 1 if (in batch b) token i should attend on token j and 0\n",
        "        #                  otherwise. shape: (B x T x T)\n",
        "        #\n",
        "        # Outputs:\n",
        "        # attn_output      the output of performing self-attention on x. shape: (Batch x Num_tokens x n_hidden)\n",
        "        # alpha            the attention weights (after softmax). shape: (B x T x T)\n",
        "        #\n",
        "\n",
        "        out, alpha = None, None\n",
        "        #  Compute self attention on x.\n",
        "        #       (1) First project x to the query Q, key K, value V.\n",
        "        #       (2) Then compute the attention weights alpha as:\n",
        "        #                  alpha = softmax(QK^T/sqrt(n_hidden))\n",
        "        #           Make sure to take into account attn_mask such that token i does not attend on token\n",
        "        #           j if attn_mask[b, i, j] == 0. (Hint, in such a case, what value should you set the weight\n",
        "        #           to before the softmax so that after the softmax the value is 0?)\n",
        "        #       (3) The output is a linear combination of the values (weighted by the alphas):\n",
        "        #                  out = alpha V\n",
        "        #       (4) return the output and the alpha after the softmax\n",
        "\n",
        "        # ======= Answer START ========\n",
        "        keys = self.W_K(x)\n",
        "        queries = self.W_Q(x)\n",
        "        values = self.W_V(x)\n",
        "        normalizer = torch.sqrt(torch.tensor(self.n_hidden, dtype=torch.float32))\n",
        "        assert len(normalizer.shape) == 0 or normalizer.shape == (1,), f\"normalizer has wrong shape: {normalizer.shape}\"\n",
        "        table = einops.einsum(queries, keys, \"batch seq1 kq_dim, batch seq2 kq_dim -> batch seq1 seq2\") / normalizer\n",
        "        if attn_mask is not None:\n",
        "            table = table.masked_fill(attn_mask == 0, -float('inf')) \n",
        "        alpha = torch.softmax(table, dim=-1) # the attending amounts\n",
        "        out = alpha @ values # \"z\" acc. to transformer lens etc...\n",
        "        # ======= Answer  END ========\n",
        "        assert out is not None\n",
        "        assert alpha is not None\n",
        "\n",
        "        assert out.shape == x.shape\n",
        "\n",
        "        return out, alpha\n"
      ]
    },
    {
      "cell_type": "markdown",
      "id": "7d9cb9ad",
      "metadata": {
        "id": "7d9cb9ad"
      },
      "source": [
        "## Part 2.B"
      ]
    },
    {
      "cell_type": "code",
      "execution_count": 103,
      "id": "ddd56734",
      "metadata": {
        "id": "ddd56734"
      },
      "outputs": [],
      "source": [
        "class MultiHeadedAttention(nn.Module):\n",
        "    def __init__(self, dim: int, n_hidden: int, num_heads: int):\n",
        "        # dim: the dimension of the input\n",
        "        # n_hidden: the hidden dimenstion for the attention layer\n",
        "        # num_heads: the number of attention heads\n",
        "        super().__init__()\n",
        "\n",
        "        # DONE: set up your parameters for multi-head attention. You should initialize\n",
        "        #       num_heads attention heads (see nn.ModuleList) as well as a linear layer\n",
        "        #       that projects the concatenated outputs of each head into dim\n",
        "        #       (what size should this linear layer be?)\n",
        "\n",
        "        # ======= Answer START ========\n",
        "        # Just do it by using one big matrix for K, Q, V\n",
        "        self.W_K = nn.Linear(dim, n_hidden * num_heads)\n",
        "        self.W_Q = nn.Linear(dim, n_hidden * num_heads)\n",
        "        self.W_V = nn.Linear(dim, n_hidden * num_heads)\n",
        "        self.W_O = nn.Linear(n_hidden * num_heads, dim)\n",
        "        self.n_hidden = n_hidden\n",
        "        self.num_heads = num_heads\n",
        "\n",
        "        # ======= Answer  END ========\n",
        "\n",
        "    def forward(\n",
        "            self,\n",
        "            x: Float[torch.Tensor, \"batch seq dim\"],\n",
        "            attn_mask: Optional[Float[torch.Tensor, \"batch seq_q seq_k\"]]\n",
        "        ) -> Tuple[Float[torch.Tensor, \"batch seq dim\"], Float[torch.Tensor, \"batch head seq_q seq_k\"]]:\n",
        "        # x                the inputs. shape: (B x T x dim)\n",
        "        # attn_mask        an attention mask. If None, ignore. If not None, then mask[b, i, j]\n",
        "        #                  contains 1 if (in batch b) token i should attend on token j and 0\n",
        "        #                  otherwise. shape: (B x T x T)\n",
        "        #\n",
        "        # Outputs:\n",
        "        # attn_output      the output of performing multi-headed self-attention on x.\n",
        "        #                  shape: (B x T x dim)\n",
        "        # attn_alphas      the attention weights of each of the attention heads.\n",
        "        #                  shape: (B x Num_heads x T x T)\n",
        "\n",
        "        attn_output, attn_alphas = None, None\n",
        "\n",
        "        # Compute multi-headed attention. Loop through each of your attention heads\n",
        "        #       and collect the outputs. Concatenate them together along the hidden dimension,\n",
        "        #       and then project them back into the output dimension (dim). Return both\n",
        "        #       the final attention outputs as well as the alphas from each head.\n",
        "\n",
        "        # ======= Answer START ========\n",
        "        # batch calculate the keys, queries, values\n",
        "        keys_concatted = self.W_K(x)\n",
        "        queries_concatted = self.W_Q(x)\n",
        "        values_concatted = self.W_V(x)\n",
        "\n",
        "        # get the per-head values\n",
        "        keys = einops.rearrange(keys_concatted, \"batch seq (n_heads n_hidden) -> batch n_heads seq n_hidden\", n_heads=self.num_heads, n_hidden=self.n_hidden)\n",
        "        queries = einops.rearrange(queries_concatted, \"batch seq (n_heads n_hidden) -> batch n_heads seq n_hidden\", n_heads=self.num_heads, n_hidden=self.n_hidden)\n",
        "        values = einops.rearrange(values_concatted, \"batch seq (n_heads n_hidden) -> batch n_heads seq n_hidden\", n_heads=self.num_heads, n_hidden=self.n_hidden)\n",
        "        \n",
        "        # calculate the attention amounts PER head seperately\n",
        "        normalizer = torch.sqrt(torch.tensor(self.n_hidden, dtype=torch.float32))\n",
        "        assert len(normalizer.shape) == 0 or normalizer.shape == (1,), f\"normalizer has wrong shape: {normalizer.shape}\"\n",
        "        tables = einops.einsum(queries, keys, \"batch n_heads seq_q n_hidden, batch n_heads seq_k n_hidden -> batch n_heads seq_q seq_k\") / normalizer\n",
        "        if attn_mask is not None:\n",
        "            # NOTE: dimension broadcasting won't work because the last indices won't match so you\n",
        "            # need to repeat to get the right shape\n",
        "            attn_mask = einops.repeat(attn_mask, \"batch seq_q seq_k -> batch n_heads seq_q seq_k\", n_heads=self.num_heads)\n",
        "            # asset for DEBUG when you need; note that this supports broadcasting\n",
        "            # assert tables.shape == attn_mask.shape, f\"attention mask and tables have different shapes: {tables.shape} != {attn_mask.shape}\"\n",
        "            tables = tables.masked_fill(attn_mask == 0, -float('inf'))\n",
        "        \n",
        "        # calculate the attention SCOREs (after softmax: z)\n",
        "        alphas = torch.softmax(tables, dim=-1)\n",
        "        attn_alphas = alphas\n",
        "\n",
        "        # z is you matmul independently per head, then concatenate the results to get z_catted \n",
        "        # NOTE: each query pulls in the value corresponding to the linear combination it gets, which is over the keys\n",
        "        z = einops.einsum(alphas, values, \"batch n_heads seq_q seq_k, batch n_heads seq_k n_hidden -> batch n_heads seq_q n_hidden\")\n",
        "        z_concatted = einops.rearrange(z, \"batch n_heads seq_q n_hidden -> batch seq_q (n_heads n_hidden)\", n_heads=self.num_heads, n_hidden=self.n_hidden)\n",
        "        attn_output = self.W_O(z_concatted)\n",
        "\n",
        "        # ======= Answer END ========\n",
        "        assert attn_output is not None\n",
        "        assert attn_alphas is not None\n",
        "\n",
        "        assert attn_output.shape == x.shape\n",
        "\n",
        "        return attn_output, attn_alphas"
      ]
    },
    {
      "cell_type": "markdown",
      "id": "a8012740",
      "metadata": {
        "id": "a8012740"
      },
      "source": [
        "## Part 2.C"
      ]
    },
    {
      "cell_type": "code",
      "execution_count": 7,
      "id": "8531bc02",
      "metadata": {
        "id": "8531bc02"
      },
      "outputs": [],
      "source": [
        "# these are already implemented for you!\n",
        "\n",
        "class FFN(nn.Module):\n",
        "    def __init__(self, dim: int, n_hidden: int):\n",
        "        # dim       the dimension of the input\n",
        "        # n_hidden  the width of the linear layer\n",
        "\n",
        "        super().__init__()\n",
        "        self.net = nn.Sequential(\n",
        "            nn.LayerNorm(dim),\n",
        "            nn.Linear(dim, n_hidden),\n",
        "            nn.GELU(),\n",
        "            nn.Linear(n_hidden, dim),\n",
        "        )\n",
        "\n",
        "    def forward(self, x: Float[torch.Tensor, \"batch seq dim\"])-> Float[torch.Tensor, \"batch seq dim\"]:\n",
        "        # x         the input. shape: (B x T x dim)\n",
        "\n",
        "        # Outputs:\n",
        "        # out       the output of the feed-forward network: (B x T x dim)\n",
        "        return self.net(x)\n",
        "\n",
        "class AttentionResidual(nn.Module):\n",
        "    def __init__(self, dim: int, attn_dim: int, mlp_dim: int, num_heads: int):\n",
        "        # dim       the dimension of the input\n",
        "        # attn_dim  the hidden dimension of the attention layer\n",
        "        # mlp_dim   the hidden layer of the FFN\n",
        "        # num_heads the number of heads in the attention layer\n",
        "        super().__init__()\n",
        "        self.attn = MultiHeadedAttention(dim, attn_dim, num_heads)\n",
        "        self.ffn = FFN(dim, mlp_dim)\n",
        "\n",
        "    def forward(\n",
        "            self,\n",
        "            x: Float[torch.Tensor, \"batch seq dim\"],\n",
        "            attn_mask: Float[torch.Tensor, \"batch seq_q seq_k\"]\n",
        "        ) -> Tuple[Float[torch.Tensor, \"batch seq dim\"], Float[torch.Tensor, \"batch head seq_q seq_k\"]]:\n",
        "        # x                the inputs. shape: (B x T x dim)\n",
        "        # attn_mask        an attention mask. If None, ignore. If not None, then mask[b, i, j]\n",
        "        #                  contains 1 if (in batch b) token i should attend on token j and 0\n",
        "        #                  otherwise. shape: (B x T x T)\n",
        "        #\n",
        "        # Outputs:\n",
        "        # attn_output      shape: (B x T x dim)\n",
        "        # attn_alphas      the attention weights of each of the attention heads.\n",
        "        #                  shape: (B x Num_heads x T x T)\n",
        "\n",
        "        attn_out, alphas = self.attn(x=x, attn_mask=attn_mask)\n",
        "        x = attn_out + x\n",
        "        x = self.ffn(x) + x\n",
        "        return x, alphas"
      ]
    },
    {
      "cell_type": "code",
      "execution_count": 8,
      "id": "02c21aea",
      "metadata": {
        "id": "02c21aea"
      },
      "outputs": [],
      "source": [
        "class Transformer(nn.Module):\n",
        "    def __init__(self, dim: int, attn_dim: int, mlp_dim: int, num_heads: int, num_layers: int):\n",
        "        # dim       the dimension of the input\n",
        "        # attn_dim  the hidden dimension of the attention layer\n",
        "        # mlp_dim   the hidden layer of the FFN\n",
        "        # num_heads the number of heads in the attention layer\n",
        "        # num_layers the number of attention layers.\n",
        "        super().__init__()\n",
        "\n",
        "        # set up the parameters for the transformer!\n",
        "        #       You should set up num_layers of AttentionResiduals\n",
        "        #       nn.ModuleList will be helpful here.\n",
        "\n",
        "        # ======= Answer START ========\n",
        "        self.layers = nn.ModuleList([AttentionResidual(dim, attn_dim, mlp_dim, num_heads) for _ in range(num_layers)])\n",
        "        self.num_layers = num_layers\n",
        "        self.num_heads = num_heads\n",
        "        self.dim = dim\n",
        "        self.attn_dim = attn_dim\n",
        "        self.mlp_dim = mlp_dim\n",
        "\n",
        "    def forward(\n",
        "            self,\n",
        "            x: Float[torch.Tensor, \"batch seq dim\"],\n",
        "            attn_mask: Float[torch.Tensor, \"batch seq seq\"],\n",
        "            return_attn: bool = False\n",
        "        ) -> Tuple[Float[torch.Tensor, \"batch seq dim\"], Optional[Float[torch.Tensor, \"batch layer head seq_q seq_k\"]]]:\n",
        "        # x                the inputs. shape: (B x T x dim)\n",
        "        # attn_mask        an attention mask. Pass this to each of the AttentionResidual layers!\n",
        "        #                  shape: (B x T x T)\n",
        "        #\n",
        "        # Outputs:\n",
        "        # attn_output      shape: (B x T x dim)\n",
        "        # attn_alphas      If return_attn is False, return None. Otherwise return the attention weights\n",
        "        #                  of each of each of the attention heads for each of the layers.\n",
        "        #                  shape: (B x Num_layers x Num_heads x T x T)\n",
        "        # NOTE: slight device bug in their testing code, need smae device; do it transformer and not below\n",
        "        # so that we are not running the risk of bad perf.\n",
        "        _device = next(self.parameters()).device\n",
        "        if x.device != _device:\n",
        "            x = x.to(_device)\n",
        "        if attn_mask is not None and attn_mask.device != x.device:\n",
        "            attn_mask = attn_mask.to(x.device)\n",
        "\n",
        "        output, collected_attns = None, None\n",
        "\n",
        "        # Implement the transformer forward pass! Pass the input successively through each of the\n",
        "        # AttentionResidual layers. If return_attn is True, collect the alphas along the way.\n",
        "\n",
        "        # ======= Answer START ========\n",
        "        # NOTE: we should use jaxtyping?!\n",
        "        # NOTE: we should actually wrap everything for better hooks usage\n",
        "        residual_stream: Float[torch.Tensor, \"batch seq dim\"] = x\n",
        "        collected_attns: List[Float[torch.Tensor, \"batch layer head seq_q seq_k\"]] = []\n",
        "        for layer in self.layers:\n",
        "            residual_stream, alphas = layer(residual_stream, attn_mask)\n",
        "            if return_attn:\n",
        "                collected_attns.append(alphas)\n",
        "        output = residual_stream\n",
        "        # ======= Answer END ========\n",
        "        assert output is not None\n",
        "        assert collected_attns is not None\n",
        "\n",
        "        attn_alphas: Optional[Float[torch.Tensor, \"batch layer head seq_q seq_k\"]] = None\n",
        "        if return_attn:\n",
        "            attn_alphas = torch.stack(collected_attns, dim=0)\n",
        "            attn_alphas = einops.rearrange(\n",
        "                attn_alphas,\n",
        "                \"layer batch head seq_q seq_k -> batch layer head seq_q seq_k\",\n",
        "                layer=self.num_layers,\n",
        "                head=self.num_heads,\n",
        "                batch=x.shape[0],\n",
        "                seq_q=x.shape[1],\n",
        "                seq_k=x.shape[1]\n",
        "            )\n",
        "        return output, attn_alphas\n"
      ]
    },
    {
      "cell_type": "markdown",
      "id": "643d379b",
      "metadata": {
        "id": "643d379b"
      },
      "source": [
        "Test your transformer implementation here"
      ]
    },
    {
      "cell_type": "code",
      "execution_count": 9,
      "id": "9aaa156e",
      "metadata": {
        "id": "9aaa156e"
      },
      "outputs": [
        {
          "name": "stdout",
          "output_type": "stream",
          "text": [
            "Test Case 1\n",
            "Test Case 2\n",
            "Test Case 3\n",
            "Attention mask pattern tensor([[1., 0., 0.,  ..., 0., 0., 0.],\n",
            "        [1., 1., 0.,  ..., 0., 0., 0.],\n",
            "        [0., 1., 1.,  ..., 0., 0., 0.],\n",
            "        ...,\n",
            "        [0., 0., 0.,  ..., 1., 0., 0.],\n",
            "        [0., 0., 0.,  ..., 1., 1., 0.],\n",
            "        [0., 0., 0.,  ..., 0., 1., 1.]], device='cuda:1')\n",
            "Alpha pattern tensor([[1.0000, 0.0000, 0.0000,  ..., 0.0000, 0.0000, 0.0000],\n",
            "        [0.5569, 0.4431, 0.0000,  ..., 0.0000, 0.0000, 0.0000],\n",
            "        [0.0000, 0.5716, 0.4284,  ..., 0.0000, 0.0000, 0.0000],\n",
            "        ...,\n",
            "        [0.0000, 0.0000, 0.0000,  ..., 0.7984, 0.0000, 0.0000],\n",
            "        [0.0000, 0.0000, 0.0000,  ..., 0.4187, 0.5813, 0.0000],\n",
            "        [0.0000, 0.0000, 0.0000,  ..., 0.0000, 0.7168, 0.2832]],\n",
            "       device='cuda:1')\n",
            "Test Case 4\n"
          ]
        }
      ],
      "source": [
        "def perform_transformer_test_cases():\n",
        "    num_tokens = 100\n",
        "    batch_size = 10\n",
        "    dim = 64\n",
        "    num_layers = 4\n",
        "    num_heads = 2\n",
        "    dummy_model = Transformer(dim=dim, attn_dim=32, mlp_dim=dim, num_heads=num_heads, num_layers=num_layers).to(device)\n",
        "\n",
        "    inp = torch.randn(batch_size, num_tokens, dim).to(device)\n",
        "\n",
        "    # test case 1 regular forward pass\n",
        "    print(\"Test Case 1\")\n",
        "    with torch.no_grad():\n",
        "        output, alpha = dummy_model(inp, attn_mask=None)\n",
        "        assert alpha is None\n",
        "        assert output.shape == (batch_size, num_tokens, dim), f\"wrong output shape {output.shape}\"\n",
        "\n",
        "    # test case 2 collect attentions\n",
        "    print(\"Test Case 2\")\n",
        "    with torch.no_grad():\n",
        "        output, alpha = dummy_model(inp, attn_mask=None, return_attn=True)\n",
        "        assert output.shape == (batch_size, num_tokens, dim), f\"wrong output shape {output.shape}\"\n",
        "        assert alpha.shape == (batch_size, num_layers, num_heads, num_tokens, num_tokens), f\"wrong alpha shape {alpha.shape}\"\n",
        "\n",
        "    print(\"Test Case 3\")\n",
        "    # test case 3 with attention mask\n",
        "    attn_mask = torch.zeros(batch_size, num_tokens, num_tokens).to(device)\n",
        "    attn_mask[:, torch.arange(num_tokens), torch.arange(num_tokens)] = 1\n",
        "    attn_mask[:, torch.arange(num_tokens)[1:], torch.arange(num_tokens)[:-1]] = 1\n",
        "    with torch.no_grad():\n",
        "        output, alpha = dummy_model(inp, attn_mask=attn_mask, return_attn=True)\n",
        "        print(\"Attention mask pattern\", attn_mask[0])\n",
        "        print(\"Alpha pattern\", alpha[0, 0, 0])\n",
        "        assert torch.all(alpha.permute(1, 2, 0, 3, 4)[:, :, attn_mask == 0] == 0).item()\n",
        "\n",
        "    print(\"Test Case 4\")\n",
        "    # test case 4 creates a causal mask where each token can only attend to previous tokens and itself\n",
        "    causal_mask = torch.tril(torch.ones(num_tokens, num_tokens)).unsqueeze(0).repeat(batch_size, 1, 1)  # Shape: (B, T, T)\n",
        "\n",
        "    with torch.no_grad():\n",
        "        output, alpha = dummy_model(inp, attn_mask=causal_mask, return_attn=True)\n",
        "        # Verify the causal mask\n",
        "        for b in range(batch_size):\n",
        "            for l in range(num_layers):\n",
        "                for h in range(num_heads):\n",
        "                    attn_weights = alpha[b, l, h]  # Shape: (T, T)\n",
        "                    # Positions where j > i should have zero attention weights\n",
        "                    # We can create a boolean mask for j > i\n",
        "                    future_mask = torch.triu(torch.ones(num_tokens, num_tokens), diagonal=1).bool()  # Shape: (T, T)\n",
        "                    # Extract attention weights for future positions\n",
        "                    future_attn = attn_weights[future_mask]\n",
        "                    # Assert that these weights are close to zero\n",
        "                    assert torch.all(future_attn < 1e-6), f\"Causal mask violated in batch {b}, layer {l}, head {h}\"\n",
        "\n",
        "perform_transformer_test_cases()"
      ]
    },
    {
      "cell_type": "markdown",
      "id": "5afc7e9b",
      "metadata": {
        "id": "5afc7e9b"
      },
      "source": [
        "## Problem 3: Vision Transformer"
      ]
    },
    {
      "cell_type": "markdown",
      "id": "67b725d5",
      "metadata": {
        "id": "67b725d5"
      },
      "source": [
        "## Part 3.A"
      ]
    },
    {
      "cell_type": "code",
      "execution_count": 10,
      "id": "0dc4ea76",
      "metadata": {
        "id": "0dc4ea76"
      },
      "outputs": [
        {
          "name": "stdout",
          "output_type": "stream",
          "text": [
            "torch.Size([5, 64, 64])\n",
            "cuda:1\n"
          ]
        }
      ],
      "source": [
        "class PatchEmbed(nn.Module):\n",
        "    \"\"\" Image to Patch Embedding\n",
        "    \"\"\"\n",
        "    def __init__(self, img_size: int, patch_size: int, nin: int, nout: int):\n",
        "        # img_size       the width and height of the image. you can assume that\n",
        "        #                the images will be square\n",
        "        # patch_size     the width of each square patch. You can assume that\n",
        "        #                img_size is divisible by patch_size\n",
        "        # nin            the number of input channels\n",
        "        # nout           the number of output channels\n",
        "\n",
        "        super().__init__()\n",
        "        assert img_size % patch_size == 0\n",
        "\n",
        "        self.img_size = img_size\n",
        "        self.patch_size = patch_size\n",
        "        assert self.img_size % self.patch_size == 0\n",
        "        self.num_patches = (img_size // patch_size)**2\n",
        "        self.nin = nin\n",
        "        self.nout = nout\n",
        "\n",
        "        # DONE Set up parameters for the Patch Embedding\n",
        "        # ======= Answer START ========\n",
        "        self.patch_proj = nn.Linear(patch_size**2 * nin, nout)\n",
        "        # ======= Answer END ========\n",
        "\n",
        "    def forward(self, x: Float[torch.Tensor, \"batch nin height width\"]) -> Float[torch.Tensor, \"batch num_patches nout\"]:\n",
        "        # x        the input image. shape: (B, nin, Height, Width)\n",
        "        #\n",
        "        # Output\n",
        "        # out      the patch embeddings for the input. shape: (B, num_patches, nout)\n",
        "        assert x.shape[1] == self.nin\n",
        "        assert x.shape[2] == self.img_size\n",
        "        assert x.shape[3] == self.img_size\n",
        "        assert x.shape[2] % self.patch_size == 0\n",
        "        assert x.shape[3] % self.patch_size == 0\n",
        "        _batch_size = x.shape[0]\n",
        "\n",
        "        _device = next(self.parameters()).device\n",
        "        if x.device != _device:\n",
        "            x = x.to(_device)\n",
        "\n",
        "        # DONE: Implement the patch embedding. You want to split up the image into\n",
        "        # square patches of the given patch size. Then each patch_size x patch_size\n",
        "        # square should be linearly projected into an embedding of size nout.\n",
        "        #\n",
        "        # Hint: Take a look at nn.Conv2d. How can this be used to perform the\n",
        "        #       patch embedding?\n",
        "        out = None\n",
        "\n",
        "        # ======= Answer START ========\n",
        "        blocks = einops.rearrange(\n",
        "            x,\n",
        "            # (block_height, block_width) = number of blocks (i.e. number of tokens/patches)\n",
        "            \"batch nin (num_blocks_height patch_size_height) (num_blocks_width patch_size_width) -> batch (num_blocks_height num_blocks_width) (patch_size_height patch_size_width nin)\",\n",
        "            batch=x.shape[0],\n",
        "            nin=self.nin,\n",
        "            num_blocks_height=self.img_size // self.patch_size,\n",
        "            num_blocks_width=self.img_size // self.patch_size,\n",
        "            patch_size_height=self.patch_size,\n",
        "            patch_size_width=self.patch_size\n",
        "        )\n",
        "        assert blocks.shape == (_batch_size, self.num_patches, self.patch_size**2 * self.nin), f\"wrong blocks shape {blocks.shape}, should be {(_batch_size, self.num_patches, self.patch_size**2 * self.nin)}\"\n",
        "        out = self.patch_proj(blocks)\n",
        "        # ======= Answer END ========\n",
        "        assert out.shape == (_batch_size, self.num_patches, self.nout), f\"wrong output shape {out.shape}, should be {(_batch_size, self.num_patches, self.nout)}\"\n",
        "        return out\n",
        "\n",
        "def test_patch_embed_shape():\n",
        "    patch_embed = PatchEmbed(img_size=32, patch_size=4, nin=3, nout=64)\n",
        "    test_input = torch.randn(5, 3, 32, 32)\n",
        "    out = patch_embed(test_input)\n",
        "    print(out.shape)\n",
        "    assert out.shape == (5, 64, 64) # batch x seq x dim\n",
        "\n",
        "test_patch_embed_shape()\n",
        "print(device)"
      ]
    },
    {
      "cell_type": "markdown",
      "id": "57d32978",
      "metadata": {
        "id": "57d32978"
      },
      "source": [
        "## Part 3.B"
      ]
    },
    {
      "cell_type": "code",
      "execution_count": 11,
      "id": "df3d8a7a",
      "metadata": {
        "id": "df3d8a7a"
      },
      "outputs": [
        {
          "name": "stdout",
          "output_type": "stream",
          "text": [
            "torch.Size([7, 10]) torch.Size([7, 4, 16, 65, 65])\n"
          ]
        }
      ],
      "source": [
        "class VisionTransformer(nn.Module):\n",
        "    def __init__(\n",
        "        self,\n",
        "        n_channels: int,\n",
        "        nout: int,\n",
        "        img_size: int,\n",
        "        patch_size: int,\n",
        "        dim: int,\n",
        "        attn_dim: int,\n",
        "        mlp_dim: int,\n",
        "        num_heads: int,\n",
        "        num_layers: int\n",
        "    ):\n",
        "        # n_channels       number of input image channels\n",
        "        # nout             desired output dimension\n",
        "        # img_size         width of the square image\n",
        "        # patch_size       width of the square patch\n",
        "        # dim              embedding dimension\n",
        "        # attn_dim         the hidden dimension of the attention layer\n",
        "        # mlp_dim          the hidden layer dimension of the FFN\n",
        "        # num_heads        the number of heads in the attention layer\n",
        "        # num_layers       the number of attention layers.\n",
        "        super().__init__()\n",
        "        self.patch_embed = PatchEmbed(img_size=img_size, patch_size=patch_size, nin=n_channels, nout=dim)\n",
        "        self.pos_E = nn.Embedding((img_size//patch_size)**2, dim) # positional embedding matrix\n",
        "\n",
        "        self.cls_token = nn.Parameter(torch.randn(1, 1, dim)) # learned class embedding\n",
        "        self.transformer = Transformer(\n",
        "            dim=dim, attn_dim=attn_dim, mlp_dim=mlp_dim, num_heads=num_heads, num_layers=num_layers)\n",
        "\n",
        "        self.head = nn.Sequential(\n",
        "            nn.LayerNorm(dim),\n",
        "            nn.Linear(dim, nout)\n",
        "        )\n",
        "\n",
        "\n",
        "    def forward(self, img: torch.Tensor, return_attn=False) ->Tuple[torch.Tensor, Optional[torch.Tensor]]:\n",
        "        # img          the input image. shape: (B, nin, img_size, img_size)\n",
        "        # return_attn  whether to return the attention alphas\n",
        "        #\n",
        "        # Outputs\n",
        "        # out          the output of the vision transformer. shape: (B, nout)\n",
        "        # alphas       the attention weights for all heads and layers. None if return_attn is False, otherwise\n",
        "        #              shape: (B, num_layers, num_heads, num_patches + 1, num_patches + 1)\n",
        "        # NOTE: again they didn't use the right device\n",
        "        _device = next(self.parameters()).device\n",
        "        if img.device != _device:\n",
        "            img = img.to(_device)\n",
        "\n",
        "        # generate embeddings\n",
        "        embs = self.patch_embed(img) # patch embedding\n",
        "        B, T, _ = embs.shape\n",
        "        pos_ids = torch.arange(T).expand(B, -1).to(embs.device)\n",
        "        embs += self.pos_E(pos_ids) # positional embedding\n",
        "\n",
        "        cls_token = self.cls_token.expand(len(embs), -1, -1)\n",
        "        x = torch.cat([cls_token, embs], dim=1)\n",
        "\n",
        "        x, alphas = self.transformer(x, attn_mask=None, return_attn=return_attn)\n",
        "        out = self.head(x)[:, 0]\n",
        "        assert len(x.shape) == 3 # batch x seq x dim\n",
        "        return out, alphas\n",
        "\n",
        "\n",
        "def test_vision_transformer_shape():\n",
        "    vit = VisionTransformer(\n",
        "        n_channels=3,\n",
        "        nout=10, # 10 classes\n",
        "        img_size=32,\n",
        "        patch_size=4,\n",
        "        dim=512,\n",
        "        attn_dim=255,\n",
        "        mlp_dim=33,\n",
        "        num_heads=16,\n",
        "        num_layers=4\n",
        "    )\n",
        "    test_input = torch.randn(7, 3, 32, 32)\n",
        "    out, alphas = vit(test_input, return_attn=True)\n",
        "    print(out.shape, alphas.shape)\n",
        "    assert out.shape == (7, 10)\n",
        "    # 12 \n",
        "    # NOTE how they append the cls token above (or prepend?)\n",
        "    assert alphas.shape == (7, 4, 16, 64 + 1, 64 + 1), f\"{alphas.shape}\" # batch layer n_heads seq + 1 seq + 1\n",
        "test_vision_transformer_shape()\n"
      ]
    },
    {
      "cell_type": "markdown",
      "id": "8bcc81df",
      "metadata": {
        "id": "8bcc81df"
      },
      "source": [
        "## Part 3.C"
      ]
    },
    {
      "cell_type": "code",
      "execution_count": 12,
      "id": "e1107044",
      "metadata": {
        "id": "e1107044"
      },
      "outputs": [
        {
          "name": "stdout",
          "output_type": "stream",
          "text": [
            "Files already downloaded and verified\n"
          ]
        }
      ],
      "source": [
        "# # set up the dataset and dataloader\n",
        "\n",
        "MEAN = [0.4914, 0.4822, 0.4465]\n",
        "STD = [0.2470, 0.2435, 0.2616]\n",
        "img_transform = transforms.Compose([\n",
        "    transforms.ToTensor(),\n",
        "    transforms.Normalize(mean=MEAN, std=STD),\n",
        "])\n",
        "inv_transform = transforms.Compose([\n",
        "    transforms.Normalize(\n",
        "        mean = [ 0., 0., 0. ],\n",
        "        std = 1/np.array(STD)),\n",
        "    transforms.Normalize(\n",
        "        mean = -np.array(MEAN),\n",
        "        std = [ 1., 1., 1. ]),\n",
        "    transforms.ToPILImage(),\n",
        "])\n",
        "\n",
        "\n",
        "# train_dataset = torchvision.datasets.CIFAR10(train=True, root='data', transform=img_transform, download=True)\n",
        "# val_dataset = torchvision.datasets.CIFAR10(train=False, root='data', transform=img_transform)\n",
        "# train_dataloader = torch.utils.data.DataLoader(train_dataset, batch_size=16000, shuffle=True, num_workers=10)\n",
        "# val_dataloader = torch.utils.data.DataLoader(val_dataset, batch_size=16000, shuffle=False, num_workers=10)\n",
        "train_dataset = torchvision.datasets.CIFAR10(train=True, root='data', transform=img_transform, download=True)\n",
        "val_dataset = torchvision.datasets.CIFAR10(train=False, root='data', transform=img_transform)\n",
        "train_dataloader = torch.utils.data.DataLoader(train_dataset, batch_size=256, shuffle=True, num_workers=10)\n",
        "val_dataloader = torch.utils.data.DataLoader(val_dataset, batch_size=256, shuffle=False, num_workers=10)"
      ]
    },
    {
      "cell_type": "code",
      "execution_count": 13,
      "id": "2540d4b3",
      "metadata": {
        "id": "2540d4b3"
      },
      "outputs": [],
      "source": [
        "# set up the model and optimizer\n",
        "\n",
        "import torch.optim as optim\n",
        "from pathlib import Path\n",
        "\n",
        "# Model it to be roughly the same size as GPT-2 divided by 1.5 ish\n",
        "model = VisionTransformer(\n",
        "    n_channels=3,\n",
        "    nout=10,\n",
        "    img_size=32,\n",
        "    patch_size=4,\n",
        "    dim=128,\n",
        "    attn_dim=64,\n",
        "    mlp_dim=128,\n",
        "    num_heads=3,\n",
        "    num_layers=6,\n",
        ").cuda()\n",
        "\n",
        "# Should load from checkpoint if we want to continue training from there\n",
        "# We should load the annealing, etc... scheduler but whatever :P\n",
        "load_from: Optional[Path] = (\n",
        "    None  # Path(\"/mnt/align3_drive/adrianoh/dl_pset_3/after_epoch_10.pt\")\n",
        ")\n",
        "STARTING_EPOCH: int = 0  # 11\n",
        "if load_from is not None:\n",
        "    model.load_state_dict(torch.load(load_from))\n",
        "model = model.to(device)\n",
        "\n",
        "criterion = nn.CrossEntropyLoss()\n",
        "\n",
        "\n",
        "NUM_EPOCHS = 60\n",
        "optimizer = optim.AdamW(model.parameters(), lr=0.001)\n",
        "scheduler = optim.lr_scheduler.CosineAnnealingLR(optimizer, T_max=NUM_EPOCHS)"
      ]
    },
    {
      "cell_type": "code",
      "execution_count": 14,
      "id": "147e1bc8",
      "metadata": {
        "id": "147e1bc8"
      },
      "outputs": [],
      "source": [
        "# evaluate the model\n",
        "def evaluate_cifar_model(model, criterion, val_loader):\n",
        "    is_train = model.training\n",
        "    model.eval()\n",
        "    with torch.no_grad():\n",
        "        loss_meter, acc_meter = AverageMeter(), AverageMeter()\n",
        "        for img, labels in val_loader:\n",
        "            # move all img, labels to device (cuda)\n",
        "            img = img.to(device)\n",
        "            labels = labels.to(device)\n",
        "            outputs, _ = model(img)\n",
        "            loss_meter.update(criterion(outputs, labels).item(), len(img))\n",
        "            acc = (outputs.argmax(-1) == labels).float().mean().item()\n",
        "            acc_meter.update(acc, len(img))\n",
        "    model.train(is_train)\n",
        "    return loss_meter.calculate(), acc_meter.calculate()"
      ]
    },
    {
      "cell_type": "code",
      "execution_count": 15,
      "id": "d69183ce",
      "metadata": {
        "id": "d69183ce"
      },
      "outputs": [
        {
          "name": "stderr",
          "output_type": "stream",
          "text": [
            "100%|██████████| 196/196 [00:03<00:00, 54.97it/s]"
          ]
        },
        {
          "name": "stdout",
          "output_type": "stream",
          "text": [
            "Train Epoch: 0, Loss: 1.6627851202774049, Acc: 0.39515999999046325\n"
          ]
        },
        {
          "name": "stderr",
          "output_type": "stream",
          "text": [
            "\n"
          ]
        },
        {
          "name": "stdout",
          "output_type": "stream",
          "text": [
            "Val Epoch: 0, Loss: 1.4506362649917603, Acc: 0.4759\n"
          ]
        },
        {
          "name": "stderr",
          "output_type": "stream",
          "text": [
            "100%|██████████| 196/196 [00:03<00:00, 55.37it/s]\n"
          ]
        },
        {
          "name": "stdout",
          "output_type": "stream",
          "text": [
            "Train Epoch: 1, Loss: 1.3568383544158935, Acc: 0.5131000000190735\n"
          ]
        },
        {
          "name": "stderr",
          "output_type": "stream",
          "text": [
            "100%|██████████| 196/196 [00:04<00:00, 40.46it/s]\n"
          ]
        },
        {
          "name": "stdout",
          "output_type": "stream",
          "text": [
            "Train Epoch: 2, Loss: 1.242759259033203, Acc: 0.55436\n"
          ]
        },
        {
          "name": "stderr",
          "output_type": "stream",
          "text": [
            "100%|██████████| 196/196 [00:03<00:00, 53.60it/s]\n"
          ]
        },
        {
          "name": "stdout",
          "output_type": "stream",
          "text": [
            "Train Epoch: 3, Loss: 1.1496752125930787, Acc: 0.5904800000381469\n"
          ]
        },
        {
          "name": "stderr",
          "output_type": "stream",
          "text": [
            "100%|██████████| 196/196 [00:04<00:00, 42.02it/s]\n"
          ]
        },
        {
          "name": "stdout",
          "output_type": "stream",
          "text": [
            "Train Epoch: 4, Loss: 1.0850616510009765, Acc: 0.613840000038147\n"
          ]
        },
        {
          "name": "stderr",
          "output_type": "stream",
          "text": [
            "100%|██████████| 196/196 [00:03<00:00, 54.70it/s]\n"
          ]
        },
        {
          "name": "stdout",
          "output_type": "stream",
          "text": [
            "Train Epoch: 5, Loss: 1.0263255387496948, Acc: 0.6340000000190735\n"
          ]
        },
        {
          "name": "stderr",
          "output_type": "stream",
          "text": [
            "100%|██████████| 196/196 [00:03<00:00, 55.05it/s]\n"
          ]
        },
        {
          "name": "stdout",
          "output_type": "stream",
          "text": [
            "Train Epoch: 6, Loss: 0.9542997205352783, Acc: 0.6616200000572204\n"
          ]
        },
        {
          "name": "stderr",
          "output_type": "stream",
          "text": [
            "100%|██████████| 196/196 [00:03<00:00, 55.40it/s]\n"
          ]
        },
        {
          "name": "stdout",
          "output_type": "stream",
          "text": [
            "Train Epoch: 7, Loss: 0.8975853736877442, Acc: 0.6771800000381469\n"
          ]
        },
        {
          "name": "stderr",
          "output_type": "stream",
          "text": [
            "100%|██████████| 196/196 [00:03<00:00, 59.41it/s]\n"
          ]
        },
        {
          "name": "stdout",
          "output_type": "stream",
          "text": [
            "Train Epoch: 8, Loss: 0.8398071804618835, Acc: 0.7002800000190735\n"
          ]
        },
        {
          "name": "stderr",
          "output_type": "stream",
          "text": [
            "100%|██████████| 196/196 [00:03<00:00, 56.28it/s]\n"
          ]
        },
        {
          "name": "stdout",
          "output_type": "stream",
          "text": [
            "Train Epoch: 9, Loss: 0.7742897876167297, Acc: 0.7259200000190735\n"
          ]
        },
        {
          "name": "stderr",
          "output_type": "stream",
          "text": [
            "100%|██████████| 196/196 [00:03<00:00, 55.14it/s]"
          ]
        },
        {
          "name": "stdout",
          "output_type": "stream",
          "text": [
            "Train Epoch: 10, Loss: 0.7238838541030884, Acc: 0.7413199999809265\n"
          ]
        },
        {
          "name": "stderr",
          "output_type": "stream",
          "text": [
            "\n"
          ]
        },
        {
          "name": "stdout",
          "output_type": "stream",
          "text": [
            "Val Epoch: 10, Loss: 1.2220892442703246, Acc: 0.5951\n"
          ]
        },
        {
          "name": "stderr",
          "output_type": "stream",
          "text": [
            "100%|██████████| 196/196 [00:04<00:00, 45.97it/s]\n"
          ]
        },
        {
          "name": "stdout",
          "output_type": "stream",
          "text": [
            "Train Epoch: 11, Loss: 0.6629407996368408, Acc: 0.7640999999809265\n"
          ]
        },
        {
          "name": "stderr",
          "output_type": "stream",
          "text": [
            "100%|██████████| 196/196 [00:03<00:00, 53.45it/s]\n"
          ]
        },
        {
          "name": "stdout",
          "output_type": "stream",
          "text": [
            "Train Epoch: 12, Loss: 0.6103262040138244, Acc: 0.7833599999809265\n"
          ]
        },
        {
          "name": "stderr",
          "output_type": "stream",
          "text": [
            "100%|██████████| 196/196 [00:03<00:00, 55.77it/s]\n"
          ]
        },
        {
          "name": "stdout",
          "output_type": "stream",
          "text": [
            "Train Epoch: 13, Loss: 0.5391633622360229, Acc: 0.809680000038147\n"
          ]
        },
        {
          "name": "stderr",
          "output_type": "stream",
          "text": [
            "100%|██████████| 196/196 [00:03<00:00, 53.24it/s]\n"
          ]
        },
        {
          "name": "stdout",
          "output_type": "stream",
          "text": [
            "Train Epoch: 14, Loss: 0.4972070977973938, Acc: 0.82192\n"
          ]
        },
        {
          "name": "stderr",
          "output_type": "stream",
          "text": [
            "100%|██████████| 196/196 [00:03<00:00, 55.69it/s]\n"
          ]
        },
        {
          "name": "stdout",
          "output_type": "stream",
          "text": [
            "Train Epoch: 15, Loss: 0.4357515505027771, Acc: 0.8446400000190735\n"
          ]
        },
        {
          "name": "stderr",
          "output_type": "stream",
          "text": [
            "100%|██████████| 196/196 [00:03<00:00, 58.34it/s]\n"
          ]
        },
        {
          "name": "stdout",
          "output_type": "stream",
          "text": [
            "Train Epoch: 16, Loss: 0.3842211639499664, Acc: 0.8627199999809265\n"
          ]
        },
        {
          "name": "stderr",
          "output_type": "stream",
          "text": [
            "100%|██████████| 196/196 [00:03<00:00, 54.57it/s]\n"
          ]
        },
        {
          "name": "stdout",
          "output_type": "stream",
          "text": [
            "Train Epoch: 17, Loss: 0.3446117849254608, Acc: 0.87676\n"
          ]
        },
        {
          "name": "stderr",
          "output_type": "stream",
          "text": [
            "100%|██████████| 196/196 [00:03<00:00, 54.28it/s]\n"
          ]
        },
        {
          "name": "stdout",
          "output_type": "stream",
          "text": [
            "Train Epoch: 18, Loss: 0.30529166405677793, Acc: 0.891400000038147\n"
          ]
        },
        {
          "name": "stderr",
          "output_type": "stream",
          "text": [
            "100%|██████████| 196/196 [00:04<00:00, 46.29it/s]\n"
          ]
        },
        {
          "name": "stdout",
          "output_type": "stream",
          "text": [
            "Train Epoch: 19, Loss: 0.24283156574726106, Acc: 0.91462\n"
          ]
        },
        {
          "name": "stderr",
          "output_type": "stream",
          "text": [
            "100%|██████████| 196/196 [00:03<00:00, 52.32it/s]"
          ]
        },
        {
          "name": "stdout",
          "output_type": "stream",
          "text": [
            "Train Epoch: 20, Loss: 0.2035765332698822, Acc: 0.9280200000190735\n"
          ]
        },
        {
          "name": "stderr",
          "output_type": "stream",
          "text": [
            "\n"
          ]
        },
        {
          "name": "stdout",
          "output_type": "stream",
          "text": [
            "Val Epoch: 20, Loss: 1.7603319058418274, Acc: 0.5921\n"
          ]
        },
        {
          "name": "stderr",
          "output_type": "stream",
          "text": [
            "100%|██████████| 196/196 [00:03<00:00, 55.79it/s]\n"
          ]
        },
        {
          "name": "stdout",
          "output_type": "stream",
          "text": [
            "Train Epoch: 21, Loss: 0.19763774086475372, Acc: 0.930980000038147\n"
          ]
        },
        {
          "name": "stderr",
          "output_type": "stream",
          "text": [
            "100%|██████████| 196/196 [00:03<00:00, 54.27it/s]\n"
          ]
        },
        {
          "name": "stdout",
          "output_type": "stream",
          "text": [
            "Train Epoch: 22, Loss: 0.15764650404930114, Acc: 0.9445000000381469\n"
          ]
        },
        {
          "name": "stderr",
          "output_type": "stream",
          "text": [
            "100%|██████████| 196/196 [00:04<00:00, 44.92it/s]\n"
          ]
        },
        {
          "name": "stdout",
          "output_type": "stream",
          "text": [
            "Train Epoch: 23, Loss: 0.14188523210525514, Acc: 0.94984\n"
          ]
        },
        {
          "name": "stderr",
          "output_type": "stream",
          "text": [
            "100%|██████████| 196/196 [00:03<00:00, 51.96it/s]\n"
          ]
        },
        {
          "name": "stdout",
          "output_type": "stream",
          "text": [
            "Train Epoch: 24, Loss: 0.11912021697044373, Acc: 0.9583600000190735\n"
          ]
        },
        {
          "name": "stderr",
          "output_type": "stream",
          "text": [
            "100%|██████████| 196/196 [00:03<00:00, 55.25it/s]\n"
          ]
        },
        {
          "name": "stdout",
          "output_type": "stream",
          "text": [
            "Train Epoch: 25, Loss: 0.08589668704986572, Acc: 0.9710400000572205\n"
          ]
        },
        {
          "name": "stderr",
          "output_type": "stream",
          "text": [
            "100%|██████████| 196/196 [00:03<00:00, 56.08it/s]\n"
          ]
        },
        {
          "name": "stdout",
          "output_type": "stream",
          "text": [
            "Train Epoch: 26, Loss: 0.08496304222583771, Acc: 0.970520000038147\n"
          ]
        },
        {
          "name": "stderr",
          "output_type": "stream",
          "text": [
            "100%|██████████| 196/196 [00:03<00:00, 55.65it/s]\n"
          ]
        },
        {
          "name": "stdout",
          "output_type": "stream",
          "text": [
            "Train Epoch: 27, Loss: 0.06948978443622589, Acc: 0.975620000038147\n"
          ]
        },
        {
          "name": "stderr",
          "output_type": "stream",
          "text": [
            "100%|██████████| 196/196 [00:03<00:00, 55.25it/s]\n"
          ]
        },
        {
          "name": "stdout",
          "output_type": "stream",
          "text": [
            "Train Epoch: 28, Loss: 0.06181089623451233, Acc: 0.9784199999809265\n"
          ]
        },
        {
          "name": "stderr",
          "output_type": "stream",
          "text": [
            "100%|██████████| 196/196 [00:03<00:00, 57.35it/s]\n"
          ]
        },
        {
          "name": "stdout",
          "output_type": "stream",
          "text": [
            "Train Epoch: 29, Loss: 0.04795040121793747, Acc: 0.98426\n"
          ]
        },
        {
          "name": "stderr",
          "output_type": "stream",
          "text": [
            "100%|██████████| 196/196 [00:03<00:00, 56.12it/s]"
          ]
        },
        {
          "name": "stdout",
          "output_type": "stream",
          "text": [
            "Train Epoch: 30, Loss: 0.06586823683738709, Acc: 0.978\n"
          ]
        },
        {
          "name": "stderr",
          "output_type": "stream",
          "text": [
            "\n"
          ]
        },
        {
          "name": "stdout",
          "output_type": "stream",
          "text": [
            "Val Epoch: 30, Loss: 2.347763451766968, Acc: 0.598\n"
          ]
        },
        {
          "name": "stderr",
          "output_type": "stream",
          "text": [
            "100%|██████████| 196/196 [00:03<00:00, 50.26it/s]\n"
          ]
        },
        {
          "name": "stdout",
          "output_type": "stream",
          "text": [
            "Train Epoch: 31, Loss: 0.04856338883519173, Acc: 0.9839\n"
          ]
        },
        {
          "name": "stderr",
          "output_type": "stream",
          "text": [
            "100%|██████████| 196/196 [00:03<00:00, 54.07it/s]\n"
          ]
        },
        {
          "name": "stdout",
          "output_type": "stream",
          "text": [
            "Train Epoch: 32, Loss: 0.02955283287525177, Acc: 0.990580000038147\n"
          ]
        },
        {
          "name": "stderr",
          "output_type": "stream",
          "text": [
            "100%|██████████| 196/196 [00:03<00:00, 57.42it/s]\n"
          ]
        },
        {
          "name": "stdout",
          "output_type": "stream",
          "text": [
            "Train Epoch: 33, Loss: 0.021404529991149904, Acc: 0.9935800000190735\n"
          ]
        },
        {
          "name": "stderr",
          "output_type": "stream",
          "text": [
            "100%|██████████| 196/196 [00:03<00:00, 59.41it/s]\n"
          ]
        },
        {
          "name": "stdout",
          "output_type": "stream",
          "text": [
            "Train Epoch: 34, Loss: 0.010732451424598694, Acc: 0.9973600000190734\n"
          ]
        },
        {
          "name": "stderr",
          "output_type": "stream",
          "text": [
            "100%|██████████| 196/196 [00:03<00:00, 56.15it/s]\n"
          ]
        },
        {
          "name": "stdout",
          "output_type": "stream",
          "text": [
            "Train Epoch: 35, Loss: 0.004582521117515862, Acc: 0.99904\n"
          ]
        },
        {
          "name": "stderr",
          "output_type": "stream",
          "text": [
            "100%|██████████| 196/196 [00:03<00:00, 55.94it/s]\n"
          ]
        },
        {
          "name": "stdout",
          "output_type": "stream",
          "text": [
            "Train Epoch: 36, Loss: 0.00117207951920107, Acc: 0.99994\n"
          ]
        },
        {
          "name": "stderr",
          "output_type": "stream",
          "text": [
            "100%|██████████| 196/196 [00:03<00:00, 56.05it/s]\n"
          ]
        },
        {
          "name": "stdout",
          "output_type": "stream",
          "text": [
            "Train Epoch: 37, Loss: 0.000534143506269902, Acc: 1.0\n"
          ]
        },
        {
          "name": "stderr",
          "output_type": "stream",
          "text": [
            "100%|██████████| 196/196 [00:03<00:00, 56.34it/s]\n"
          ]
        },
        {
          "name": "stdout",
          "output_type": "stream",
          "text": [
            "Train Epoch: 38, Loss: 0.00040357044318690895, Acc: 1.0\n"
          ]
        },
        {
          "name": "stderr",
          "output_type": "stream",
          "text": [
            "100%|██████████| 196/196 [00:03<00:00, 55.86it/s]\n"
          ]
        },
        {
          "name": "stdout",
          "output_type": "stream",
          "text": [
            "Train Epoch: 39, Loss: 0.0003452301647141576, Acc: 1.0\n"
          ]
        },
        {
          "name": "stderr",
          "output_type": "stream",
          "text": [
            "100%|██████████| 196/196 [00:03<00:00, 55.03it/s]"
          ]
        },
        {
          "name": "stdout",
          "output_type": "stream",
          "text": [
            "Train Epoch: 40, Loss: 0.000306044793818146, Acc: 1.0\n"
          ]
        },
        {
          "name": "stderr",
          "output_type": "stream",
          "text": [
            "\n"
          ]
        },
        {
          "name": "stdout",
          "output_type": "stream",
          "text": [
            "Val Epoch: 40, Loss: 2.793335849380493, Acc: 0.6167\n"
          ]
        },
        {
          "name": "stderr",
          "output_type": "stream",
          "text": [
            "100%|██████████| 196/196 [00:03<00:00, 56.57it/s]\n"
          ]
        },
        {
          "name": "stdout",
          "output_type": "stream",
          "text": [
            "Train Epoch: 41, Loss: 0.0002761810982879251, Acc: 1.0\n"
          ]
        },
        {
          "name": "stderr",
          "output_type": "stream",
          "text": [
            "100%|██████████| 196/196 [00:04<00:00, 46.58it/s]\n"
          ]
        },
        {
          "name": "stdout",
          "output_type": "stream",
          "text": [
            "Train Epoch: 42, Loss: 0.00025303634411655366, Acc: 1.0\n"
          ]
        },
        {
          "name": "stderr",
          "output_type": "stream",
          "text": [
            "100%|██████████| 196/196 [00:04<00:00, 42.54it/s]\n"
          ]
        },
        {
          "name": "stdout",
          "output_type": "stream",
          "text": [
            "Train Epoch: 43, Loss: 0.00023385315555147826, Acc: 1.0\n"
          ]
        },
        {
          "name": "stderr",
          "output_type": "stream",
          "text": [
            "100%|██████████| 196/196 [00:04<00:00, 45.91it/s]\n"
          ]
        },
        {
          "name": "stdout",
          "output_type": "stream",
          "text": [
            "Train Epoch: 44, Loss: 0.00021799356961622833, Acc: 1.0\n"
          ]
        },
        {
          "name": "stderr",
          "output_type": "stream",
          "text": [
            "100%|██████████| 196/196 [00:03<00:00, 55.56it/s]\n"
          ]
        },
        {
          "name": "stdout",
          "output_type": "stream",
          "text": [
            "Train Epoch: 45, Loss: 0.00020461011106614023, Acc: 1.0\n"
          ]
        },
        {
          "name": "stderr",
          "output_type": "stream",
          "text": [
            "100%|██████████| 196/196 [00:03<00:00, 55.95it/s]\n"
          ]
        },
        {
          "name": "stdout",
          "output_type": "stream",
          "text": [
            "Train Epoch: 46, Loss: 0.00019316830310039222, Acc: 1.0\n"
          ]
        },
        {
          "name": "stderr",
          "output_type": "stream",
          "text": [
            "100%|██████████| 196/196 [00:03<00:00, 56.70it/s]\n"
          ]
        },
        {
          "name": "stdout",
          "output_type": "stream",
          "text": [
            "Train Epoch: 47, Loss: 0.00018338543522171676, Acc: 1.0\n"
          ]
        },
        {
          "name": "stderr",
          "output_type": "stream",
          "text": [
            "100%|██████████| 196/196 [00:03<00:00, 55.69it/s]\n"
          ]
        },
        {
          "name": "stdout",
          "output_type": "stream",
          "text": [
            "Train Epoch: 48, Loss: 0.00017489314655773342, Acc: 1.0\n"
          ]
        },
        {
          "name": "stderr",
          "output_type": "stream",
          "text": [
            "100%|██████████| 196/196 [00:03<00:00, 55.57it/s]\n"
          ]
        },
        {
          "name": "stdout",
          "output_type": "stream",
          "text": [
            "Train Epoch: 49, Loss: 0.0001676423678919673, Acc: 1.0\n"
          ]
        },
        {
          "name": "stderr",
          "output_type": "stream",
          "text": [
            "100%|██████████| 196/196 [00:03<00:00, 54.02it/s]"
          ]
        },
        {
          "name": "stdout",
          "output_type": "stream",
          "text": [
            "Train Epoch: 50, Loss: 0.00016134691102430223, Acc: 1.0\n"
          ]
        },
        {
          "name": "stderr",
          "output_type": "stream",
          "text": [
            "\n"
          ]
        },
        {
          "name": "stdout",
          "output_type": "stream",
          "text": [
            "Val Epoch: 50, Loss: 2.893204977798462, Acc: 0.6189\n"
          ]
        },
        {
          "name": "stderr",
          "output_type": "stream",
          "text": [
            "100%|██████████| 196/196 [00:04<00:00, 41.08it/s]\n"
          ]
        },
        {
          "name": "stdout",
          "output_type": "stream",
          "text": [
            "Train Epoch: 51, Loss: 0.00015602588885463774, Acc: 1.0\n"
          ]
        },
        {
          "name": "stderr",
          "output_type": "stream",
          "text": [
            "100%|██████████| 196/196 [00:03<00:00, 56.33it/s]\n"
          ]
        },
        {
          "name": "stdout",
          "output_type": "stream",
          "text": [
            "Train Epoch: 52, Loss: 0.000151536345211789, Acc: 1.0\n"
          ]
        },
        {
          "name": "stderr",
          "output_type": "stream",
          "text": [
            "100%|██████████| 196/196 [00:03<00:00, 56.01it/s]\n"
          ]
        },
        {
          "name": "stdout",
          "output_type": "stream",
          "text": [
            "Train Epoch: 53, Loss: 0.00014783386820927262, Acc: 1.0\n"
          ]
        },
        {
          "name": "stderr",
          "output_type": "stream",
          "text": [
            "100%|██████████| 196/196 [00:03<00:00, 52.90it/s]\n"
          ]
        },
        {
          "name": "stdout",
          "output_type": "stream",
          "text": [
            "Train Epoch: 54, Loss: 0.00014484324048273265, Acc: 1.0\n"
          ]
        },
        {
          "name": "stderr",
          "output_type": "stream",
          "text": [
            "100%|██████████| 196/196 [00:03<00:00, 56.86it/s]\n"
          ]
        },
        {
          "name": "stdout",
          "output_type": "stream",
          "text": [
            "Train Epoch: 55, Loss: 0.00014250625401269644, Acc: 1.0\n"
          ]
        },
        {
          "name": "stderr",
          "output_type": "stream",
          "text": [
            "100%|██████████| 196/196 [00:03<00:00, 56.73it/s]\n"
          ]
        },
        {
          "name": "stdout",
          "output_type": "stream",
          "text": [
            "Train Epoch: 56, Loss: 0.00014078257288318126, Acc: 1.0\n"
          ]
        },
        {
          "name": "stderr",
          "output_type": "stream",
          "text": [
            "100%|██████████| 196/196 [00:03<00:00, 53.81it/s]\n"
          ]
        },
        {
          "name": "stdout",
          "output_type": "stream",
          "text": [
            "Train Epoch: 57, Loss: 0.0001396113464003429, Acc: 1.0\n"
          ]
        },
        {
          "name": "stderr",
          "output_type": "stream",
          "text": [
            "100%|██████████| 196/196 [00:04<00:00, 44.41it/s]\n"
          ]
        },
        {
          "name": "stdout",
          "output_type": "stream",
          "text": [
            "Train Epoch: 58, Loss: 0.0001389047552458942, Acc: 1.0\n"
          ]
        },
        {
          "name": "stderr",
          "output_type": "stream",
          "text": [
            "100%|██████████| 196/196 [00:03<00:00, 49.00it/s]"
          ]
        },
        {
          "name": "stdout",
          "output_type": "stream",
          "text": [
            "Train Epoch: 59, Loss: 0.00013856008015573025, Acc: 1.0\n"
          ]
        },
        {
          "name": "stderr",
          "output_type": "stream",
          "text": [
            "\n"
          ]
        },
        {
          "name": "stdout",
          "output_type": "stream",
          "text": [
            "Val Epoch: 59, Loss: 2.917063394546509, Acc: 0.6191\n",
            "Finished Training\n"
          ]
        }
      ],
      "source": [
        "# Time Estimate: less than 5 minutes on T4 GPU\n",
        "# train the model\n",
        "from pathlib import Path\n",
        "save_to_dir = Path(\"/mnt/align3_drive/adrianoh/dl_pset_3\")\n",
        "if not save_to_dir.exists():\n",
        "    save_to_dir.mkdir(parents=True)\n",
        "save_to_dir_q: bool = False # CHANGE THIS: when you need to debug or whatever\n",
        "\n",
        "import tqdm\n",
        "for epoch in range(STARTING_EPOCH, NUM_EPOCHS):  #\n",
        "    loss_meter = AverageMeter()\n",
        "    acc_meter = AverageMeter()\n",
        "    for img, labels in tqdm.tqdm(train_dataloader):\n",
        "        img, labels = img.to(device), labels.to(device)\n",
        "\n",
        "        optimizer.zero_grad()\n",
        "\n",
        "        outputs, _ = model(img)\n",
        "        loss = criterion(outputs, labels)\n",
        "        loss_meter.update(loss.item(), len(img))\n",
        "        acc = (outputs.argmax(-1) == labels).float().mean().item()\n",
        "        acc_meter.update(acc, len(img))\n",
        "        loss.backward()\n",
        "        optimizer.step()\n",
        "    scheduler.step()\n",
        "    print(f\"Train Epoch: {epoch}, Loss: {loss_meter.calculate()}, Acc: {acc_meter.calculate()}\")\n",
        "    if epoch % 10 == 0:\n",
        "        val_loss, val_acc = evaluate_cifar_model(model, criterion, val_dataloader)\n",
        "        print(f\"Val Epoch: {epoch}, Loss: {val_loss}, Acc: {val_acc}\")\n",
        "        if save_to_dir_q:\n",
        "            _state_dict = model.state_dict()\n",
        "            # put everything on cpu first\n",
        "            _state_dict = {k: v.cpu() for k, v in _state_dict.items()}\n",
        "            file = save_to_dir / f\"after_epoch_{epoch}.pt\"\n",
        "            if file.exists():\n",
        "                raise ValueError(f\"File {file.as_posix()} already exists\")\n",
        "            torch.save(_state_dict, file)\n",
        "            print(\"JUST SAVED: \", file.as_posix())\n",
        "\n",
        "val_loss, val_acc = evaluate_cifar_model(model, criterion, val_dataloader)\n",
        "print(f\"Val Epoch: {epoch}, Loss: {val_loss}, Acc: {val_acc}\")\n",
        "print('Finished Training')"
      ]
    },
    {
      "cell_type": "markdown",
      "id": "22a64f80",
      "metadata": {
        "id": "22a64f80"
      },
      "source": [
        "# Part 3.D"
      ]
    },
    {
      "cell_type": "code",
      "execution_count": 16,
      "id": "d90ecba6",
      "metadata": {
        "id": "d90ecba6"
      },
      "outputs": [
        {
          "data": {
            "image/png": "[encoded data removed]",
            "text/plain": [
              "<Figure size 1000x200 with 20 Axes>"
            ]
          },
          "metadata": {},
          "output_type": "display_data"
        }
      ],
      "source": [
        "for val_batch in val_dataloader:\n",
        "    break\n",
        "\n",
        "model.eval()\n",
        "with torch.no_grad():\n",
        "    img, labels = val_batch\n",
        "    img = img.to(device)\n",
        "    outputs, attns = model(img, return_attn=True)\n",
        "\n",
        "fig, ax = plt.subplots(2, 10, figsize=(10, 2))\n",
        "for i in range(10):\n",
        "    # mean over layer and num heads excl the cls token, and I think they look at the cls token's attention paid to the other patches\n",
        "    # excl itself.\n",
        "    flattened_attns = attns.flatten(1,2)[:, :, 0, 1:].mean(1).reshape(-1, 8, 8).cpu().numpy()\n",
        "    ax[0, i].imshow(inv_transform(img[i]))\n",
        "    ax[1, i].imshow(flattened_attns[i])\n",
        "    ax[0, i].axis(False)\n",
        "    ax[1, i].axis(False)"
      ]
    },
    {
      "cell_type": "markdown",
      "id": "3096185a",
      "metadata": {
        "id": "3096185a"
      },
      "source": [
        "# Problem 4: Dialogue GPT"
      ]
    },
    {
      "cell_type": "code",
      "execution_count": 28,
      "id": "13a6fe8d",
      "metadata": {
        "id": "13a6fe8d"
      },
      "outputs": [],
      "source": [
        "import wget\n",
        "import os\n",
        "if not os.path.exists(\"input.txt\"):\n",
        "    wget.download(\"https://raw.githubusercontent.com/karpathy/char-rnn/master/data/tinyshakespeare/input.txt\")"
      ]
    },
    {
      "cell_type": "code",
      "execution_count": 18,
      "id": "8c9133dc",
      "metadata": {
        "id": "8c9133dc"
      },
      "outputs": [],
      "source": [
        "with open('input.txt', 'r') as f:\n",
        "    raw_text = f.read()\n",
        "all_dialogues = raw_text.split('\\n\\n')\n"
      ]
    },
    {
      "cell_type": "code",
      "execution_count": 104,
      "id": "8e2d6861",
      "metadata": {
        "id": "8e2d6861"
      },
      "outputs": [
        {
          "name": "stderr",
          "output_type": "stream",
          "text": [
            "[nltk_data] Downloading package punkt to\n",
            "[nltk_data]     /afs/csail.mit.edu/u/a/adrianoh/nltk_data...\n",
            "[nltk_data]   Package punkt is already up-to-date!\n",
            "[nltk_data] Downloading package punkt_tab to\n",
            "[nltk_data]     /afs/csail.mit.edu/u/a/adrianoh/nltk_data...\n",
            "[nltk_data]   Package punkt_tab is already up-to-date!\n"
          ]
        },
        {
          "data": {
            "text/plain": [
              "True"
            ]
          },
          "execution_count": 104,
          "metadata": {},
          "output_type": "execute_result"
        }
      ],
      "source": [
        "import nltk\n",
        "from nltk.tokenize import word_tokenize\n",
        "nltk.download('punkt')\n",
        "nltk.download('punkt_tab')\n"
      ]
    },
    {
      "cell_type": "markdown",
      "id": "ccb804ff",
      "metadata": {
        "id": "ccb804ff"
      },
      "source": [
        "## Part 4.A"
      ]
    },
    {
      "cell_type": "code",
      "execution_count": 130,
      "id": "20f26a57",
      "metadata": {
        "id": "20f26a57"
      },
      "outputs": [],
      "source": [
        "def tokenize(s):\n",
        "  return word_tokenize(s) # not sure why they did this?\n",
        "\n",
        "class MyTokenizer:\n",
        "    def __init__(self, raw_text: str):\n",
        "        # raw_text     contains the text from which we will build our vocabulary\n",
        "\n",
        "        self.start = '<START>' # token that starts every example\n",
        "        self.pad = '<PAD>' # token used to pad examples to the same length\n",
        "        self.unk = '<UNK>' # token used if encountering a word not in our vocabulary\n",
        "\n",
        "        # NOTE: please read: https://piazza.com/class/m0pficutcic7hy/post/322\n",
        "        # (basically splitting on \\n\\n can lead to bugs)\n",
        "        tokens = []\n",
        "        all_dialogues = raw_text.split('\\n\\n')\n",
        "        for dialogue in all_dialogues:\n",
        "            tokens = tokens + tokenize(dialogue)\n",
        "        vocab = np.unique(tokens)\n",
        "        # vocab = np.unique(tokenize(raw_text)) # <---- old code\n",
        "        vocab = np.concatenate([np.array([self.start, self.pad, self.unk]), vocab])\n",
        "\n",
        "        self.vocab: List[str] = vocab # array of tokens in order\n",
        "        self.tok_to_id: Dict[str, int] = {w: i for i, w in enumerate(vocab)} # mapping of token to ID\n",
        "        self.vocab_size: int = len(self.vocab) # size of vocabulary\n",
        "\n",
        "    def encode(self, s: str, do_not_add_start_token: bool = False) -> torch.Tensor:\n",
        "        # s           input string\n",
        "        #\n",
        "        # Output\n",
        "        # id_tensor   a tensor of token ids, starting with the start token.t\n",
        "\n",
        "        id_tensor = None\n",
        "\n",
        "        # tokenize the input using word_tokenize. Return a tensor\n",
        "        # of the token ids, starting with the token id for the start token.\n",
        "        # ============ ANSWER START ===========\n",
        "        id_tensor: Int[torch.Tensor, \"N\"] = torch.tensor([self.tok_to_id[self.start]] + [self.tok_to_id[tok] for tok in tokenize(s)])\n",
        "        # ============ ANSWER END =============\n",
        "\n",
        "        return id_tensor\n",
        "\n",
        "    def decode(self, toks: Int[torch.Tensor, \"N\"]) -> str:\n",
        "        # toks         a list of token ids\n",
        "        #\n",
        "        # Output\n",
        "        # decoded_str  the token ids decoded back into a string (join with a space)\n",
        "\n",
        "        decoded_str = None\n",
        "\n",
        "        # convert the token ids back to the actual corresponding words.\n",
        "        # Join the tokens with a space and return the full string\n",
        "        # ============ ANSWER START ===========\n",
        "        decoded_str = \" \".join([self.vocab[tok] for tok in toks])\n",
        "        # ============ ANSWER END =============\n",
        "        assert decoded_str is not None\n",
        "\n",
        "        return decoded_str\n",
        "\n",
        "    def pad_examples(self, tok_list: List[torch.Tensor]) -> torch.Tensor:\n",
        "        # Pads the tensors to the right with the pad token so that they are the same length.\n",
        "        #\n",
        "        # tok_list       a list of tensors containing token ids (maybe of different lengths)\n",
        "        #\n",
        "        # Output\n",
        "        # padded_tokens  shape: (len(tok_list), max length within tok_list)\n",
        "        return torch.nn.utils.rnn.pad_sequence(tok_list, batch_first=True, padding_value=self.tok_to_id[self.pad])\n",
        "\n",
        "tok = MyTokenizer(raw_text)"
      ]
    },
    {
      "cell_type": "code",
      "execution_count": 131,
      "id": "328863ef",
      "metadata": {
        "id": "328863ef"
      },
      "outputs": [
        {
          "name": "stdout",
          "output_type": "stream",
          "text": [
            "tensor([    0,  1593,  2181,  1481,   223,  2342, 12741,  1476,  5703,  3318,\n",
            "        12794,  6847,  8726,  9607,  7654,   221])\n",
            "<START> KING RICHARD III : Say that I did all this for love of her .\n"
          ]
        }
      ],
      "source": [
        "# tokenizer test cases\n",
        "input_string = 'KING RICHARD III:\\nSay that I did all this for love of her.'\n",
        "enc = tok.encode(input_string)\n",
        "print(enc)\n",
        "dec = tok.decode(enc)\n",
        "print(dec)\n",
        "assert dec == \"<START> KING RICHARD III : Say that I did all this for love of her .\""
      ]
    },
    {
      "cell_type": "markdown",
      "id": "3359721d",
      "metadata": {
        "id": "3359721d"
      },
      "source": [
        "# Part 4.B"
      ]
    },
    {
      "cell_type": "code",
      "execution_count": 132,
      "id": "60f07f0a",
      "metadata": {
        "id": "60f07f0a"
      },
      "outputs": [],
      "source": [
        "class DialogueDataset:\n",
        "    def __init__(self, tokenizer: MyTokenizer, lines: List[str], max_N: int):\n",
        "        # tokenizer    an instance of MyTokenizer\n",
        "        # lines        a list of strings. each element in an example in the dataset\n",
        "        # max_N        the maximum number of tokens allowed per example. More than this will be truncated\n",
        "        self.lines = lines\n",
        "        self.tokenizer = tokenizer\n",
        "        self.max_N = max_N\n",
        "\n",
        "    def __len__(self) -> int:\n",
        "        return len(self.lines)\n",
        "\n",
        "    def __getitem__(self, idx: int) -> torch.Tensor:\n",
        "        # returns the example at int encoded by the tokenizer\n",
        "        # truncates the example if it is more than max_N tokens\n",
        "        return self.tokenizer.encode(self.lines[idx])[:self.max_N]\n",
        "\n",
        "def collate_fn(examples: List[torch.Tensor]):\n",
        "    # examples        a batch of tensors containing token ids (maybe of different lengths)\n",
        "    # Outputs a dictionary containing\n",
        "    #   input_ids     a single tensor with all of the examples padded (from the right) to the max\n",
        "    #                 length within the batch. shape:(B, max length within examples)\n",
        "    #   input_mask    a tensor indicating which tokens are padding and should be ignored. 0 if padding\n",
        "    #                 and 1 if not. shape: (B, max length within examples)\n",
        "    new_input_ids = tok.pad_examples(examples)\n",
        "    attn_mask = torch.ones(new_input_ids.shape)\n",
        "    attn_mask[new_input_ids == tok.tok_to_id[tok.pad]] = 0\n",
        "    return {'input_ids': tok.pad_examples(examples), 'input_mask': attn_mask}\n",
        "\n",
        "ds = DialogueDataset(tok, all_dialogues, max_N=200)\n",
        "training_dl = torch.utils.data.DataLoader(ds, batch_size=64, collate_fn=collate_fn)"
      ]
    },
    {
      "cell_type": "code",
      "execution_count": 133,
      "id": "930c4fde",
      "metadata": {
        "id": "930c4fde"
      },
      "outputs": [
        {
          "name": "stdout",
          "output_type": "stream",
          "text": [
            "{'input_ids': tensor([[   0, 1151,  708,  ...,    1,    1,    1],\n",
            "        [   0,  323,  223,  ...,    1,    1,    1],\n",
            "        [   0, 1151,  708,  ...,    1,    1,    1],\n",
            "        ...,\n",
            "        [   0, 1733,  223,  ...,    1,    1,    1],\n",
            "        [   0, 1151, 2384,  ...,    1,    1,    1],\n",
            "        [   0, 1733,  223,  ...,    1,    1,    1]]), 'input_mask': tensor([[1., 1., 1.,  ..., 0., 0., 0.],\n",
            "        [1., 1., 1.,  ..., 0., 0., 0.],\n",
            "        [1., 1., 1.,  ..., 0., 0., 0.],\n",
            "        ...,\n",
            "        [1., 1., 1.,  ..., 0., 0., 0.],\n",
            "        [1., 1., 1.,  ..., 0., 0., 0.],\n",
            "        [1., 1., 1.,  ..., 0., 0., 0.]])}\n"
          ]
        }
      ],
      "source": [
        "# take a look at an example of an element from the training dataloader\n",
        "for batch in training_dl:\n",
        "    print(batch)\n",
        "    break"
      ]
    },
    {
      "cell_type": "markdown",
      "id": "f980fc7d",
      "metadata": {
        "id": "f980fc7d"
      },
      "source": [
        "## Part 4.C"
      ]
    },
    {
      "cell_type": "code",
      "execution_count": 134,
      "id": "D3KyNSu_aKqC",
      "metadata": {
        "id": "D3KyNSu_aKqC"
      },
      "outputs": [
        {
          "name": "stdout",
          "output_type": "stream",
          "text": [
            "tensor([[ 0,  1,  2,  ..., 97, 98, 99],\n",
            "        [ 0,  1,  2,  ..., 97, 98, 99],\n",
            "        [ 0,  1,  2,  ..., 97, 98, 99],\n",
            "        ...,\n",
            "        [ 0,  1,  2,  ..., 97, 98, 99],\n",
            "        [ 0,  1,  2,  ..., 97, 98, 99],\n",
            "        [ 0,  1,  2,  ..., 97, 98, 99]])\n",
            "Embedding(200, 128)\n"
          ]
        },
        {
          "data": {
            "text/plain": [
              "torch.Size([32, 100, 128])"
            ]
          },
          "execution_count": 134,
          "metadata": {},
          "output_type": "execute_result"
        }
      ],
      "source": [
        "embs = torch.ones((32, 100, 128))\n",
        "B, T, _ = embs.shape\n",
        "pos_ids = torch.arange(T).expand(B, -1)\n",
        "print(pos_ids)\n",
        "pos_E = nn.Embedding(200, 128)\n",
        "print(pos_E)\n",
        "pos_E(pos_ids).shape"
      ]
    },
    {
      "cell_type": "code",
      "execution_count": 135,
      "id": "f37a893a",
      "metadata": {
        "id": "f37a893a"
      },
      "outputs": [],
      "source": [
        "class DialogueGPT(nn.Module):\n",
        "    def __init__(self, vocab_size: int, max_N: int, dim: int, attn_dim: int, mlp_dim: int, num_heads: int, num_layers: int):\n",
        "        # vocab_size       size of the vocabulary\n",
        "        # max_N            maximum number of tokens allowed to appear in 1 example\n",
        "        # dim              embedding dimension\n",
        "        # attn_dim         the hidden dimension of the attention layer\n",
        "        # mlp_dim          the hidden layer dimension of the FFN\n",
        "        # num_heads        the number of heads in the attention layer\n",
        "        # num_layers       the number of attention layers.\n",
        "\n",
        "        super().__init__()\n",
        "\n",
        "        # DONE: set up the token embedding and positional embeddings\n",
        "        #       Hint, use nn.Embedding\n",
        "        # ============ ANSWER START ============\n",
        "        self.tok_embed = nn.Embedding(vocab_size, dim)\n",
        "        self.pos_embed = nn.Embedding(max_N, dim)\n",
        "        self.vocab_size = vocab_size\n",
        "        self.dim = dim\n",
        "        self.max_N = max_N\n",
        "        self.attn_dim = attn_dim\n",
        "        self.mlp_dim = mlp_dim\n",
        "        self.num_heads = num_heads\n",
        "        self.num_layers = num_layers\n",
        "        # Register buffer so it is known to be put on the same device\n",
        "        # make a buffer\n",
        "        causal_attn_mask = torch.tril(torch.ones(max_N, max_N))\n",
        "        assert causal_attn_mask.shape == (max_N, max_N)\n",
        "        # sanity check\n",
        "        assert causal_attn_mask[0, 0] == 1 # lower triangle top left vertex\n",
        "        assert causal_attn_mask[-1, -1] == 1 # lower triangle bottom right vertex\n",
        "        assert causal_attn_mask[0, -1] == 0 # MATRIX top right vertex shold NOT be 1\n",
        "        assert causal_attn_mask[-1, 0] == 1 # lower triangle bottom left vertex\n",
        "        _test_indices = torch.randint(low=0, high=max_N, size=(2, 200)) # testing 200 random pairs\n",
        "        assert _test_indices.shape == (2, 200)\n",
        "        # large y (top to bottom) means it should be 1 else zero; sanity checker\n",
        "        _test_mask = causal_attn_mask[_test_indices[0], _test_indices[1]]\n",
        "        _test_loc = _test_indices[0] >= _test_indices[1] # y is first then x aha\n",
        "        assert _test_mask.shape == _test_loc.shape == (200,), f\"{_test_mask.shape} {_test_loc.shape}\"\n",
        "        assert (_test_mask == _test_loc).all(), f\"{_test_mask}\\n\\n{_test_loc}\\n\\n{causal_attn_mask[:15, :15]}\"\n",
        "        # make sure it will be updated\n",
        "\n",
        "        # make sure it has batch as expected\n",
        "        causal_attn_mask = einops.rearrange(causal_attn_mask, \"i j -> 1 i j\", i=max_N, j=max_N)\n",
        "        self.register_buffer(\"causal_attn_mask\", causal_attn_mask)\n",
        "        # ============ ANSWER END ==============\n",
        "\n",
        "        self.transformer = Transformer(\n",
        "            dim=dim, attn_dim=attn_dim, mlp_dim=mlp_dim, num_heads=num_heads, num_layers=num_layers)\n",
        "\n",
        "        self.head = nn.Sequential(\n",
        "            nn.LayerNorm(dim),\n",
        "            nn.Linear(dim, vocab_size)\n",
        "        )\n",
        "\n",
        "    def forward(self, input_ids: Int[torch.Tensor, \"batch seq\"], return_attn: bool=False) -> Tuple[torch.Tensor, Optional[torch.Tensor]]:\n",
        "        # input_ids     a batch of input ids (right padded). shape: (B x T)\n",
        "        # return_attn   whether to return the attention weights\n",
        "        #\n",
        "        # Output\n",
        "        # out           the logit vector (B x T x V)\n",
        "        # alphas        the attention weights if return_attn is True. Otherwise None shape: (B, num_layers, num_heads, T, T)\n",
        "        assert len(input_ids.shape) == 2\n",
        "        batch, seq = input_ids.shape\n",
        "        assert seq <= self.max_N\n",
        "\n",
        "        # Note sure where this came from but it fixes the issue...\n",
        "        my_device = next(self.parameters()).device\n",
        "        assert my_device == input_ids.device\n",
        "\n",
        "        embs = None\n",
        "\n",
        "        # retrieve the token embeddings for the input_ids.\n",
        "        #       Add to the token embeddings the positional embeddings.\n",
        "        #       Store the combined embedding in embs\n",
        "        # ============ ANSWER START ============\n",
        "        embds: Int[torch.Tensor, \"batch seq dim\"] = self.tok_embed(input_ids)\n",
        "        pos_ids: Int[torch.Tensor, \"batch seq\"] = torch.arange(seq).expand(batch, -1).to(my_device)\n",
        "        pos_embs: Int[torch.Tensor, \"batch seq dim\"] = self.pos_embed(pos_ids).to(my_device)\n",
        "        assert embds.device == my_device\n",
        "        assert pos_embs.device == my_device\n",
        "        embs = embds + pos_embs\n",
        "        # ============ ANSWER END ============\n",
        "        assert embds is not None\n",
        "        assert embds.shape == (batch, seq, self.dim)\n",
        "\n",
        "        causal_attn_mask = None\n",
        "\n",
        "        # Create the causal attention mask, which should be of size (B, T, T)\n",
        "        #       Remember that the causal attention mask is lower triangular (all tokens only\n",
        "        #       depend on themselves and the tokens before them).\n",
        "        #.      Store the mask in causal_attn_mask\n",
        "        # Hint: check out torch.tril\n",
        "        # ============ ANSWER START ============\n",
        "        assert len(self.causal_attn_mask.shape) == 3\n",
        "        causal_attn_mask = self.causal_attn_mask[:, :seq, :seq] # don't do this every time for speed\n",
        "        assert causal_attn_mask.device == my_device\n",
        "        # ============ ANSWER END ==============\n",
        "        assert causal_attn_mask is not None\n",
        "        assert causal_attn_mask.shape == (1, seq, seq)\n",
        "\n",
        "        x, alphas = self.transformer(embs, attn_mask=causal_attn_mask, return_attn=return_attn)\n",
        "        out = self.head(x)\n",
        "        assert out.device == my_device\n",
        "        return out, alphas\n",
        "\n",
        "    def generate(self, input_ids, num_tokens):\n",
        "        # you can assume batch size 1\n",
        "        with torch.no_grad():\n",
        "            for i in range(num_tokens):\n",
        "                out, _ = self.forward(input_ids)\n",
        "                new_token = torch.argmax(out[:, [-1]], -1)\n",
        "                input_ids = torch.cat([input_ids, new_token], dim=1)\n",
        "        return input_ids\n",
        "\n",
        "\n",
        "\n"
      ]
    },
    {
      "cell_type": "markdown",
      "id": "a8b5f097",
      "metadata": {
        "id": "a8b5f097"
      },
      "source": [
        "## Part 4.D"
      ]
    },
    {
      "cell_type": "code",
      "execution_count": 136,
      "id": "a91f3300",
      "metadata": {
        "id": "a91f3300"
      },
      "outputs": [],
      "source": [
        "class DialogueLoss(nn.Module):\n",
        "    def __init__(self):\n",
        "        super().__init__()\n",
        "        self.criterion = nn.CrossEntropyLoss(reduction='none')\n",
        "\n",
        "    def forward(\n",
        "            self,\n",
        "            logits: Float[torch.Tensor, \"batch seq vocab\"],\n",
        "            input_ids: Int[torch.Tensor, \"batch seq\"],\n",
        "            inp_mask: Float[torch.Tensor, \"batch seq\"]\n",
        "        ):\n",
        "        batch, seq, _ = logits.shape\n",
        "        assert input_ids.shape == (batch, seq)\n",
        "        assert inp_mask.shape == (batch, seq)\n",
        "        # logits      the logits produced by DialogueGPT. shape: (B x T x V)\n",
        "        # input_ids   the token ids. shape: (B x T)\n",
        "        # inp_mask    a 0/1 mask of which tokens are padding tokens and should be ignored. shape: (B x T)\n",
        "\n",
        "        # Implement the language model loss. For logits[i], we want to supervise the i+1 token_id\n",
        "        # with the cross entropy loss. We thus will not supervise the start token (input_ids[0]) or use\n",
        "        # the last logit vector (logits[-1]). Return the average of the losses for each token in the batch,\n",
        "        # making sure to ignore tokens corresponding to the padding (use inp_mask).\n",
        "\n",
        "        # ============ ANSWER START ============\n",
        "        # print(logits.shape, input_ids.shape, inp_mask.shape) # DEBUG\n",
        "        # BOTH: full batch, then seq - 1\n",
        "        # --- DROP the last portion\n",
        "        logits = logits[:, :-1, :]\n",
        "        input_ids = input_ids[:, 1:]\n",
        "        inp_mask = inp_mask[:, 1:]\n",
        "        # --- READ: https://pytorch.org/docs/stable/generated/torch.nn.functional.cross_entropy.html\n",
        "        # concatenate into N, C and just N elswhere\n",
        "        logits = einops.rearrange(logits, \"batch seq vocab -> (batch seq) vocab\")\n",
        "        input_ids = einops.rearrange(input_ids, \"batch seq -> (batch seq)\")\n",
        "        inp_mask = einops.rearrange(inp_mask, \"batch seq -> (batch seq)\")\n",
        "        assert len(logits.shape) == 2\n",
        "        assert len(input_ids.shape) == 1\n",
        "        assert len(inp_mask.shape) == 1\n",
        "        assert logits.shape[0] == input_ids.shape[0] == inp_mask.shape[0]\n",
        "        loss = self.criterion(logits, input_ids)\n",
        "        assert loss.shape == (batch * (seq - 1),)\n",
        "        masked_loss = loss[inp_mask == 1] # corr. to input ids so shift like this\n",
        "        assert masked_loss.shape[0] <= batch * (seq - 1), f\"{masked_loss.shape} @ [0] != {batch * (seq - 1)} (batch * seq - 1)\"\n",
        "        loss_item = masked_loss.mean()\n",
        "        # ============ ANSWER END ==============\n",
        "        return loss_item"
      ]
    },
    {
      "cell_type": "markdown",
      "id": "fa39592a",
      "metadata": {
        "id": "fa39592a"
      },
      "source": [
        "## Part 4.F"
      ]
    },
    {
      "cell_type": "code",
      "execution_count": 137,
      "id": "06e5b68b",
      "metadata": {
        "id": "06e5b68b"
      },
      "outputs": [],
      "source": [
        "import torch.optim as optim\n",
        "\n",
        "model = DialogueGPT(vocab_size=tok.vocab_size, max_N=200, dim=128, attn_dim=64, mlp_dim=128, num_heads=3, num_layers=6).to(device)\n",
        "criterion = DialogueLoss()\n",
        "\n",
        "NUM_EPOCHS = 80\n",
        "\n",
        "\n",
        "\n",
        "optimizer = optim.AdamW(model.parameters(), lr=0.0001, weight_decay=0) # implement in homework\n",
        "scheduler = optim.lr_scheduler.CosineAnnealingLR(optimizer, T_max=NUM_EPOCHS)\n"
      ]
    },
    {
      "cell_type": "code",
      "execution_count": 138,
      "id": "63c72fb2",
      "metadata": {
        "id": "63c72fb2"
      },
      "outputs": [
        {
          "name": "stderr",
          "output_type": "stream",
          "text": [
            "100%|██████████| 113/113 [00:03<00:00, 28.58it/s]\n"
          ]
        },
        {
          "name": "stdout",
          "output_type": "stream",
          "text": [
            "<START> : : , , , , , , , ,\n",
            "Train Epoch: 0, Loss: 8.4008, LR: 9.996145181203615e-05\n"
          ]
        },
        {
          "name": "stderr",
          "output_type": "stream",
          "text": [
            "100%|██████████| 113/113 [00:03<00:00, 29.08it/s]\n"
          ]
        },
        {
          "name": "stdout",
          "output_type": "stream",
          "text": [
            "<START> : : , , , , , , , ,\n",
            "Train Epoch: 1, Loss: 7.0115, LR: 9.98458666866564e-05\n"
          ]
        },
        {
          "name": "stderr",
          "output_type": "stream",
          "text": [
            "100%|██████████| 113/113 [00:03<00:00, 29.20it/s]\n"
          ]
        },
        {
          "name": "stdout",
          "output_type": "stream",
          "text": [
            "<START> : : : , , , , , , ,\n",
            "Train Epoch: 2, Loss: 6.5017, LR: 9.965342284774632e-05\n"
          ]
        },
        {
          "name": "stderr",
          "output_type": "stream",
          "text": [
            "100%|██████████| 113/113 [00:03<00:00, 28.90it/s]\n"
          ]
        },
        {
          "name": "stdout",
          "output_type": "stream",
          "text": [
            "<START> : : : I , , , , , ,\n",
            "Train Epoch: 3, Loss: 6.3425, LR: 9.938441702975689e-05\n"
          ]
        },
        {
          "name": "stderr",
          "output_type": "stream",
          "text": [
            "100%|██████████| 113/113 [00:03<00:00, 29.65it/s]\n"
          ]
        },
        {
          "name": "stdout",
          "output_type": "stream",
          "text": [
            "<START> : : I , I : I : I :\n",
            "Train Epoch: 4, Loss: 6.2268, LR: 9.903926402016153e-05\n"
          ]
        },
        {
          "name": "stderr",
          "output_type": "stream",
          "text": [
            "100%|██████████| 113/113 [00:03<00:00, 28.93it/s]\n"
          ]
        },
        {
          "name": "stdout",
          "output_type": "stream",
          "text": [
            "<START> : : I , I : I : I :\n",
            "Train Epoch: 5, Loss: 6.1345, LR: 9.861849601988383e-05\n"
          ]
        },
        {
          "name": "stderr",
          "output_type": "stream",
          "text": [
            "100%|██████████| 113/113 [00:03<00:00, 29.09it/s]\n"
          ]
        },
        {
          "name": "stdout",
          "output_type": "stream",
          "text": [
            "<START> : : I , I have , I have ,\n",
            "Train Epoch: 6, Loss: 6.0515, LR: 9.812276182268236e-05\n"
          ]
        },
        {
          "name": "stderr",
          "output_type": "stream",
          "text": [
            "100%|██████████| 113/113 [00:03<00:00, 28.89it/s]\n"
          ]
        },
        {
          "name": "stdout",
          "output_type": "stream",
          "text": [
            "<START> : : I have , I have , I have\n",
            "Train Epoch: 7, Loss: 5.9802, LR: 9.755282581475769e-05\n"
          ]
        },
        {
          "name": "stderr",
          "output_type": "stream",
          "text": [
            "100%|██████████| 113/113 [00:03<00:00, 29.02it/s]\n"
          ]
        },
        {
          "name": "stdout",
          "output_type": "stream",
          "text": [
            "<START> : : I have , I have , I have\n",
            "Train Epoch: 8, Loss: 5.9177, LR: 9.690956679612421e-05\n"
          ]
        },
        {
          "name": "stderr",
          "output_type": "stream",
          "text": [
            "100%|██████████| 113/113 [00:03<00:00, 29.02it/s]\n"
          ]
        },
        {
          "name": "stdout",
          "output_type": "stream",
          "text": [
            "<START> KING : I am , I have , I have\n",
            "Train Epoch: 9, Loss: 5.8596, LR: 9.619397662556433e-05\n"
          ]
        },
        {
          "name": "stderr",
          "output_type": "stream",
          "text": [
            "100%|██████████| 113/113 [00:03<00:00, 29.02it/s]\n"
          ]
        },
        {
          "name": "stdout",
          "output_type": "stream",
          "text": [
            "<START> KING : I am , I am I am I\n",
            "Train Epoch: 10, Loss: 5.8074, LR: 9.540715869125406e-05\n"
          ]
        },
        {
          "name": "stderr",
          "output_type": "stream",
          "text": [
            "100%|██████████| 113/113 [00:03<00:00, 29.26it/s]\n"
          ]
        },
        {
          "name": "stdout",
          "output_type": "stream",
          "text": [
            "<START> KING : I 'll not the king , and the\n",
            "Train Epoch: 11, Loss: 5.7547, LR: 9.455032620941839e-05\n"
          ]
        },
        {
          "name": "stderr",
          "output_type": "stream",
          "text": [
            "100%|██████████| 113/113 [00:03<00:00, 31.94it/s]\n"
          ]
        },
        {
          "name": "stdout",
          "output_type": "stream",
          "text": [
            "<START> KING RICHARD III : I 'll be the king .\n",
            "Train Epoch: 12, Loss: 5.7067, LR: 9.362480035363986e-05\n"
          ]
        },
        {
          "name": "stderr",
          "output_type": "stream",
          "text": [
            "100%|██████████| 113/113 [00:03<00:00, 30.00it/s]\n"
          ]
        },
        {
          "name": "stdout",
          "output_type": "stream",
          "text": [
            "<START> KING : I 'll not the king , and the\n",
            "Train Epoch: 13, Loss: 5.6619, LR: 9.263200821770461e-05\n"
          ]
        },
        {
          "name": "stderr",
          "output_type": "stream",
          "text": [
            "100%|██████████| 113/113 [00:03<00:00, 29.72it/s]\n"
          ]
        },
        {
          "name": "stdout",
          "output_type": "stream",
          "text": [
            "<START> KING RICHARD III : I 'll be a man .\n",
            "Train Epoch: 14, Loss: 5.6197, LR: 9.157348061512727e-05\n"
          ]
        },
        {
          "name": "stderr",
          "output_type": "stream",
          "text": [
            "100%|██████████| 113/113 [00:03<00:00, 30.35it/s]\n"
          ]
        },
        {
          "name": "stdout",
          "output_type": "stream",
          "text": [
            "<START> KING RICHARD III : I 'll not be a king\n",
            "Train Epoch: 15, Loss: 5.5809, LR: 9.045084971874738e-05\n"
          ]
        },
        {
          "name": "stderr",
          "output_type": "stream",
          "text": [
            "100%|██████████| 113/113 [00:03<00:00, 30.38it/s]\n"
          ]
        },
        {
          "name": "stdout",
          "output_type": "stream",
          "text": [
            "<START> DUKE VINCENTIO : I 'll the king , and the\n",
            "Train Epoch: 16, Loss: 5.5448, LR: 8.926584654403724e-05\n"
          ]
        },
        {
          "name": "stderr",
          "output_type": "stream",
          "text": [
            "100%|██████████| 113/113 [00:03<00:00, 29.31it/s]\n"
          ]
        },
        {
          "name": "stdout",
          "output_type": "stream",
          "text": [
            "<START> DUKE VINCENTIO : I 'll not the king , and\n",
            "Train Epoch: 17, Loss: 5.5108, LR: 8.802029828000156e-05\n"
          ]
        },
        {
          "name": "stderr",
          "output_type": "stream",
          "text": [
            "100%|██████████| 113/113 [00:03<00:00, 29.20it/s]\n"
          ]
        },
        {
          "name": "stdout",
          "output_type": "stream",
          "text": [
            "<START> DUKE VINCENTIO : I 'll not the king , and\n",
            "Train Epoch: 18, Loss: 5.4788, LR: 8.671612547178429e-05\n"
          ]
        },
        {
          "name": "stderr",
          "output_type": "stream",
          "text": [
            "100%|██████████| 113/113 [00:03<00:00, 30.52it/s]\n"
          ]
        },
        {
          "name": "stdout",
          "output_type": "stream",
          "text": [
            "<START> DUKE VINCENTIO : I 'll not the king , and\n",
            "Train Epoch: 19, Loss: 5.4499, LR: 8.535533905932738e-05\n"
          ]
        },
        {
          "name": "stderr",
          "output_type": "stream",
          "text": [
            "100%|██████████| 113/113 [00:03<00:00, 32.75it/s]\n"
          ]
        },
        {
          "name": "stdout",
          "output_type": "stream",
          "text": [
            "<START> DUKE VINCENTIO : I 'll not your lord . What\n",
            "Train Epoch: 20, Loss: 5.4225, LR: 8.39400372766471e-05\n"
          ]
        },
        {
          "name": "stderr",
          "output_type": "stream",
          "text": [
            "100%|██████████| 113/113 [00:03<00:00, 29.81it/s]\n"
          ]
        },
        {
          "name": "stdout",
          "output_type": "stream",
          "text": [
            "<START> KING EDWARD IV : What is the king ? I\n",
            "Train Epoch: 21, Loss: 5.3971, LR: 8.247240241650919e-05\n"
          ]
        },
        {
          "name": "stderr",
          "output_type": "stream",
          "text": [
            "100%|██████████| 113/113 [00:03<00:00, 29.07it/s]\n"
          ]
        },
        {
          "name": "stdout",
          "output_type": "stream",
          "text": [
            "<START> DUKE VINCENTIO : I 'll not , sir , sir\n",
            "Train Epoch: 22, Loss: 5.3727, LR: 8.095469746549169e-05\n"
          ]
        },
        {
          "name": "stderr",
          "output_type": "stream",
          "text": [
            "100%|██████████| 113/113 [00:03<00:00, 29.03it/s]\n"
          ]
        },
        {
          "name": "stdout",
          "output_type": "stream",
          "text": [
            "<START> DUKE VINCENTIO : I 'll not , sir , sir\n",
            "Train Epoch: 23, Loss: 5.3493, LR: 7.938926261462365e-05\n"
          ]
        },
        {
          "name": "stderr",
          "output_type": "stream",
          "text": [
            "100%|██████████| 113/113 [00:03<00:00, 29.18it/s]\n"
          ]
        },
        {
          "name": "stdout",
          "output_type": "stream",
          "text": [
            "<START> DUKE VINCENTIO : I 'll not , sir , sir\n",
            "Train Epoch: 24, Loss: 5.3266, LR: 7.77785116509801e-05\n"
          ]
        },
        {
          "name": "stderr",
          "output_type": "stream",
          "text": [
            "100%|██████████| 113/113 [00:03<00:00, 29.71it/s]\n"
          ]
        },
        {
          "name": "stdout",
          "output_type": "stream",
          "text": [
            "<START> DUKE VINCENTIO : I 'll not , sir , sir\n",
            "Train Epoch: 25, Loss: 5.3031, LR: 7.612492823579744e-05\n"
          ]
        },
        {
          "name": "stderr",
          "output_type": "stream",
          "text": [
            "100%|██████████| 113/113 [00:03<00:00, 29.09it/s]\n"
          ]
        },
        {
          "name": "stdout",
          "output_type": "stream",
          "text": [
            "<START> DUKE VINCENTIO : I 'll not , sir , sir\n",
            "Train Epoch: 26, Loss: 5.2804, LR: 7.443106207484775e-05\n"
          ]
        },
        {
          "name": "stderr",
          "output_type": "stream",
          "text": [
            "100%|██████████| 113/113 [00:03<00:00, 29.05it/s]\n"
          ]
        },
        {
          "name": "stdout",
          "output_type": "stream",
          "text": [
            "<START> DUKE VINCENTIO : I 'll not , sir , sir\n",
            "Train Epoch: 27, Loss: 5.2582, LR: 7.269952498697733e-05\n"
          ]
        },
        {
          "name": "stderr",
          "output_type": "stream",
          "text": [
            "100%|██████████| 113/113 [00:03<00:00, 30.28it/s]\n"
          ]
        },
        {
          "name": "stdout",
          "output_type": "stream",
          "text": [
            "<START> DUKE VINCENTIO : I 'll not , sir , sir\n",
            "Train Epoch: 28, Loss: 5.2374, LR: 7.093298687687139e-05\n"
          ]
        },
        {
          "name": "stderr",
          "output_type": "stream",
          "text": [
            "100%|██████████| 113/113 [00:03<00:00, 29.17it/s]\n"
          ]
        },
        {
          "name": "stdout",
          "output_type": "stream",
          "text": [
            "<START> DUKE VINCENTIO : I 'll not , sir , sir\n",
            "Train Epoch: 29, Loss: 5.2177, LR: 6.913417161825447e-05\n"
          ]
        },
        {
          "name": "stderr",
          "output_type": "stream",
          "text": [
            "100%|██████████| 113/113 [00:03<00:00, 29.12it/s]\n"
          ]
        },
        {
          "name": "stdout",
          "output_type": "stream",
          "text": [
            "<START> DUKE VINCENTIO : I 'll not , sir , sir\n",
            "Train Epoch: 30, Loss: 5.1991, LR: 6.730585285387463e-05\n"
          ]
        },
        {
          "name": "stderr",
          "output_type": "stream",
          "text": [
            "100%|██████████| 113/113 [00:03<00:00, 30.14it/s]\n"
          ]
        },
        {
          "name": "stdout",
          "output_type": "stream",
          "text": [
            "<START> DUKE VINCENTIO : I 'll not , sir , sir\n",
            "Train Epoch: 31, Loss: 5.1816, LR: 6.545084971874736e-05\n"
          ]
        },
        {
          "name": "stderr",
          "output_type": "stream",
          "text": [
            "100%|██████████| 113/113 [00:03<00:00, 29.28it/s]\n"
          ]
        },
        {
          "name": "stdout",
          "output_type": "stream",
          "text": [
            "<START> DUKE VINCENTIO : I 'll not , sir , sir\n",
            "Train Epoch: 32, Loss: 5.1640, LR: 6.35720224932537e-05\n"
          ]
        },
        {
          "name": "stderr",
          "output_type": "stream",
          "text": [
            "100%|██████████| 113/113 [00:03<00:00, 29.08it/s]\n"
          ]
        },
        {
          "name": "stdout",
          "output_type": "stream",
          "text": [
            "<START> DUKE VINCENTIO : I 'll not , sir , sir\n",
            "Train Epoch: 33, Loss: 5.1462, LR: 6.167226819279526e-05\n"
          ]
        },
        {
          "name": "stderr",
          "output_type": "stream",
          "text": [
            "100%|██████████| 113/113 [00:03<00:00, 31.06it/s]\n"
          ]
        },
        {
          "name": "stdout",
          "output_type": "stream",
          "text": [
            "<START> PETRUCHIO : I 'll be so . I am I\n",
            "Train Epoch: 34, Loss: 5.1292, LR: 5.97545161008064e-05\n"
          ]
        },
        {
          "name": "stderr",
          "output_type": "stream",
          "text": [
            "100%|██████████| 113/113 [00:03<00:00, 30.71it/s]\n"
          ]
        },
        {
          "name": "stdout",
          "output_type": "stream",
          "text": [
            "<START> PETRUCHIO : I 'll be so . I am I\n",
            "Train Epoch: 35, Loss: 5.1130, LR: 5.782172325201153e-05\n"
          ]
        },
        {
          "name": "stderr",
          "output_type": "stream",
          "text": [
            "100%|██████████| 113/113 [00:03<00:00, 29.17it/s]\n"
          ]
        },
        {
          "name": "stdout",
          "output_type": "stream",
          "text": [
            "<START> PETRUCHIO : I 'll be so . I am I\n",
            "Train Epoch: 36, Loss: 5.0964, LR: 5.587686987289187e-05\n"
          ]
        },
        {
          "name": "stderr",
          "output_type": "stream",
          "text": [
            "100%|██████████| 113/113 [00:03<00:00, 30.09it/s]\n"
          ]
        },
        {
          "name": "stdout",
          "output_type": "stream",
          "text": [
            "<START> PETRUCHIO : I 'll be so . I am I\n",
            "Train Epoch: 37, Loss: 5.0802, LR: 5.392295478639223e-05\n"
          ]
        },
        {
          "name": "stderr",
          "output_type": "stream",
          "text": [
            "100%|██████████| 113/113 [00:03<00:00, 29.26it/s]\n"
          ]
        },
        {
          "name": "stdout",
          "output_type": "stream",
          "text": [
            "<START> PETRUCHIO : I 'll be so . I am I\n",
            "Train Epoch: 38, Loss: 5.0648, LR: 5.196299078795341e-05\n"
          ]
        },
        {
          "name": "stderr",
          "output_type": "stream",
          "text": [
            "100%|██████████| 113/113 [00:03<00:00, 29.27it/s]\n"
          ]
        },
        {
          "name": "stdout",
          "output_type": "stream",
          "text": [
            "<START> PETRUCHIO : I 'll be so . I am I\n",
            "Train Epoch: 39, Loss: 5.0498, LR: 4.999999999999998e-05\n"
          ]
        },
        {
          "name": "stderr",
          "output_type": "stream",
          "text": [
            "100%|██████████| 113/113 [00:03<00:00, 32.54it/s]\n"
          ]
        },
        {
          "name": "stdout",
          "output_type": "stream",
          "text": [
            "<START> PETRUCHIO : I 'll be so . I am I\n",
            "Train Epoch: 40, Loss: 5.0352, LR: 4.8037009212046566e-05\n"
          ]
        },
        {
          "name": "stderr",
          "output_type": "stream",
          "text": [
            "100%|██████████| 113/113 [00:03<00:00, 29.91it/s]\n"
          ]
        },
        {
          "name": "stdout",
          "output_type": "stream",
          "text": [
            "<START> PETRUCHIO : I 'll be so . I am I\n",
            "Train Epoch: 41, Loss: 5.0215, LR: 4.6077045213607746e-05\n"
          ]
        },
        {
          "name": "stderr",
          "output_type": "stream",
          "text": [
            "100%|██████████| 113/113 [00:03<00:00, 29.20it/s]\n"
          ]
        },
        {
          "name": "stdout",
          "output_type": "stream",
          "text": [
            "<START> PETRUCHIO : I 'll be so . I am I\n",
            "Train Epoch: 42, Loss: 5.0086, LR: 4.4123130127108115e-05\n"
          ]
        },
        {
          "name": "stderr",
          "output_type": "stream",
          "text": [
            "100%|██████████| 113/113 [00:03<00:00, 29.07it/s]\n"
          ]
        },
        {
          "name": "stdout",
          "output_type": "stream",
          "text": [
            "<START> PETRUCHIO : I 'll be so . I am I\n",
            "Train Epoch: 43, Loss: 4.9965, LR: 4.217827674798846e-05\n"
          ]
        },
        {
          "name": "stderr",
          "output_type": "stream",
          "text": [
            "100%|██████████| 113/113 [00:03<00:00, 32.20it/s]\n"
          ]
        },
        {
          "name": "stdout",
          "output_type": "stream",
          "text": [
            "<START> PETRUCHIO : I 'll be so . I am I\n",
            "Train Epoch: 44, Loss: 4.9848, LR: 4.024548389919358e-05\n"
          ]
        },
        {
          "name": "stderr",
          "output_type": "stream",
          "text": [
            "100%|██████████| 113/113 [00:03<00:00, 33.19it/s]\n"
          ]
        },
        {
          "name": "stdout",
          "output_type": "stream",
          "text": [
            "<START> PETRUCHIO : I 'll be so . I am I\n",
            "Train Epoch: 45, Loss: 4.9737, LR: 3.832773180720473e-05\n"
          ]
        },
        {
          "name": "stderr",
          "output_type": "stream",
          "text": [
            "100%|██████████| 113/113 [00:03<00:00, 33.33it/s]\n"
          ]
        },
        {
          "name": "stdout",
          "output_type": "stream",
          "text": [
            "<START> PETRUCHIO : I 'll be so . I am I\n",
            "Train Epoch: 46, Loss: 4.9632, LR: 3.642797750674627e-05\n"
          ]
        },
        {
          "name": "stderr",
          "output_type": "stream",
          "text": [
            "100%|██████████| 113/113 [00:03<00:00, 33.29it/s]\n"
          ]
        },
        {
          "name": "stdout",
          "output_type": "stream",
          "text": [
            "<START> PETRUCHIO : I 'll be so . I am I\n",
            "Train Epoch: 47, Loss: 4.9532, LR: 3.454915028125263e-05\n"
          ]
        },
        {
          "name": "stderr",
          "output_type": "stream",
          "text": [
            "100%|██████████| 113/113 [00:03<00:00, 33.21it/s]\n"
          ]
        },
        {
          "name": "stdout",
          "output_type": "stream",
          "text": [
            "<START> PETRUCHIO : I 'll be so . I am I\n",
            "Train Epoch: 48, Loss: 4.9432, LR: 3.269414714612536e-05\n"
          ]
        },
        {
          "name": "stderr",
          "output_type": "stream",
          "text": [
            "100%|██████████| 113/113 [00:03<00:00, 33.40it/s]\n"
          ]
        },
        {
          "name": "stdout",
          "output_type": "stream",
          "text": [
            "<START> PETRUCHIO : I 'll be so . I am I\n",
            "Train Epoch: 49, Loss: 4.9341, LR: 3.086582838174551e-05\n"
          ]
        },
        {
          "name": "stderr",
          "output_type": "stream",
          "text": [
            "100%|██████████| 113/113 [00:03<00:00, 33.16it/s]\n"
          ]
        },
        {
          "name": "stdout",
          "output_type": "stream",
          "text": [
            "<START> PETRUCHIO : I 'll be so . I am I\n",
            "Train Epoch: 50, Loss: 4.9266, LR: 2.9067013123128613e-05\n"
          ]
        },
        {
          "name": "stderr",
          "output_type": "stream",
          "text": [
            "100%|██████████| 113/113 [00:03<00:00, 34.59it/s]\n"
          ]
        },
        {
          "name": "stdout",
          "output_type": "stream",
          "text": [
            "<START> PETRUCHIO : I 'll be so . I am I\n",
            "Train Epoch: 51, Loss: 4.9205, LR: 2.7300475013022666e-05\n"
          ]
        },
        {
          "name": "stderr",
          "output_type": "stream",
          "text": [
            "100%|██████████| 113/113 [00:03<00:00, 33.82it/s]\n"
          ]
        },
        {
          "name": "stdout",
          "output_type": "stream",
          "text": [
            "<START> PETRUCHIO : I 'll be so . I am I\n",
            "Train Epoch: 52, Loss: 4.9139, LR: 2.556893792515225e-05\n"
          ]
        },
        {
          "name": "stderr",
          "output_type": "stream",
          "text": [
            "100%|██████████| 113/113 [00:03<00:00, 33.23it/s]\n"
          ]
        },
        {
          "name": "stdout",
          "output_type": "stream",
          "text": [
            "<START> PETRUCHIO : I 'll be so . I am I\n",
            "Train Epoch: 53, Loss: 4.9064, LR: 2.3875071764202563e-05\n"
          ]
        },
        {
          "name": "stderr",
          "output_type": "stream",
          "text": [
            "100%|██████████| 113/113 [00:03<00:00, 33.09it/s]\n"
          ]
        },
        {
          "name": "stdout",
          "output_type": "stream",
          "text": [
            "<START> PETRUCHIO : I 'll be so . I am I\n",
            "Train Epoch: 54, Loss: 4.8995, LR: 2.222148834901989e-05\n"
          ]
        },
        {
          "name": "stderr",
          "output_type": "stream",
          "text": [
            "100%|██████████| 113/113 [00:03<00:00, 33.22it/s]\n"
          ]
        },
        {
          "name": "stdout",
          "output_type": "stream",
          "text": [
            "<START> PETRUCHIO : I 'll be so . I am I\n",
            "Train Epoch: 55, Loss: 4.8945, LR: 2.0610737385376352e-05\n"
          ]
        },
        {
          "name": "stderr",
          "output_type": "stream",
          "text": [
            "100%|██████████| 113/113 [00:03<00:00, 33.27it/s]\n"
          ]
        },
        {
          "name": "stdout",
          "output_type": "stream",
          "text": [
            "<START> PETRUCHIO : I 'll be so . I am I\n",
            "Train Epoch: 56, Loss: 4.8913, LR: 1.9045302534508318e-05\n"
          ]
        },
        {
          "name": "stderr",
          "output_type": "stream",
          "text": [
            "100%|██████████| 113/113 [00:03<00:00, 33.23it/s]\n"
          ]
        },
        {
          "name": "stdout",
          "output_type": "stream",
          "text": [
            "<START> PETRUCHIO : I 'll be so . I am I\n",
            "Train Epoch: 57, Loss: 4.8891, LR: 1.7527597583490826e-05\n"
          ]
        },
        {
          "name": "stderr",
          "output_type": "stream",
          "text": [
            "100%|██████████| 113/113 [00:03<00:00, 32.99it/s]\n"
          ]
        },
        {
          "name": "stdout",
          "output_type": "stream",
          "text": [
            "<START> PETRUCHIO : I 'll be so . I am I\n",
            "Train Epoch: 58, Loss: 4.8873, LR: 1.6059962723352925e-05\n"
          ]
        },
        {
          "name": "stderr",
          "output_type": "stream",
          "text": [
            "100%|██████████| 113/113 [00:03<00:00, 33.25it/s]\n"
          ]
        },
        {
          "name": "stdout",
          "output_type": "stream",
          "text": [
            "<START> PETRUCHIO : I 'll be so . I am I\n",
            "Train Epoch: 59, Loss: 4.8857, LR: 1.4644660940672629e-05\n"
          ]
        },
        {
          "name": "stderr",
          "output_type": "stream",
          "text": [
            "100%|██████████| 113/113 [00:03<00:00, 33.21it/s]\n"
          ]
        },
        {
          "name": "stdout",
          "output_type": "stream",
          "text": [
            "<START> PETRUCHIO : I 'll be so . I am I\n",
            "Train Epoch: 60, Loss: 4.8850, LR: 1.3283874528215718e-05\n"
          ]
        },
        {
          "name": "stderr",
          "output_type": "stream",
          "text": [
            "100%|██████████| 113/113 [00:03<00:00, 33.17it/s]\n"
          ]
        },
        {
          "name": "stdout",
          "output_type": "stream",
          "text": [
            "<START> DUKE VINCENTIO : I 'll not be so . I\n",
            "Train Epoch: 61, Loss: 4.8853, LR: 1.1979701719998453e-05\n"
          ]
        },
        {
          "name": "stderr",
          "output_type": "stream",
          "text": [
            "100%|██████████| 113/113 [00:03<00:00, 33.11it/s]\n"
          ]
        },
        {
          "name": "stdout",
          "output_type": "stream",
          "text": [
            "<START> DUKE VINCENTIO : I 'll not not , sir .\n",
            "Train Epoch: 62, Loss: 4.8866, LR: 1.0734153455962748e-05\n"
          ]
        },
        {
          "name": "stderr",
          "output_type": "stream",
          "text": [
            "100%|██████████| 113/113 [00:03<00:00, 33.42it/s]\n"
          ]
        },
        {
          "name": "stdout",
          "output_type": "stream",
          "text": [
            "<START> DUKE VINCENTIO : I 'll not not , sir .\n",
            "Train Epoch: 63, Loss: 4.8877, LR: 9.549150281252633e-06\n"
          ]
        },
        {
          "name": "stderr",
          "output_type": "stream",
          "text": [
            "100%|██████████| 113/113 [00:03<00:00, 33.11it/s]\n"
          ]
        },
        {
          "name": "stdout",
          "output_type": "stream",
          "text": [
            "<START> DUKE VINCENTIO : I 'll not not , sir .\n",
            "Train Epoch: 64, Loss: 4.8872, LR: 8.426519384872749e-06\n"
          ]
        },
        {
          "name": "stderr",
          "output_type": "stream",
          "text": [
            "100%|██████████| 113/113 [00:03<00:00, 33.05it/s]\n"
          ]
        },
        {
          "name": "stdout",
          "output_type": "stream",
          "text": [
            "<START> DUKE VINCENTIO : I 'll not not , sir .\n",
            "Train Epoch: 65, Loss: 4.8863, LR: 7.3679917822953905e-06\n"
          ]
        },
        {
          "name": "stderr",
          "output_type": "stream",
          "text": [
            "100%|██████████| 113/113 [00:03<00:00, 33.26it/s]\n"
          ]
        },
        {
          "name": "stdout",
          "output_type": "stream",
          "text": [
            "<START> DUKE VINCENTIO : I 'll not not not . I\n",
            "Train Epoch: 66, Loss: 4.8834, LR: 6.375199646360152e-06\n"
          ]
        },
        {
          "name": "stderr",
          "output_type": "stream",
          "text": [
            "100%|██████████| 113/113 [00:03<00:00, 32.97it/s]\n"
          ]
        },
        {
          "name": "stdout",
          "output_type": "stream",
          "text": [
            "<START> DUKE VINCENTIO : I 'll not not not . I\n",
            "Train Epoch: 67, Loss: 4.8792, LR: 5.44967379058161e-06\n"
          ]
        },
        {
          "name": "stderr",
          "output_type": "stream",
          "text": [
            "100%|██████████| 113/113 [00:03<00:00, 32.79it/s]\n"
          ]
        },
        {
          "name": "stdout",
          "output_type": "stream",
          "text": [
            "<START> DUKE VINCENTIO : I 'll not not not . I\n",
            "Train Epoch: 68, Loss: 4.8754, LR: 4.592841308745932e-06\n"
          ]
        },
        {
          "name": "stderr",
          "output_type": "stream",
          "text": [
            "100%|██████████| 113/113 [00:03<00:00, 33.07it/s]\n"
          ]
        },
        {
          "name": "stdout",
          "output_type": "stream",
          "text": [
            "<START> KING RICHARD III : I am I am I am\n",
            "Train Epoch: 69, Loss: 4.8723, LR: 3.806023374435663e-06\n"
          ]
        },
        {
          "name": "stderr",
          "output_type": "stream",
          "text": [
            "100%|██████████| 113/113 [00:03<00:00, 33.06it/s]\n"
          ]
        },
        {
          "name": "stdout",
          "output_type": "stream",
          "text": [
            "<START> KING RICHARD III : I am I am I am\n",
            "Train Epoch: 70, Loss: 4.8695, LR: 3.0904332038757918e-06\n"
          ]
        },
        {
          "name": "stderr",
          "output_type": "stream",
          "text": [
            "100%|██████████| 113/113 [00:03<00:00, 33.09it/s]\n"
          ]
        },
        {
          "name": "stdout",
          "output_type": "stream",
          "text": [
            "<START> KING RICHARD III : I am I am I am\n",
            "Train Epoch: 71, Loss: 4.8672, LR: 2.447174185242323e-06\n"
          ]
        },
        {
          "name": "stderr",
          "output_type": "stream",
          "text": [
            "100%|██████████| 113/113 [00:03<00:00, 33.29it/s]\n"
          ]
        },
        {
          "name": "stdout",
          "output_type": "stream",
          "text": [
            "<START> KING RICHARD III : I am I am I am\n",
            "Train Epoch: 72, Loss: 4.8653, LR: 1.8772381773176413e-06\n"
          ]
        },
        {
          "name": "stderr",
          "output_type": "stream",
          "text": [
            "100%|██████████| 113/113 [00:03<00:00, 33.12it/s]\n"
          ]
        },
        {
          "name": "stdout",
          "output_type": "stream",
          "text": [
            "<START> KING RICHARD III : I am I am I am\n",
            "Train Epoch: 73, Loss: 4.8636, LR: 1.381503980116172e-06\n"
          ]
        },
        {
          "name": "stderr",
          "output_type": "stream",
          "text": [
            "100%|██████████| 113/113 [00:03<00:00, 33.04it/s]\n"
          ]
        },
        {
          "name": "stdout",
          "output_type": "stream",
          "text": [
            "<START> KING RICHARD III : I am I am I am\n",
            "Train Epoch: 74, Loss: 4.8622, LR: 9.607359798384783e-07\n"
          ]
        },
        {
          "name": "stderr",
          "output_type": "stream",
          "text": [
            "100%|██████████| 113/113 [00:03<00:00, 33.29it/s]\n"
          ]
        },
        {
          "name": "stdout",
          "output_type": "stream",
          "text": [
            "<START> KING RICHARD III : I am I am I am\n",
            "Train Epoch: 75, Loss: 4.8610, LR: 6.155829702431169e-07\n"
          ]
        },
        {
          "name": "stderr",
          "output_type": "stream",
          "text": [
            "100%|██████████| 113/113 [00:03<00:00, 33.11it/s]\n"
          ]
        },
        {
          "name": "stdout",
          "output_type": "stream",
          "text": [
            "<START> KING RICHARD III : I am I am I am\n",
            "Train Epoch: 76, Loss: 4.8602, LR: 3.4657715225368527e-07\n"
          ]
        },
        {
          "name": "stderr",
          "output_type": "stream",
          "text": [
            "100%|██████████| 113/113 [00:03<00:00, 32.94it/s]\n"
          ]
        },
        {
          "name": "stdout",
          "output_type": "stream",
          "text": [
            "<START> KING RICHARD III : I am I am I am\n",
            "Train Epoch: 77, Loss: 4.8595, LR: 1.5413331334360177e-07\n"
          ]
        },
        {
          "name": "stderr",
          "output_type": "stream",
          "text": [
            "100%|██████████| 113/113 [00:03<00:00, 33.29it/s]\n"
          ]
        },
        {
          "name": "stdout",
          "output_type": "stream",
          "text": [
            "<START> KING RICHARD III : I am I am I am\n",
            "Train Epoch: 78, Loss: 4.8591, LR: 3.854818796385494e-08\n"
          ]
        },
        {
          "name": "stderr",
          "output_type": "stream",
          "text": [
            "100%|██████████| 113/113 [00:03<00:00, 33.09it/s]"
          ]
        },
        {
          "name": "stdout",
          "output_type": "stream",
          "text": [
            "<START> KING RICHARD III : I am I am I am\n",
            "Train Epoch: 79, Loss: 4.8589, LR: 0.0\n"
          ]
        },
        {
          "name": "stderr",
          "output_type": "stream",
          "text": [
            "\n"
          ]
        }
      ],
      "source": [
        "# Time estimate: around 30 minutes on T4 GPU\n",
        "# Training\n",
        "import tqdm\n",
        "for epoch in range(NUM_EPOCHS):  # loop over the dataset multiple times\n",
        "    loss_meter = AverageMeter()\n",
        "    for inp_dict in tqdm.tqdm(training_dl):\n",
        "        # get the inputs; data is a list of [inputs, labels]\n",
        "        inp_ids, inp_mask = inp_dict['input_ids'], inp_dict['input_mask']\n",
        "        inp_ids = inp_ids.to(device)\n",
        "        inp_mask = inp_mask.to(device)\n",
        "        # zero the parameter gradients\n",
        "        optimizer.zero_grad()\n",
        "\n",
        "        # forward + backward + optimize\n",
        "        outputs, _ = model(input_ids=inp_ids)\n",
        "        loss = criterion(outputs, inp_ids, inp_mask)\n",
        "        loss_meter.update(loss.item(), len(inp_dict['input_ids']))\n",
        "        loss.backward()\n",
        "        optimizer.step()\n",
        "    scheduler.step()\n",
        "\n",
        "        # print example\n",
        "    inp = tok.encode(\"\").unsqueeze(0).to(device)\n",
        "    print(tok.decode(model.generate(inp, 10)[0].cpu()))\n",
        "\n",
        "    print(f\"Train Epoch: {epoch}, Loss: {loss_meter.calculate():0.4f}, LR: {scheduler.get_last_lr()[0]}\")\n"
      ]
    },
    {
      "cell_type": "markdown",
      "id": "a66ac1b1",
      "metadata": {
        "id": "a66ac1b1"
      },
      "source": [
        "## Part 4.G"
      ]
    },
    {
      "cell_type": "code",
      "execution_count": 139,
      "id": "2c5d1381",
      "metadata": {
        "id": "2c5d1381"
      },
      "outputs": [
        {
          "name": "stdout",
          "output_type": "stream",
          "text": [
            "<START> KING RICHARD III : I am I am I am I have been my lord . I am I am I am I am your honour : I am I am I 'll be a man . I am I have not be a king , I 'll be done\n"
          ]
        }
      ],
      "source": [
        "inp = tok.encode(\"\").unsqueeze(0).to(device)\n",
        "print(tok.decode(model.generate(inp, 50)[0].cpu()))\n"
      ]
    },
    {
      "cell_type": "code",
      "execution_count": null,
      "id": "624f8511",
      "metadata": {},
      "outputs": [],
      "source": []
    }
  ],
  "metadata": {
    "accelerator": "GPU",
    "colab": {
      "provenance": []
    },
    "kernelspec": {
      "display_name": "Python 3 (ipykernel)",
      "language": "python",
      "name": "python3"
    },
    "language_info": {
      "codemirror_mode": {
        "name": "ipython",
        "version": 3
      },
      "file_extension": ".py",
      "mimetype": "text/x-python",
      "name": "python",
      "nbconvert_exporter": "python",
      "pygments_lexer": "ipython3",
      "version": "3.12.7"
    }
  },
  "nbformat": 4,
  "nbformat_minor": 5
}
